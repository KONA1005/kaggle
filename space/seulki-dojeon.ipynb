{
 "cells": [
  {
   "cell_type": "markdown",
   "id": "b94e0f37",
   "metadata": {
    "papermill": {
     "duration": 0.095796,
     "end_time": "2022-04-06T03:28:46.598515",
     "exception": false,
     "start_time": "2022-04-06T03:28:46.502719",
     "status": "completed"
    },
    "tags": []
   },
   "source": [
    "# 프로젝트 개요\n",
    "- 강의명 : 2022년 K-디지털 직업훈련(Training) 사업 - AI데이터플랫폼을 활용한 빅데이터 분석전문가 과정\n",
    "- 교과목명 : 빅데이터 분석 및 시각화, AI개발 기초, 인공지능 프로그래밍\n",
    "- 프로젝트 주제 : Spaceship Titanic 데이터를 활용한 탑승유무 분류모형 개발 \n",
    "- 프로젝트 마감일 : 2022년 4월 12일 화요일\n",
    "- 강사명 : 정지훈 강사\n",
    "- 수강생명 : 정슬기"
   ]
  },
  {
   "cell_type": "code",
   "execution_count": 1,
   "id": "b9f5dbe3",
   "metadata": {
    "_cell_guid": "b1076dfc-b9ad-4769-8c92-a6c4dae69d19",
    "_uuid": "8f2839f25d086af736a60e9eeb907d3b93b6e0e5",
    "execution": {
     "iopub.execute_input": "2022-04-06T03:28:46.759652Z",
     "iopub.status.busy": "2022-04-06T03:28:46.751487Z",
     "iopub.status.idle": "2022-04-06T03:28:46.765429Z",
     "shell.execute_reply": "2022-04-06T03:28:46.766023Z",
     "shell.execute_reply.started": "2022-04-06T03:23:20.349343Z"
    },
    "papermill": {
     "duration": 0.092912,
     "end_time": "2022-04-06T03:28:46.766313",
     "exception": false,
     "start_time": "2022-04-06T03:28:46.673401",
     "status": "completed"
    },
    "tags": []
   },
   "outputs": [
    {
     "name": "stdout",
     "output_type": "stream",
     "text": [
      "/kaggle/input/spaceship-titanic/sample_submission.csv\n",
      "/kaggle/input/spaceship-titanic/train.csv\n",
      "/kaggle/input/spaceship-titanic/test.csv\n"
     ]
    }
   ],
   "source": [
    "# This Python 3 environment comes with many helpful analytics libraries installed\n",
    "# It is defined by the kaggle/python Docker image: https://github.com/kaggle/docker-python\n",
    "# For example, here's several helpful packages to load\n",
    "\n",
    "import numpy as np # linear algebra\n",
    "import pandas as pd # data processing, CSV file I/O (e.g. pd.read_csv)\n",
    "\n",
    "# Input data files are available in the read-only \"../input/\" directory\n",
    "# For example, running this (by clicking run or pressing Shift+Enter) will list all files under the input directory\n",
    "\n",
    "import os\n",
    "for dirname, _, filenames in os.walk('/kaggle/input'):\n",
    "    for filename in filenames:\n",
    "        print(os.path.join(dirname, filename))\n",
    "\n",
    "# You can write up to 20GB to the current directory (/kaggle/working/) that gets preserved as output when you create a version using \"Save & Run All\" \n",
    "# You can also write temporary files to /kaggle/temp/, but they won't be saved outside of the current session"
   ]
  },
  {
   "cell_type": "markdown",
   "id": "163b3966",
   "metadata": {
    "papermill": {
     "duration": 0.079572,
     "end_time": "2022-04-06T03:28:46.925567",
     "exception": false,
     "start_time": "2022-04-06T03:28:46.845995",
     "status": "completed"
    },
    "tags": []
   },
   "source": [
    "# Step1.라이브러리 및 데이터 불러오기\n",
    "- 라이브러리 버전 확인!"
   ]
  },
  {
   "cell_type": "code",
   "execution_count": 2,
   "id": "b592ebf0",
   "metadata": {
    "execution": {
     "iopub.execute_input": "2022-04-06T03:28:47.090532Z",
     "iopub.status.busy": "2022-04-06T03:28:47.089792Z",
     "iopub.status.idle": "2022-04-06T03:28:48.061995Z",
     "shell.execute_reply": "2022-04-06T03:28:48.061147Z",
     "shell.execute_reply.started": "2022-04-06T03:23:20.381904Z"
    },
    "papermill": {
     "duration": 1.054578,
     "end_time": "2022-04-06T03:28:48.062202",
     "exception": false,
     "start_time": "2022-04-06T03:28:47.007624",
     "status": "completed"
    },
    "tags": []
   },
   "outputs": [
    {
     "name": "stdout",
     "output_type": "stream",
     "text": [
      "1.3.5\n",
      "1.20.3\n",
      "matplotlib version: 3.5.1\n",
      "seaborn version: 0.11.2\n"
     ]
    }
   ],
   "source": [
    "import pandas as pd\n",
    "import numpy as np\n",
    "import matplotlib\n",
    "import matplotlib.pyplot as plt\n",
    "import seaborn as sns\n",
    "\n",
    "\n",
    "print(pd.__version__)\n",
    "print(np.__version__)\n",
    "print(\"matplotlib version:\", matplotlib.__version__)\n",
    "print(\"seaborn version:\", sns.__version__)"
   ]
  },
  {
   "cell_type": "code",
   "execution_count": 3,
   "id": "1d8cf029",
   "metadata": {
    "execution": {
     "iopub.execute_input": "2022-04-06T03:28:48.219259Z",
     "iopub.status.busy": "2022-04-06T03:28:48.218447Z",
     "iopub.status.idle": "2022-04-06T03:28:48.243067Z",
     "shell.execute_reply": "2022-04-06T03:28:48.243673Z",
     "shell.execute_reply.started": "2022-04-06T03:23:21.530252Z"
    },
    "papermill": {
     "duration": 0.105512,
     "end_time": "2022-04-06T03:28:48.243865",
     "exception": false,
     "start_time": "2022-04-06T03:28:48.138353",
     "status": "completed"
    },
    "tags": []
   },
   "outputs": [
    {
     "data": {
      "text/html": [
       "<div>\n",
       "<style scoped>\n",
       "    .dataframe tbody tr th:only-of-type {\n",
       "        vertical-align: middle;\n",
       "    }\n",
       "\n",
       "    .dataframe tbody tr th {\n",
       "        vertical-align: top;\n",
       "    }\n",
       "\n",
       "    .dataframe thead th {\n",
       "        text-align: right;\n",
       "    }\n",
       "</style>\n",
       "<table border=\"1\" class=\"dataframe\">\n",
       "  <thead>\n",
       "    <tr style=\"text-align: right;\">\n",
       "      <th></th>\n",
       "      <th>PassengerId</th>\n",
       "      <th>Transported</th>\n",
       "    </tr>\n",
       "  </thead>\n",
       "  <tbody>\n",
       "    <tr>\n",
       "      <th>0</th>\n",
       "      <td>0013_01</td>\n",
       "      <td>False</td>\n",
       "    </tr>\n",
       "    <tr>\n",
       "      <th>1</th>\n",
       "      <td>0018_01</td>\n",
       "      <td>False</td>\n",
       "    </tr>\n",
       "    <tr>\n",
       "      <th>2</th>\n",
       "      <td>0019_01</td>\n",
       "      <td>False</td>\n",
       "    </tr>\n",
       "    <tr>\n",
       "      <th>3</th>\n",
       "      <td>0021_01</td>\n",
       "      <td>False</td>\n",
       "    </tr>\n",
       "    <tr>\n",
       "      <th>4</th>\n",
       "      <td>0023_01</td>\n",
       "      <td>False</td>\n",
       "    </tr>\n",
       "  </tbody>\n",
       "</table>\n",
       "</div>"
      ],
      "text/plain": [
       "  PassengerId  Transported\n",
       "0     0013_01        False\n",
       "1     0018_01        False\n",
       "2     0019_01        False\n",
       "3     0021_01        False\n",
       "4     0023_01        False"
      ]
     },
     "execution_count": 3,
     "metadata": {},
     "output_type": "execute_result"
    }
   ],
   "source": [
    "submission = pd.read_csv(\"/kaggle/input/spaceship-titanic/sample_submission.csv\")\n",
    "submission.head()"
   ]
  },
  {
   "cell_type": "code",
   "execution_count": 4,
   "id": "da8fac66",
   "metadata": {
    "execution": {
     "iopub.execute_input": "2022-04-06T03:28:48.399330Z",
     "iopub.status.busy": "2022-04-06T03:28:48.398639Z",
     "iopub.status.idle": "2022-04-06T03:28:48.466183Z",
     "shell.execute_reply": "2022-04-06T03:28:48.465564Z",
     "shell.execute_reply.started": "2022-04-06T03:23:21.567051Z"
    },
    "papermill": {
     "duration": 0.145901,
     "end_time": "2022-04-06T03:28:48.466323",
     "exception": false,
     "start_time": "2022-04-06T03:28:48.320422",
     "status": "completed"
    },
    "tags": []
   },
   "outputs": [
    {
     "data": {
      "text/html": [
       "<div>\n",
       "<style scoped>\n",
       "    .dataframe tbody tr th:only-of-type {\n",
       "        vertical-align: middle;\n",
       "    }\n",
       "\n",
       "    .dataframe tbody tr th {\n",
       "        vertical-align: top;\n",
       "    }\n",
       "\n",
       "    .dataframe thead th {\n",
       "        text-align: right;\n",
       "    }\n",
       "</style>\n",
       "<table border=\"1\" class=\"dataframe\">\n",
       "  <thead>\n",
       "    <tr style=\"text-align: right;\">\n",
       "      <th></th>\n",
       "      <th>PassengerId</th>\n",
       "      <th>HomePlanet</th>\n",
       "      <th>CryoSleep</th>\n",
       "      <th>Cabin</th>\n",
       "      <th>Destination</th>\n",
       "      <th>Age</th>\n",
       "      <th>VIP</th>\n",
       "      <th>RoomService</th>\n",
       "      <th>FoodCourt</th>\n",
       "      <th>ShoppingMall</th>\n",
       "      <th>Spa</th>\n",
       "      <th>VRDeck</th>\n",
       "      <th>Name</th>\n",
       "      <th>Transported</th>\n",
       "    </tr>\n",
       "  </thead>\n",
       "  <tbody>\n",
       "    <tr>\n",
       "      <th>0</th>\n",
       "      <td>0001_01</td>\n",
       "      <td>Europa</td>\n",
       "      <td>False</td>\n",
       "      <td>B/0/P</td>\n",
       "      <td>TRAPPIST-1e</td>\n",
       "      <td>39.0</td>\n",
       "      <td>False</td>\n",
       "      <td>0.0</td>\n",
       "      <td>0.0</td>\n",
       "      <td>0.0</td>\n",
       "      <td>0.0</td>\n",
       "      <td>0.0</td>\n",
       "      <td>Maham Ofracculy</td>\n",
       "      <td>False</td>\n",
       "    </tr>\n",
       "    <tr>\n",
       "      <th>1</th>\n",
       "      <td>0002_01</td>\n",
       "      <td>Earth</td>\n",
       "      <td>False</td>\n",
       "      <td>F/0/S</td>\n",
       "      <td>TRAPPIST-1e</td>\n",
       "      <td>24.0</td>\n",
       "      <td>False</td>\n",
       "      <td>109.0</td>\n",
       "      <td>9.0</td>\n",
       "      <td>25.0</td>\n",
       "      <td>549.0</td>\n",
       "      <td>44.0</td>\n",
       "      <td>Juanna Vines</td>\n",
       "      <td>True</td>\n",
       "    </tr>\n",
       "    <tr>\n",
       "      <th>2</th>\n",
       "      <td>0003_01</td>\n",
       "      <td>Europa</td>\n",
       "      <td>False</td>\n",
       "      <td>A/0/S</td>\n",
       "      <td>TRAPPIST-1e</td>\n",
       "      <td>58.0</td>\n",
       "      <td>True</td>\n",
       "      <td>43.0</td>\n",
       "      <td>3576.0</td>\n",
       "      <td>0.0</td>\n",
       "      <td>6715.0</td>\n",
       "      <td>49.0</td>\n",
       "      <td>Altark Susent</td>\n",
       "      <td>False</td>\n",
       "    </tr>\n",
       "    <tr>\n",
       "      <th>3</th>\n",
       "      <td>0003_02</td>\n",
       "      <td>Europa</td>\n",
       "      <td>False</td>\n",
       "      <td>A/0/S</td>\n",
       "      <td>TRAPPIST-1e</td>\n",
       "      <td>33.0</td>\n",
       "      <td>False</td>\n",
       "      <td>0.0</td>\n",
       "      <td>1283.0</td>\n",
       "      <td>371.0</td>\n",
       "      <td>3329.0</td>\n",
       "      <td>193.0</td>\n",
       "      <td>Solam Susent</td>\n",
       "      <td>False</td>\n",
       "    </tr>\n",
       "    <tr>\n",
       "      <th>4</th>\n",
       "      <td>0004_01</td>\n",
       "      <td>Earth</td>\n",
       "      <td>False</td>\n",
       "      <td>F/1/S</td>\n",
       "      <td>TRAPPIST-1e</td>\n",
       "      <td>16.0</td>\n",
       "      <td>False</td>\n",
       "      <td>303.0</td>\n",
       "      <td>70.0</td>\n",
       "      <td>151.0</td>\n",
       "      <td>565.0</td>\n",
       "      <td>2.0</td>\n",
       "      <td>Willy Santantines</td>\n",
       "      <td>True</td>\n",
       "    </tr>\n",
       "  </tbody>\n",
       "</table>\n",
       "</div>"
      ],
      "text/plain": [
       "  PassengerId HomePlanet CryoSleep  Cabin  Destination   Age    VIP  \\\n",
       "0     0001_01     Europa     False  B/0/P  TRAPPIST-1e  39.0  False   \n",
       "1     0002_01      Earth     False  F/0/S  TRAPPIST-1e  24.0  False   \n",
       "2     0003_01     Europa     False  A/0/S  TRAPPIST-1e  58.0   True   \n",
       "3     0003_02     Europa     False  A/0/S  TRAPPIST-1e  33.0  False   \n",
       "4     0004_01      Earth     False  F/1/S  TRAPPIST-1e  16.0  False   \n",
       "\n",
       "   RoomService  FoodCourt  ShoppingMall     Spa  VRDeck               Name  \\\n",
       "0          0.0        0.0           0.0     0.0     0.0    Maham Ofracculy   \n",
       "1        109.0        9.0          25.0   549.0    44.0       Juanna Vines   \n",
       "2         43.0     3576.0           0.0  6715.0    49.0      Altark Susent   \n",
       "3          0.0     1283.0         371.0  3329.0   193.0       Solam Susent   \n",
       "4        303.0       70.0         151.0   565.0     2.0  Willy Santantines   \n",
       "\n",
       "   Transported  \n",
       "0        False  \n",
       "1         True  \n",
       "2        False  \n",
       "3        False  \n",
       "4         True  "
      ]
     },
     "execution_count": 4,
     "metadata": {},
     "output_type": "execute_result"
    }
   ],
   "source": [
    "train = pd.read_csv(\"/kaggle/input/spaceship-titanic/train.csv\")\n",
    "train.head()\n",
    "# 모델 학습 에 필요한 데이터 "
   ]
  },
  {
   "cell_type": "code",
   "execution_count": 5,
   "id": "2ed59eb3",
   "metadata": {
    "execution": {
     "iopub.execute_input": "2022-04-06T03:28:48.624572Z",
     "iopub.status.busy": "2022-04-06T03:28:48.623784Z",
     "iopub.status.idle": "2022-04-06T03:28:48.665809Z",
     "shell.execute_reply": "2022-04-06T03:28:48.666452Z",
     "shell.execute_reply.started": "2022-04-06T03:23:21.640983Z"
    },
    "papermill": {
     "duration": 0.123646,
     "end_time": "2022-04-06T03:28:48.666629",
     "exception": false,
     "start_time": "2022-04-06T03:28:48.542983",
     "status": "completed"
    },
    "tags": []
   },
   "outputs": [
    {
     "data": {
      "text/html": [
       "<div>\n",
       "<style scoped>\n",
       "    .dataframe tbody tr th:only-of-type {\n",
       "        vertical-align: middle;\n",
       "    }\n",
       "\n",
       "    .dataframe tbody tr th {\n",
       "        vertical-align: top;\n",
       "    }\n",
       "\n",
       "    .dataframe thead th {\n",
       "        text-align: right;\n",
       "    }\n",
       "</style>\n",
       "<table border=\"1\" class=\"dataframe\">\n",
       "  <thead>\n",
       "    <tr style=\"text-align: right;\">\n",
       "      <th></th>\n",
       "      <th>PassengerId</th>\n",
       "      <th>HomePlanet</th>\n",
       "      <th>CryoSleep</th>\n",
       "      <th>Cabin</th>\n",
       "      <th>Destination</th>\n",
       "      <th>Age</th>\n",
       "      <th>VIP</th>\n",
       "      <th>RoomService</th>\n",
       "      <th>FoodCourt</th>\n",
       "      <th>ShoppingMall</th>\n",
       "      <th>Spa</th>\n",
       "      <th>VRDeck</th>\n",
       "      <th>Name</th>\n",
       "    </tr>\n",
       "  </thead>\n",
       "  <tbody>\n",
       "    <tr>\n",
       "      <th>0</th>\n",
       "      <td>0013_01</td>\n",
       "      <td>Earth</td>\n",
       "      <td>True</td>\n",
       "      <td>G/3/S</td>\n",
       "      <td>TRAPPIST-1e</td>\n",
       "      <td>27.0</td>\n",
       "      <td>False</td>\n",
       "      <td>0.0</td>\n",
       "      <td>0.0</td>\n",
       "      <td>0.0</td>\n",
       "      <td>0.0</td>\n",
       "      <td>0.0</td>\n",
       "      <td>Nelly Carsoning</td>\n",
       "    </tr>\n",
       "    <tr>\n",
       "      <th>1</th>\n",
       "      <td>0018_01</td>\n",
       "      <td>Earth</td>\n",
       "      <td>False</td>\n",
       "      <td>F/4/S</td>\n",
       "      <td>TRAPPIST-1e</td>\n",
       "      <td>19.0</td>\n",
       "      <td>False</td>\n",
       "      <td>0.0</td>\n",
       "      <td>9.0</td>\n",
       "      <td>0.0</td>\n",
       "      <td>2823.0</td>\n",
       "      <td>0.0</td>\n",
       "      <td>Lerome Peckers</td>\n",
       "    </tr>\n",
       "    <tr>\n",
       "      <th>2</th>\n",
       "      <td>0019_01</td>\n",
       "      <td>Europa</td>\n",
       "      <td>True</td>\n",
       "      <td>C/0/S</td>\n",
       "      <td>55 Cancri e</td>\n",
       "      <td>31.0</td>\n",
       "      <td>False</td>\n",
       "      <td>0.0</td>\n",
       "      <td>0.0</td>\n",
       "      <td>0.0</td>\n",
       "      <td>0.0</td>\n",
       "      <td>0.0</td>\n",
       "      <td>Sabih Unhearfus</td>\n",
       "    </tr>\n",
       "    <tr>\n",
       "      <th>3</th>\n",
       "      <td>0021_01</td>\n",
       "      <td>Europa</td>\n",
       "      <td>False</td>\n",
       "      <td>C/1/S</td>\n",
       "      <td>TRAPPIST-1e</td>\n",
       "      <td>38.0</td>\n",
       "      <td>False</td>\n",
       "      <td>0.0</td>\n",
       "      <td>6652.0</td>\n",
       "      <td>0.0</td>\n",
       "      <td>181.0</td>\n",
       "      <td>585.0</td>\n",
       "      <td>Meratz Caltilter</td>\n",
       "    </tr>\n",
       "    <tr>\n",
       "      <th>4</th>\n",
       "      <td>0023_01</td>\n",
       "      <td>Earth</td>\n",
       "      <td>False</td>\n",
       "      <td>F/5/S</td>\n",
       "      <td>TRAPPIST-1e</td>\n",
       "      <td>20.0</td>\n",
       "      <td>False</td>\n",
       "      <td>10.0</td>\n",
       "      <td>0.0</td>\n",
       "      <td>635.0</td>\n",
       "      <td>0.0</td>\n",
       "      <td>0.0</td>\n",
       "      <td>Brence Harperez</td>\n",
       "    </tr>\n",
       "  </tbody>\n",
       "</table>\n",
       "</div>"
      ],
      "text/plain": [
       "  PassengerId HomePlanet CryoSleep  Cabin  Destination   Age    VIP  \\\n",
       "0     0013_01      Earth      True  G/3/S  TRAPPIST-1e  27.0  False   \n",
       "1     0018_01      Earth     False  F/4/S  TRAPPIST-1e  19.0  False   \n",
       "2     0019_01     Europa      True  C/0/S  55 Cancri e  31.0  False   \n",
       "3     0021_01     Europa     False  C/1/S  TRAPPIST-1e  38.0  False   \n",
       "4     0023_01      Earth     False  F/5/S  TRAPPIST-1e  20.0  False   \n",
       "\n",
       "   RoomService  FoodCourt  ShoppingMall     Spa  VRDeck              Name  \n",
       "0          0.0        0.0           0.0     0.0     0.0   Nelly Carsoning  \n",
       "1          0.0        9.0           0.0  2823.0     0.0    Lerome Peckers  \n",
       "2          0.0        0.0           0.0     0.0     0.0   Sabih Unhearfus  \n",
       "3          0.0     6652.0           0.0   181.0   585.0  Meratz Caltilter  \n",
       "4         10.0        0.0         635.0     0.0     0.0   Brence Harperez  "
      ]
     },
     "execution_count": 5,
     "metadata": {},
     "output_type": "execute_result"
    }
   ],
   "source": [
    "test = pd.read_csv(\"/kaggle/input/spaceship-titanic/test.csv\")\n",
    "test.head()\n",
    "# 모델 적용 대상 데이터"
   ]
  },
  {
   "cell_type": "code",
   "execution_count": 6,
   "id": "a0930a0c",
   "metadata": {
    "execution": {
     "iopub.execute_input": "2022-04-06T03:28:48.822755Z",
     "iopub.status.busy": "2022-04-06T03:28:48.822095Z",
     "iopub.status.idle": "2022-04-06T03:28:48.851812Z",
     "shell.execute_reply": "2022-04-06T03:28:48.850918Z",
     "shell.execute_reply.started": "2022-04-06T03:23:21.692397Z"
    },
    "papermill": {
     "duration": 0.108705,
     "end_time": "2022-04-06T03:28:48.852014",
     "exception": false,
     "start_time": "2022-04-06T03:28:48.743309",
     "status": "completed"
    },
    "tags": []
   },
   "outputs": [
    {
     "name": "stdout",
     "output_type": "stream",
     "text": [
      "<class 'pandas.core.frame.DataFrame'>\n",
      "RangeIndex: 8693 entries, 0 to 8692\n",
      "Data columns (total 14 columns):\n",
      " #   Column        Non-Null Count  Dtype  \n",
      "---  ------        --------------  -----  \n",
      " 0   PassengerId   8693 non-null   object \n",
      " 1   HomePlanet    8492 non-null   object \n",
      " 2   CryoSleep     8476 non-null   object \n",
      " 3   Cabin         8494 non-null   object \n",
      " 4   Destination   8511 non-null   object \n",
      " 5   Age           8514 non-null   float64\n",
      " 6   VIP           8490 non-null   object \n",
      " 7   RoomService   8512 non-null   float64\n",
      " 8   FoodCourt     8510 non-null   float64\n",
      " 9   ShoppingMall  8485 non-null   float64\n",
      " 10  Spa           8510 non-null   float64\n",
      " 11  VRDeck        8505 non-null   float64\n",
      " 12  Name          8493 non-null   object \n",
      " 13  Transported   8693 non-null   bool   \n",
      "dtypes: bool(1), float64(6), object(7)\n",
      "memory usage: 891.5+ KB\n"
     ]
    }
   ],
   "source": [
    "train.info()"
   ]
  },
  {
   "cell_type": "markdown",
   "id": "d1c05273",
   "metadata": {
    "papermill": {
     "duration": 0.076695,
     "end_time": "2022-04-06T03:28:49.006536",
     "exception": false,
     "start_time": "2022-04-06T03:28:48.929841",
     "status": "completed"
    },
    "tags": []
   },
   "source": [
    "- 예측해야할 종속변수는 Transported로 확인"
   ]
  },
  {
   "cell_type": "code",
   "execution_count": 7,
   "id": "45a989ea",
   "metadata": {
    "execution": {
     "iopub.execute_input": "2022-04-06T03:28:49.167759Z",
     "iopub.status.busy": "2022-04-06T03:28:49.167030Z",
     "iopub.status.idle": "2022-04-06T03:28:49.179900Z",
     "shell.execute_reply": "2022-04-06T03:28:49.180639Z",
     "shell.execute_reply.started": "2022-04-06T03:23:21.727423Z"
    },
    "papermill": {
     "duration": 0.096029,
     "end_time": "2022-04-06T03:28:49.180871",
     "exception": false,
     "start_time": "2022-04-06T03:28:49.084842",
     "status": "completed"
    },
    "tags": []
   },
   "outputs": [
    {
     "name": "stdout",
     "output_type": "stream",
     "text": [
      "<class 'pandas.core.frame.DataFrame'>\n",
      "RangeIndex: 4277 entries, 0 to 4276\n",
      "Data columns (total 13 columns):\n",
      " #   Column        Non-Null Count  Dtype  \n",
      "---  ------        --------------  -----  \n",
      " 0   PassengerId   4277 non-null   object \n",
      " 1   HomePlanet    4190 non-null   object \n",
      " 2   CryoSleep     4184 non-null   object \n",
      " 3   Cabin         4177 non-null   object \n",
      " 4   Destination   4185 non-null   object \n",
      " 5   Age           4186 non-null   float64\n",
      " 6   VIP           4184 non-null   object \n",
      " 7   RoomService   4195 non-null   float64\n",
      " 8   FoodCourt     4171 non-null   float64\n",
      " 9   ShoppingMall  4179 non-null   float64\n",
      " 10  Spa           4176 non-null   float64\n",
      " 11  VRDeck        4197 non-null   float64\n",
      " 12  Name          4183 non-null   object \n",
      "dtypes: float64(6), object(7)\n",
      "memory usage: 434.5+ KB\n"
     ]
    }
   ],
   "source": [
    "test.info()"
   ]
  },
  {
   "cell_type": "code",
   "execution_count": 8,
   "id": "28a75afb",
   "metadata": {
    "execution": {
     "iopub.execute_input": "2022-04-06T03:28:49.340254Z",
     "iopub.status.busy": "2022-04-06T03:28:49.339615Z",
     "iopub.status.idle": "2022-04-06T03:28:49.349869Z",
     "shell.execute_reply": "2022-04-06T03:28:49.350551Z",
     "shell.execute_reply.started": "2022-04-06T03:23:21.747680Z"
    },
    "papermill": {
     "duration": 0.091482,
     "end_time": "2022-04-06T03:28:49.350778",
     "exception": false,
     "start_time": "2022-04-06T03:28:49.259296",
     "status": "completed"
    },
    "tags": []
   },
   "outputs": [
    {
     "name": "stdout",
     "output_type": "stream",
     "text": [
      "<class 'pandas.core.frame.DataFrame'>\n",
      "RangeIndex: 4277 entries, 0 to 4276\n",
      "Data columns (total 2 columns):\n",
      " #   Column       Non-Null Count  Dtype \n",
      "---  ------       --------------  ----- \n",
      " 0   PassengerId  4277 non-null   object\n",
      " 1   Transported  4277 non-null   bool  \n",
      "dtypes: bool(1), object(1)\n",
      "memory usage: 37.7+ KB\n"
     ]
    }
   ],
   "source": [
    "submission.info()"
   ]
  },
  {
   "cell_type": "code",
   "execution_count": 9,
   "id": "99fbd76f",
   "metadata": {
    "execution": {
     "iopub.execute_input": "2022-04-06T03:28:49.511003Z",
     "iopub.status.busy": "2022-04-06T03:28:49.510371Z",
     "iopub.status.idle": "2022-04-06T03:28:49.515689Z",
     "shell.execute_reply": "2022-04-06T03:28:49.516349Z",
     "shell.execute_reply.started": "2022-04-06T03:23:21.767087Z"
    },
    "papermill": {
     "duration": 0.08684,
     "end_time": "2022-04-06T03:28:49.516571",
     "exception": false,
     "start_time": "2022-04-06T03:28:49.429731",
     "status": "completed"
    },
    "tags": []
   },
   "outputs": [
    {
     "name": "stdout",
     "output_type": "stream",
     "text": [
      "\u001b[94m train set have 8693 rows and 14 columns.\n",
      "\u001b[94m test set have 4277 rows and 13 columns.\n",
      "\u001b[94m submission set have 4277 rows and 2 columns.\n"
     ]
    }
   ],
   "source": [
    "print(f'\\033[94m train set have {train.shape[0]} rows and {train.shape[1]} columns.') #문자색 지정\n",
    "print(f'\\033[94m test set have {test.shape[0]} rows and {test.shape[1]} columns.') \n",
    "print(f'\\033[94m submission set have {submission.shape[0]} rows and {submission.shape[1]} columns.') "
   ]
  },
  {
   "cell_type": "code",
   "execution_count": 10,
   "id": "2f8c823d",
   "metadata": {
    "execution": {
     "iopub.execute_input": "2022-04-06T03:28:49.679950Z",
     "iopub.status.busy": "2022-04-06T03:28:49.679290Z",
     "iopub.status.idle": "2022-04-06T03:28:49.705800Z",
     "shell.execute_reply": "2022-04-06T03:28:49.706397Z",
     "shell.execute_reply.started": "2022-04-06T03:23:21.782504Z"
    },
    "papermill": {
     "duration": 0.110281,
     "end_time": "2022-04-06T03:28:49.706565",
     "exception": false,
     "start_time": "2022-04-06T03:28:49.596284",
     "status": "completed"
    },
    "tags": []
   },
   "outputs": [
    {
     "data": {
      "text/html": [
       "<div>\n",
       "<style scoped>\n",
       "    .dataframe tbody tr th:only-of-type {\n",
       "        vertical-align: middle;\n",
       "    }\n",
       "\n",
       "    .dataframe tbody tr th {\n",
       "        vertical-align: top;\n",
       "    }\n",
       "\n",
       "    .dataframe thead th {\n",
       "        text-align: right;\n",
       "    }\n",
       "</style>\n",
       "<table border=\"1\" class=\"dataframe\">\n",
       "  <thead>\n",
       "    <tr style=\"text-align: right;\">\n",
       "      <th></th>\n",
       "      <th>Age</th>\n",
       "      <th>RoomService</th>\n",
       "      <th>FoodCourt</th>\n",
       "      <th>ShoppingMall</th>\n",
       "      <th>Spa</th>\n",
       "      <th>VRDeck</th>\n",
       "    </tr>\n",
       "  </thead>\n",
       "  <tbody>\n",
       "    <tr>\n",
       "      <th>count</th>\n",
       "      <td>8514.000000</td>\n",
       "      <td>8512.000000</td>\n",
       "      <td>8510.000000</td>\n",
       "      <td>8485.000000</td>\n",
       "      <td>8510.000000</td>\n",
       "      <td>8505.000000</td>\n",
       "    </tr>\n",
       "    <tr>\n",
       "      <th>mean</th>\n",
       "      <td>28.827930</td>\n",
       "      <td>224.687617</td>\n",
       "      <td>458.077203</td>\n",
       "      <td>173.729169</td>\n",
       "      <td>311.138778</td>\n",
       "      <td>304.854791</td>\n",
       "    </tr>\n",
       "    <tr>\n",
       "      <th>std</th>\n",
       "      <td>14.489021</td>\n",
       "      <td>666.717663</td>\n",
       "      <td>1611.489240</td>\n",
       "      <td>604.696458</td>\n",
       "      <td>1136.705535</td>\n",
       "      <td>1145.717189</td>\n",
       "    </tr>\n",
       "    <tr>\n",
       "      <th>min</th>\n",
       "      <td>0.000000</td>\n",
       "      <td>0.000000</td>\n",
       "      <td>0.000000</td>\n",
       "      <td>0.000000</td>\n",
       "      <td>0.000000</td>\n",
       "      <td>0.000000</td>\n",
       "    </tr>\n",
       "    <tr>\n",
       "      <th>25%</th>\n",
       "      <td>19.000000</td>\n",
       "      <td>0.000000</td>\n",
       "      <td>0.000000</td>\n",
       "      <td>0.000000</td>\n",
       "      <td>0.000000</td>\n",
       "      <td>0.000000</td>\n",
       "    </tr>\n",
       "    <tr>\n",
       "      <th>50%</th>\n",
       "      <td>27.000000</td>\n",
       "      <td>0.000000</td>\n",
       "      <td>0.000000</td>\n",
       "      <td>0.000000</td>\n",
       "      <td>0.000000</td>\n",
       "      <td>0.000000</td>\n",
       "    </tr>\n",
       "    <tr>\n",
       "      <th>75%</th>\n",
       "      <td>38.000000</td>\n",
       "      <td>47.000000</td>\n",
       "      <td>76.000000</td>\n",
       "      <td>27.000000</td>\n",
       "      <td>59.000000</td>\n",
       "      <td>46.000000</td>\n",
       "    </tr>\n",
       "    <tr>\n",
       "      <th>max</th>\n",
       "      <td>79.000000</td>\n",
       "      <td>14327.000000</td>\n",
       "      <td>29813.000000</td>\n",
       "      <td>23492.000000</td>\n",
       "      <td>22408.000000</td>\n",
       "      <td>24133.000000</td>\n",
       "    </tr>\n",
       "  </tbody>\n",
       "</table>\n",
       "</div>"
      ],
      "text/plain": [
       "               Age   RoomService     FoodCourt  ShoppingMall           Spa  \\\n",
       "count  8514.000000   8512.000000   8510.000000   8485.000000   8510.000000   \n",
       "mean     28.827930    224.687617    458.077203    173.729169    311.138778   \n",
       "std      14.489021    666.717663   1611.489240    604.696458   1136.705535   \n",
       "min       0.000000      0.000000      0.000000      0.000000      0.000000   \n",
       "25%      19.000000      0.000000      0.000000      0.000000      0.000000   \n",
       "50%      27.000000      0.000000      0.000000      0.000000      0.000000   \n",
       "75%      38.000000     47.000000     76.000000     27.000000     59.000000   \n",
       "max      79.000000  14327.000000  29813.000000  23492.000000  22408.000000   \n",
       "\n",
       "             VRDeck  \n",
       "count   8505.000000  \n",
       "mean     304.854791  \n",
       "std     1145.717189  \n",
       "min        0.000000  \n",
       "25%        0.000000  \n",
       "50%        0.000000  \n",
       "75%       46.000000  \n",
       "max    24133.000000  "
      ]
     },
     "execution_count": 10,
     "metadata": {},
     "output_type": "execute_result"
    }
   ],
   "source": [
    "train.describe()"
   ]
  },
  {
   "cell_type": "code",
   "execution_count": 11,
   "id": "da8a5244",
   "metadata": {
    "execution": {
     "iopub.execute_input": "2022-04-06T03:28:49.871115Z",
     "iopub.status.busy": "2022-04-06T03:28:49.867608Z",
     "iopub.status.idle": "2022-04-06T03:28:49.893249Z",
     "shell.execute_reply": "2022-04-06T03:28:49.893694Z",
     "shell.execute_reply.started": "2022-04-06T03:23:21.829190Z"
    },
    "papermill": {
     "duration": 0.107565,
     "end_time": "2022-04-06T03:28:49.893886",
     "exception": false,
     "start_time": "2022-04-06T03:28:49.786321",
     "status": "completed"
    },
    "tags": []
   },
   "outputs": [
    {
     "data": {
      "text/html": [
       "<div>\n",
       "<style scoped>\n",
       "    .dataframe tbody tr th:only-of-type {\n",
       "        vertical-align: middle;\n",
       "    }\n",
       "\n",
       "    .dataframe tbody tr th {\n",
       "        vertical-align: top;\n",
       "    }\n",
       "\n",
       "    .dataframe thead th {\n",
       "        text-align: right;\n",
       "    }\n",
       "</style>\n",
       "<table border=\"1\" class=\"dataframe\">\n",
       "  <thead>\n",
       "    <tr style=\"text-align: right;\">\n",
       "      <th></th>\n",
       "      <th>Age</th>\n",
       "      <th>RoomService</th>\n",
       "      <th>FoodCourt</th>\n",
       "      <th>ShoppingMall</th>\n",
       "      <th>Spa</th>\n",
       "      <th>VRDeck</th>\n",
       "    </tr>\n",
       "  </thead>\n",
       "  <tbody>\n",
       "    <tr>\n",
       "      <th>count</th>\n",
       "      <td>4186.000000</td>\n",
       "      <td>4195.000000</td>\n",
       "      <td>4171.000000</td>\n",
       "      <td>4179.000000</td>\n",
       "      <td>4176.000000</td>\n",
       "      <td>4197.000000</td>\n",
       "    </tr>\n",
       "    <tr>\n",
       "      <th>mean</th>\n",
       "      <td>28.658146</td>\n",
       "      <td>219.266269</td>\n",
       "      <td>439.484296</td>\n",
       "      <td>177.295525</td>\n",
       "      <td>303.052443</td>\n",
       "      <td>310.710031</td>\n",
       "    </tr>\n",
       "    <tr>\n",
       "      <th>std</th>\n",
       "      <td>14.179072</td>\n",
       "      <td>607.011289</td>\n",
       "      <td>1527.663045</td>\n",
       "      <td>560.821123</td>\n",
       "      <td>1117.186015</td>\n",
       "      <td>1246.994742</td>\n",
       "    </tr>\n",
       "    <tr>\n",
       "      <th>min</th>\n",
       "      <td>0.000000</td>\n",
       "      <td>0.000000</td>\n",
       "      <td>0.000000</td>\n",
       "      <td>0.000000</td>\n",
       "      <td>0.000000</td>\n",
       "      <td>0.000000</td>\n",
       "    </tr>\n",
       "    <tr>\n",
       "      <th>25%</th>\n",
       "      <td>19.000000</td>\n",
       "      <td>0.000000</td>\n",
       "      <td>0.000000</td>\n",
       "      <td>0.000000</td>\n",
       "      <td>0.000000</td>\n",
       "      <td>0.000000</td>\n",
       "    </tr>\n",
       "    <tr>\n",
       "      <th>50%</th>\n",
       "      <td>26.000000</td>\n",
       "      <td>0.000000</td>\n",
       "      <td>0.000000</td>\n",
       "      <td>0.000000</td>\n",
       "      <td>0.000000</td>\n",
       "      <td>0.000000</td>\n",
       "    </tr>\n",
       "    <tr>\n",
       "      <th>75%</th>\n",
       "      <td>37.000000</td>\n",
       "      <td>53.000000</td>\n",
       "      <td>78.000000</td>\n",
       "      <td>33.000000</td>\n",
       "      <td>50.000000</td>\n",
       "      <td>36.000000</td>\n",
       "    </tr>\n",
       "    <tr>\n",
       "      <th>max</th>\n",
       "      <td>79.000000</td>\n",
       "      <td>11567.000000</td>\n",
       "      <td>25273.000000</td>\n",
       "      <td>8292.000000</td>\n",
       "      <td>19844.000000</td>\n",
       "      <td>22272.000000</td>\n",
       "    </tr>\n",
       "  </tbody>\n",
       "</table>\n",
       "</div>"
      ],
      "text/plain": [
       "               Age   RoomService     FoodCourt  ShoppingMall           Spa  \\\n",
       "count  4186.000000   4195.000000   4171.000000   4179.000000   4176.000000   \n",
       "mean     28.658146    219.266269    439.484296    177.295525    303.052443   \n",
       "std      14.179072    607.011289   1527.663045    560.821123   1117.186015   \n",
       "min       0.000000      0.000000      0.000000      0.000000      0.000000   \n",
       "25%      19.000000      0.000000      0.000000      0.000000      0.000000   \n",
       "50%      26.000000      0.000000      0.000000      0.000000      0.000000   \n",
       "75%      37.000000     53.000000     78.000000     33.000000     50.000000   \n",
       "max      79.000000  11567.000000  25273.000000   8292.000000  19844.000000   \n",
       "\n",
       "             VRDeck  \n",
       "count   4197.000000  \n",
       "mean     310.710031  \n",
       "std     1246.994742  \n",
       "min        0.000000  \n",
       "25%        0.000000  \n",
       "50%        0.000000  \n",
       "75%       36.000000  \n",
       "max    22272.000000  "
      ]
     },
     "execution_count": 11,
     "metadata": {},
     "output_type": "execute_result"
    }
   ],
   "source": [
    "test.describe()"
   ]
  },
  {
   "cell_type": "markdown",
   "id": "f4a1c20f",
   "metadata": {
    "papermill": {
     "duration": 0.081133,
     "end_time": "2022-04-06T03:28:50.054219",
     "exception": false,
     "start_time": "2022-04-06T03:28:49.973086",
     "status": "completed"
    },
    "tags": []
   },
   "source": [
    "# 변수 설명"
   ]
  },
  {
   "cell_type": "markdown",
   "id": "9e6ded91",
   "metadata": {
    "papermill": {
     "duration": 0.080118,
     "end_time": "2022-04-06T03:28:50.215059",
     "exception": false,
     "start_time": "2022-04-06T03:28:50.134941",
     "status": "completed"
    },
    "tags": []
   },
   "source": [
    "- PassengerId - A unique Id for each passenger. Each Id takes the form gggg_pp where gggg indicates a group the passenger is travelling with and pp is their number within the group. People in a group are often family members, but not always.\n",
    "- HomePlanet - The planet the passenger departed from, typically their planet of permanent residence.\n",
    "- CryoSleep - Indicates whether the passenger elected to be put into suspended animation for the duration of the voyage. Passengers in cryosleep are confined to their cabins.\n",
    "- Cabin - The cabin number where the passenger is staying. Takes the form deck/num/side, where side can be either P for Port or S for Starboard.\n",
    "- Destination - The planet the passenger will be debarking to.\n",
    "- Age - The age of the passenger.\n",
    "- VIP - Whether the passenger has paid for special VIP service during the voyage.\n",
    "- RoomService, FoodCourt, ShoppingMall, Spa, VRDeck - Amount the passenger has billed at each of the Spaceship Titanic's many luxury amenities.\n",
    "- Name - The first and last names of the passenger.\n",
    "- Transported - Whether the passenger was transported to another dimension. This is the target, the column you are trying to predict.\n"
   ]
  },
  {
   "cell_type": "markdown",
   "id": "259c2285",
   "metadata": {
    "papermill": {
     "duration": 0.078635,
     "end_time": "2022-04-06T03:28:50.373278",
     "exception": false,
     "start_time": "2022-04-06T03:28:50.294643",
     "status": "completed"
    },
    "tags": []
   },
   "source": [
    "# Step2. 탐색적 자료 분석(EDA)\n",
    "- 데이터 시각화\n",
    "- 산점도, 막대그래프, 등등\n",
    "- 그래프 해석해서 설명을 달아야 함\n",
    "- 약간의 데이터 전처리"
   ]
  },
  {
   "cell_type": "markdown",
   "id": "f53aeee9",
   "metadata": {
    "papermill": {
     "duration": 0.079095,
     "end_time": "2022-04-06T03:28:50.531799",
     "exception": false,
     "start_time": "2022-04-06T03:28:50.452704",
     "status": "completed"
    },
    "tags": []
   },
   "source": [
    "- 수치형 데이터 확인"
   ]
  },
  {
   "cell_type": "code",
   "execution_count": 12,
   "id": "ed19efc3",
   "metadata": {
    "execution": {
     "iopub.execute_input": "2022-04-06T03:28:50.698315Z",
     "iopub.status.busy": "2022-04-06T03:28:50.697627Z",
     "iopub.status.idle": "2022-04-06T03:28:50.700606Z",
     "shell.execute_reply": "2022-04-06T03:28:50.701088Z",
     "shell.execute_reply.started": "2022-04-06T03:23:21.860339Z"
    },
    "papermill": {
     "duration": 0.089713,
     "end_time": "2022-04-06T03:28:50.701273",
     "exception": false,
     "start_time": "2022-04-06T03:28:50.611560",
     "status": "completed"
    },
    "tags": []
   },
   "outputs": [
    {
     "data": {
      "text/plain": [
       "Index(['Age', 'RoomService', 'FoodCourt', 'ShoppingMall', 'Spa', 'VRDeck'], dtype='object')"
      ]
     },
     "execution_count": 12,
     "metadata": {},
     "output_type": "execute_result"
    }
   ],
   "source": [
    "numeric_features = train.select_dtypes(include=[np.number])\n",
    "numeric_features.columns"
   ]
  },
  {
   "cell_type": "code",
   "execution_count": 13,
   "id": "93882c87",
   "metadata": {
    "execution": {
     "iopub.execute_input": "2022-04-06T03:28:50.866768Z",
     "iopub.status.busy": "2022-04-06T03:28:50.866135Z",
     "iopub.status.idle": "2022-04-06T03:28:50.868850Z",
     "shell.execute_reply": "2022-04-06T03:28:50.868365Z",
     "shell.execute_reply.started": "2022-04-06T03:23:21.870035Z"
    },
    "papermill": {
     "duration": 0.087152,
     "end_time": "2022-04-06T03:28:50.868988",
     "exception": false,
     "start_time": "2022-04-06T03:28:50.781836",
     "status": "completed"
    },
    "tags": []
   },
   "outputs": [],
   "source": [
    "# numeric_features = test.select_dtypes(include=[np.number])\n",
    "# numeric_features.columns"
   ]
  },
  {
   "cell_type": "markdown",
   "id": "53f1e436",
   "metadata": {
    "papermill": {
     "duration": 0.08107,
     "end_time": "2022-04-06T03:28:51.031286",
     "exception": false,
     "start_time": "2022-04-06T03:28:50.950216",
     "status": "completed"
    },
    "tags": []
   },
   "source": [
    "- 범주형 데이터 확인"
   ]
  },
  {
   "cell_type": "code",
   "execution_count": 14,
   "id": "7c4bec3b",
   "metadata": {
    "execution": {
     "iopub.execute_input": "2022-04-06T03:28:51.207702Z",
     "iopub.status.busy": "2022-04-06T03:28:51.207012Z",
     "iopub.status.idle": "2022-04-06T03:28:51.209908Z",
     "shell.execute_reply": "2022-04-06T03:28:51.210422Z",
     "shell.execute_reply.started": "2022-04-06T03:23:21.881459Z"
    },
    "papermill": {
     "duration": 0.098402,
     "end_time": "2022-04-06T03:28:51.210586",
     "exception": false,
     "start_time": "2022-04-06T03:28:51.112184",
     "status": "completed"
    },
    "tags": []
   },
   "outputs": [
    {
     "data": {
      "text/html": [
       "<div>\n",
       "<style scoped>\n",
       "    .dataframe tbody tr th:only-of-type {\n",
       "        vertical-align: middle;\n",
       "    }\n",
       "\n",
       "    .dataframe tbody tr th {\n",
       "        vertical-align: top;\n",
       "    }\n",
       "\n",
       "    .dataframe thead th {\n",
       "        text-align: right;\n",
       "    }\n",
       "</style>\n",
       "<table border=\"1\" class=\"dataframe\">\n",
       "  <thead>\n",
       "    <tr style=\"text-align: right;\">\n",
       "      <th></th>\n",
       "      <th>PassengerId</th>\n",
       "      <th>HomePlanet</th>\n",
       "      <th>CryoSleep</th>\n",
       "      <th>Cabin</th>\n",
       "      <th>Destination</th>\n",
       "      <th>VIP</th>\n",
       "      <th>Name</th>\n",
       "    </tr>\n",
       "  </thead>\n",
       "  <tbody>\n",
       "    <tr>\n",
       "      <th>0</th>\n",
       "      <td>0001_01</td>\n",
       "      <td>Europa</td>\n",
       "      <td>False</td>\n",
       "      <td>B/0/P</td>\n",
       "      <td>TRAPPIST-1e</td>\n",
       "      <td>False</td>\n",
       "      <td>Maham Ofracculy</td>\n",
       "    </tr>\n",
       "    <tr>\n",
       "      <th>1</th>\n",
       "      <td>0002_01</td>\n",
       "      <td>Earth</td>\n",
       "      <td>False</td>\n",
       "      <td>F/0/S</td>\n",
       "      <td>TRAPPIST-1e</td>\n",
       "      <td>False</td>\n",
       "      <td>Juanna Vines</td>\n",
       "    </tr>\n",
       "    <tr>\n",
       "      <th>2</th>\n",
       "      <td>0003_01</td>\n",
       "      <td>Europa</td>\n",
       "      <td>False</td>\n",
       "      <td>A/0/S</td>\n",
       "      <td>TRAPPIST-1e</td>\n",
       "      <td>True</td>\n",
       "      <td>Altark Susent</td>\n",
       "    </tr>\n",
       "  </tbody>\n",
       "</table>\n",
       "</div>"
      ],
      "text/plain": [
       "  PassengerId HomePlanet CryoSleep  Cabin  Destination    VIP             Name\n",
       "0     0001_01     Europa     False  B/0/P  TRAPPIST-1e  False  Maham Ofracculy\n",
       "1     0002_01      Earth     False  F/0/S  TRAPPIST-1e  False     Juanna Vines\n",
       "2     0003_01     Europa     False  A/0/S  TRAPPIST-1e   True    Altark Susent"
      ]
     },
     "execution_count": 14,
     "metadata": {},
     "output_type": "execute_result"
    }
   ],
   "source": [
    "df_cat = train.select_dtypes(include = 'object')\n",
    "df_cat.head(3)"
   ]
  },
  {
   "cell_type": "code",
   "execution_count": 15,
   "id": "1a77b69e",
   "metadata": {
    "execution": {
     "iopub.execute_input": "2022-04-06T03:28:51.382422Z",
     "iopub.status.busy": "2022-04-06T03:28:51.381737Z",
     "iopub.status.idle": "2022-04-06T03:28:51.391282Z",
     "shell.execute_reply": "2022-04-06T03:28:51.390627Z",
     "shell.execute_reply.started": "2022-04-06T03:23:21.918442Z"
    },
    "papermill": {
     "duration": 0.098483,
     "end_time": "2022-04-06T03:28:51.391431",
     "exception": false,
     "start_time": "2022-04-06T03:28:51.292948",
     "status": "completed"
    },
    "tags": []
   },
   "outputs": [
    {
     "data": {
      "text/html": [
       "<div>\n",
       "<style scoped>\n",
       "    .dataframe tbody tr th:only-of-type {\n",
       "        vertical-align: middle;\n",
       "    }\n",
       "\n",
       "    .dataframe tbody tr th {\n",
       "        vertical-align: top;\n",
       "    }\n",
       "\n",
       "    .dataframe thead th {\n",
       "        text-align: right;\n",
       "    }\n",
       "</style>\n",
       "<table border=\"1\" class=\"dataframe\">\n",
       "  <thead>\n",
       "    <tr style=\"text-align: right;\">\n",
       "      <th></th>\n",
       "      <th>PassengerId</th>\n",
       "      <th>HomePlanet</th>\n",
       "      <th>CryoSleep</th>\n",
       "      <th>Cabin</th>\n",
       "      <th>Destination</th>\n",
       "      <th>VIP</th>\n",
       "      <th>Name</th>\n",
       "    </tr>\n",
       "  </thead>\n",
       "  <tbody>\n",
       "    <tr>\n",
       "      <th>0</th>\n",
       "      <td>0013_01</td>\n",
       "      <td>Earth</td>\n",
       "      <td>True</td>\n",
       "      <td>G/3/S</td>\n",
       "      <td>TRAPPIST-1e</td>\n",
       "      <td>False</td>\n",
       "      <td>Nelly Carsoning</td>\n",
       "    </tr>\n",
       "    <tr>\n",
       "      <th>1</th>\n",
       "      <td>0018_01</td>\n",
       "      <td>Earth</td>\n",
       "      <td>False</td>\n",
       "      <td>F/4/S</td>\n",
       "      <td>TRAPPIST-1e</td>\n",
       "      <td>False</td>\n",
       "      <td>Lerome Peckers</td>\n",
       "    </tr>\n",
       "    <tr>\n",
       "      <th>2</th>\n",
       "      <td>0019_01</td>\n",
       "      <td>Europa</td>\n",
       "      <td>True</td>\n",
       "      <td>C/0/S</td>\n",
       "      <td>55 Cancri e</td>\n",
       "      <td>False</td>\n",
       "      <td>Sabih Unhearfus</td>\n",
       "    </tr>\n",
       "  </tbody>\n",
       "</table>\n",
       "</div>"
      ],
      "text/plain": [
       "  PassengerId HomePlanet CryoSleep  Cabin  Destination    VIP             Name\n",
       "0     0013_01      Earth      True  G/3/S  TRAPPIST-1e  False  Nelly Carsoning\n",
       "1     0018_01      Earth     False  F/4/S  TRAPPIST-1e  False   Lerome Peckers\n",
       "2     0019_01     Europa      True  C/0/S  55 Cancri e  False  Sabih Unhearfus"
      ]
     },
     "execution_count": 15,
     "metadata": {},
     "output_type": "execute_result"
    }
   ],
   "source": [
    "df_cat = test.select_dtypes(include = 'object')\n",
    "df_cat.head(3)"
   ]
  },
  {
   "cell_type": "markdown",
   "id": "af8095e8",
   "metadata": {
    "papermill": {
     "duration": 0.080746,
     "end_time": "2022-04-06T03:28:51.554228",
     "exception": false,
     "start_time": "2022-04-06T03:28:51.473482",
     "status": "completed"
    },
    "tags": []
   },
   "source": [
    "- 종속변수 bool 갯수 확인 필요"
   ]
  },
  {
   "cell_type": "code",
   "execution_count": 16,
   "id": "ea98bec4",
   "metadata": {
    "execution": {
     "iopub.execute_input": "2022-04-06T03:28:51.724975Z",
     "iopub.status.busy": "2022-04-06T03:28:51.724354Z",
     "iopub.status.idle": "2022-04-06T03:28:51.727966Z",
     "shell.execute_reply": "2022-04-06T03:28:51.727460Z",
     "shell.execute_reply.started": "2022-04-06T03:23:21.938428Z"
    },
    "papermill": {
     "duration": 0.092173,
     "end_time": "2022-04-06T03:28:51.728097",
     "exception": false,
     "start_time": "2022-04-06T03:28:51.635924",
     "status": "completed"
    },
    "tags": []
   },
   "outputs": [
    {
     "data": {
      "text/plain": [
       "True     4378\n",
       "False    4315\n",
       "Name: Transported, dtype: int64"
      ]
     },
     "execution_count": 16,
     "metadata": {},
     "output_type": "execute_result"
    }
   ],
   "source": [
    "train['Transported'].value_counts()"
   ]
  },
  {
   "cell_type": "code",
   "execution_count": 17,
   "id": "9cf13611",
   "metadata": {
    "execution": {
     "iopub.execute_input": "2022-04-06T03:28:51.897883Z",
     "iopub.status.busy": "2022-04-06T03:28:51.897201Z",
     "iopub.status.idle": "2022-04-06T03:28:51.899708Z",
     "shell.execute_reply": "2022-04-06T03:28:51.900288Z",
     "shell.execute_reply.started": "2022-04-06T03:23:21.950333Z"
    },
    "papermill": {
     "duration": 0.091288,
     "end_time": "2022-04-06T03:28:51.900445",
     "exception": false,
     "start_time": "2022-04-06T03:28:51.809157",
     "status": "completed"
    },
    "tags": []
   },
   "outputs": [
    {
     "data": {
      "text/plain": [
       "False    5439\n",
       "True     3037\n",
       "Name: CryoSleep, dtype: int64"
      ]
     },
     "execution_count": 17,
     "metadata": {},
     "output_type": "execute_result"
    }
   ],
   "source": [
    "train['CryoSleep'].value_counts()"
   ]
  },
  {
   "cell_type": "code",
   "execution_count": 18,
   "id": "ffd3bed0",
   "metadata": {
    "execution": {
     "iopub.execute_input": "2022-04-06T03:28:52.079391Z",
     "iopub.status.busy": "2022-04-06T03:28:52.069337Z",
     "iopub.status.idle": "2022-04-06T03:28:52.081611Z",
     "shell.execute_reply": "2022-04-06T03:28:52.082228Z",
     "shell.execute_reply.started": "2022-04-06T03:23:21.967398Z"
    },
    "papermill": {
     "duration": 0.099383,
     "end_time": "2022-04-06T03:28:52.082401",
     "exception": false,
     "start_time": "2022-04-06T03:28:51.983018",
     "status": "completed"
    },
    "tags": []
   },
   "outputs": [],
   "source": [
    "def cnt_bar(data, col_name):\n",
    "    df = data[col_name].value_counts()\n",
    "    fig, ax = plt.subplots(figsize=(10, 8))\n",
    "    labels = [str(item) for item in list(data[col_name].value_counts().index)]\n",
    "    bars = sns.countplot(x=col_name, data=data, color='lightgray', alpha=0.85, zorder=2, ax=ax)\n",
    "    \n",
    "    for bar in bars.patches:\n",
    "        fontweight = \"normal\"\n",
    "        color = \"k\"\n",
    "        height = np.round(bar.get_height(), 2)\n",
    "        if bar.get_height() == data[col_name].value_counts().values[0]:\n",
    "            fontweight=\"bold\"\n",
    "            color=\"purple\"\n",
    "            bar.set_facecolor(color)\n",
    "        ax.text(bar.get_x() + bar.get_width()/2., height+100, height+1, ha = 'center', size=12, fontweight=fontweight, color=color)\n",
    "    ax.set_title(f'Bar Graph of {col_name}', size = 16)\n",
    "    ax.set_xlabel(col_name, size = 16)\n",
    "    ax.set_ylabel(\"No. Passengers\", size = 16)\n",
    "\n",
    "    ax.spines['top'].set_visible(False)\n",
    "    ax.spines['left'].set_position((\"outward\", 20))\n",
    "    ax.spines['left'].set_visible(False)\n",
    "    ax.spines['right'].set_visible(False)\n",
    "\n",
    "    ax.grid(axis=\"y\", which=\"major\", color=\"lightgray\")\n",
    "    ax.grid(axis=\"y\", which=\"minor\", ls=\":\")\n",
    "    \n",
    "    plt.show()"
   ]
  },
  {
   "cell_type": "code",
   "execution_count": 19,
   "id": "ad7ac81d",
   "metadata": {
    "execution": {
     "iopub.execute_input": "2022-04-06T03:28:52.251126Z",
     "iopub.status.busy": "2022-04-06T03:28:52.250196Z",
     "iopub.status.idle": "2022-04-06T03:28:52.486232Z",
     "shell.execute_reply": "2022-04-06T03:28:52.486750Z",
     "shell.execute_reply.started": "2022-04-06T03:23:21.985207Z"
    },
    "papermill": {
     "duration": 0.321649,
     "end_time": "2022-04-06T03:28:52.487021",
     "exception": false,
     "start_time": "2022-04-06T03:28:52.165372",
     "status": "completed"
    },
    "tags": []
   },
   "outputs": [
    {
     "data": {
      "image/png": "[encoded data removed]",
      "text/plain": [
       "<Figure size 720x576 with 1 Axes>"
      ]
     },
     "metadata": {
      "needs_background": "light"
     },
     "output_type": "display_data"
    }
   ],
   "source": [
    "cnt_bar(train, \"Destination\")"
   ]
  },
  {
   "cell_type": "code",
   "execution_count": 20,
   "id": "dfa1e454",
   "metadata": {
    "execution": {
     "iopub.execute_input": "2022-04-06T03:28:52.662072Z",
     "iopub.status.busy": "2022-04-06T03:28:52.661000Z",
     "iopub.status.idle": "2022-04-06T03:28:52.855084Z",
     "shell.execute_reply": "2022-04-06T03:28:52.855758Z",
     "shell.execute_reply.started": "2022-04-06T03:23:22.278498Z"
    },
    "papermill": {
     "duration": 0.284948,
     "end_time": "2022-04-06T03:28:52.855950",
     "exception": false,
     "start_time": "2022-04-06T03:28:52.571002",
     "status": "completed"
    },
    "tags": []
   },
   "outputs": [
    {
     "data": {
      "image/png": "[encoded data removed]",
      "text/plain": [
       "<Figure size 720x576 with 1 Axes>"
      ]
     },
     "metadata": {
      "needs_background": "light"
     },
     "output_type": "display_data"
    }
   ],
   "source": [
    "cnt_bar(train, \"HomePlanet\")"
   ]
  },
  {
   "cell_type": "code",
   "execution_count": 21,
   "id": "56ecaba8",
   "metadata": {
    "execution": {
     "iopub.execute_input": "2022-04-06T03:28:53.033496Z",
     "iopub.status.busy": "2022-04-06T03:28:53.032501Z",
     "iopub.status.idle": "2022-04-06T03:28:53.245949Z",
     "shell.execute_reply": "2022-04-06T03:28:53.245420Z",
     "shell.execute_reply.started": "2022-04-06T03:23:22.509061Z"
    },
    "papermill": {
     "duration": 0.30577,
     "end_time": "2022-04-06T03:28:53.246102",
     "exception": false,
     "start_time": "2022-04-06T03:28:52.940332",
     "status": "completed"
    },
    "tags": []
   },
   "outputs": [
    {
     "data": {
      "image/png": "[encoded data removed]",
      "text/plain": [
       "<Figure size 720x576 with 1 Axes>"
      ]
     },
     "metadata": {
      "needs_background": "light"
     },
     "output_type": "display_data"
    }
   ],
   "source": [
    "cnt_bar(train, \"CryoSleep\")"
   ]
  },
  {
   "cell_type": "code",
   "execution_count": 22,
   "id": "b4c1c1ad",
   "metadata": {
    "execution": {
     "iopub.execute_input": "2022-04-06T03:28:53.424773Z",
     "iopub.status.busy": "2022-04-06T03:28:53.423808Z",
     "iopub.status.idle": "2022-04-06T03:28:53.645618Z",
     "shell.execute_reply": "2022-04-06T03:28:53.646121Z",
     "shell.execute_reply.started": "2022-04-06T03:23:22.747820Z"
    },
    "papermill": {
     "duration": 0.312966,
     "end_time": "2022-04-06T03:28:53.646307",
     "exception": false,
     "start_time": "2022-04-06T03:28:53.333341",
     "status": "completed"
    },
    "tags": []
   },
   "outputs": [
    {
     "data": {
      "image/png": "[encoded data removed]",
      "text/plain": [
       "<Figure size 720x576 with 1 Axes>"
      ]
     },
     "metadata": {
      "needs_background": "light"
     },
     "output_type": "display_data"
    }
   ],
   "source": [
    "cnt_bar(train, \"VIP\")"
   ]
  },
  {
   "cell_type": "code",
   "execution_count": 23,
   "id": "ca2ee632",
   "metadata": {
    "execution": {
     "iopub.execute_input": "2022-04-06T03:28:53.823793Z",
     "iopub.status.busy": "2022-04-06T03:28:53.822857Z",
     "iopub.status.idle": "2022-04-06T03:28:54.003185Z",
     "shell.execute_reply": "2022-04-06T03:28:54.003655Z",
     "shell.execute_reply.started": "2022-04-06T03:23:23.002754Z"
    },
    "papermill": {
     "duration": 0.271468,
     "end_time": "2022-04-06T03:28:54.003870",
     "exception": false,
     "start_time": "2022-04-06T03:28:53.732402",
     "status": "completed"
    },
    "tags": []
   },
   "outputs": [
    {
     "data": {
      "image/png": "[encoded data removed]",
      "text/plain": [
       "<Figure size 720x576 with 1 Axes>"
      ]
     },
     "metadata": {
      "needs_background": "light"
     },
     "output_type": "display_data"
    }
   ],
   "source": [
    "cnt_bar(train, \"Transported\")"
   ]
  },
  {
   "cell_type": "code",
   "execution_count": 24,
   "id": "c692072f",
   "metadata": {
    "execution": {
     "iopub.execute_input": "2022-04-06T03:28:54.188847Z",
     "iopub.status.busy": "2022-04-06T03:28:54.187895Z",
     "iopub.status.idle": "2022-04-06T03:28:54.686094Z",
     "shell.execute_reply": "2022-04-06T03:28:54.686560Z",
     "shell.execute_reply.started": "2022-04-06T03:23:23.156316Z"
    },
    "papermill": {
     "duration": 0.594002,
     "end_time": "2022-04-06T03:28:54.686734",
     "exception": false,
     "start_time": "2022-04-06T03:28:54.092732",
     "status": "completed"
    },
    "tags": []
   },
   "outputs": [
    {
     "data": {
      "text/plain": [
       "<AxesSubplot:xlabel='HomePlanet', ylabel='Transported'>"
      ]
     },
     "execution_count": 24,
     "metadata": {},
     "output_type": "execute_result"
    },
    {
     "data": {
      "image/png": "[encoded data removed]",
      "text/plain": [
       "<Figure size 432x288 with 1 Axes>"
      ]
     },
     "metadata": {
      "needs_background": "light"
     },
     "output_type": "display_data"
    }
   ],
   "source": [
    "sns.barplot(x = 'HomePlanet',y = 'Transported',hue = 'HomePlanet',data = train, palette = \"Purples\")"
   ]
  },
  {
   "cell_type": "markdown",
   "id": "36307bcf",
   "metadata": {
    "papermill": {
     "duration": 0.08777,
     "end_time": "2022-04-06T03:28:54.862855",
     "exception": false,
     "start_time": "2022-04-06T03:28:54.775085",
     "status": "completed"
    },
    "tags": []
   },
   "source": [
    "- Passengers from europa are the most Transported"
   ]
  },
  {
   "cell_type": "code",
   "execution_count": 25,
   "id": "79fc0cdc",
   "metadata": {
    "execution": {
     "iopub.execute_input": "2022-04-06T03:28:55.042449Z",
     "iopub.status.busy": "2022-04-06T03:28:55.041795Z",
     "iopub.status.idle": "2022-04-06T03:28:55.769136Z",
     "shell.execute_reply": "2022-04-06T03:28:55.768573Z",
     "shell.execute_reply.started": "2022-04-06T03:25:18.065428Z"
    },
    "papermill": {
     "duration": 0.818293,
     "end_time": "2022-04-06T03:28:55.769294",
     "exception": false,
     "start_time": "2022-04-06T03:28:54.951001",
     "status": "completed"
    },
    "tags": []
   },
   "outputs": [
    {
     "data": {
      "text/plain": [
       "<AxesSubplot:xlabel='HomePlanet', ylabel='VIP'>"
      ]
     },
     "execution_count": 25,
     "metadata": {},
     "output_type": "execute_result"
    },
    {
     "data": {
      "image/png": "[encoded data removed]",
      "text/plain": [
       "<Figure size 432x288 with 1 Axes>"
      ]
     },
     "metadata": {
      "needs_background": "light"
     },
     "output_type": "display_data"
    }
   ],
   "source": [
    "sns.barplot(x = 'HomePlanet',y = 'VIP',hue = 'HomePlanet',data = train, palette = \"Purples\")"
   ]
  },
  {
   "cell_type": "code",
   "execution_count": 26,
   "id": "1fecbc1e",
   "metadata": {
    "execution": {
     "iopub.execute_input": "2022-04-06T03:28:55.967919Z",
     "iopub.status.busy": "2022-04-06T03:28:55.967231Z",
     "iopub.status.idle": "2022-04-06T03:28:57.060930Z",
     "shell.execute_reply": "2022-04-06T03:28:57.061429Z",
     "shell.execute_reply.started": "2022-04-06T03:23:23.659639Z"
    },
    "papermill": {
     "duration": 1.201492,
     "end_time": "2022-04-06T03:28:57.061600",
     "exception": false,
     "start_time": "2022-04-06T03:28:55.860108",
     "status": "completed"
    },
    "tags": []
   },
   "outputs": [
    {
     "data": {
      "image/png": "[encoded data removed]",
      "text/plain": [
       "<Figure size 1152x720 with 6 Axes>"
      ]
     },
     "metadata": {
      "needs_background": "light"
     },
     "output_type": "display_data"
    }
   ],
   "source": [
    "fig, ax = plt.subplots(2, 3, figsize=(16, 10)) # 그래프의 행과 열 지정 및, 이미지 사이즈 지정\n",
    "data = train.copy()\n",
    "# data[numeric_features.columns].columns[0:]\n",
    "for i, col in enumerate(data[numeric_features.columns].columns[0:]): # 좌표 평면 지정\n",
    "    # print(i, col)\n",
    "    if i <= 2:\n",
    "        sns.boxplot(x=data[\"Transported\"], y=data[col], ax=ax[0,i]) # 1행 좌표 평면\n",
    "    else: \n",
    "        sns.boxplot(x=data[\"Transported\"], y=data[col], ax=ax[1,i-4]) # 5행 좌표 평면\n",
    "fig.suptitle('My Box Plots')\n",
    "fig.tight_layout()\n",
    "fig.subplots_adjust(top=0.95)"
   ]
  },
  {
   "cell_type": "markdown",
   "id": "f9c25fa6",
   "metadata": {
    "papermill": {
     "duration": 0.091554,
     "end_time": "2022-04-06T03:28:57.244796",
     "exception": false,
     "start_time": "2022-04-06T03:28:57.153242",
     "status": "completed"
    },
    "tags": []
   },
   "source": [
    "- RoomService, FoodCourt, Spa, VRDeck, ShoppingMall 은 수치가 아닌것으로 보인다."
   ]
  },
  {
   "cell_type": "code",
   "execution_count": 27,
   "id": "d9b4663e",
   "metadata": {
    "execution": {
     "iopub.execute_input": "2022-04-06T03:28:57.431668Z",
     "iopub.status.busy": "2022-04-06T03:28:57.431061Z",
     "iopub.status.idle": "2022-04-06T03:28:57.440551Z",
     "shell.execute_reply": "2022-04-06T03:28:57.441133Z",
     "shell.execute_reply.started": "2022-04-06T03:23:24.680309Z"
    },
    "papermill": {
     "duration": 0.105231,
     "end_time": "2022-04-06T03:28:57.441313",
     "exception": false,
     "start_time": "2022-04-06T03:28:57.336082",
     "status": "completed"
    },
    "tags": []
   },
   "outputs": [
    {
     "data": {
      "text/plain": [
       "0.0       5577\n",
       "1.0        117\n",
       "2.0         79\n",
       "3.0         61\n",
       "4.0         47\n",
       "          ... \n",
       "1612.0       1\n",
       "2598.0       1\n",
       "632.0        1\n",
       "378.0        1\n",
       "745.0        1\n",
       "Name: RoomService, Length: 1273, dtype: int64"
      ]
     },
     "execution_count": 27,
     "metadata": {},
     "output_type": "execute_result"
    }
   ],
   "source": [
    "train['RoomService'].value_counts()"
   ]
  },
  {
   "cell_type": "code",
   "execution_count": 28,
   "id": "18ff55ad",
   "metadata": {
    "execution": {
     "iopub.execute_input": "2022-04-06T03:28:57.653971Z",
     "iopub.status.busy": "2022-04-06T03:28:57.652915Z",
     "iopub.status.idle": "2022-04-06T03:28:57.662389Z",
     "shell.execute_reply": "2022-04-06T03:28:57.662835Z",
     "shell.execute_reply.started": "2022-04-06T03:23:24.694450Z"
    },
    "papermill": {
     "duration": 0.115313,
     "end_time": "2022-04-06T03:28:57.663006",
     "exception": false,
     "start_time": "2022-04-06T03:28:57.547693",
     "status": "completed"
    },
    "tags": []
   },
   "outputs": [
    {
     "data": {
      "text/plain": [
       "0.0       5456\n",
       "1.0        116\n",
       "2.0         75\n",
       "3.0         53\n",
       "4.0         53\n",
       "          ... \n",
       "3846.0       1\n",
       "5193.0       1\n",
       "312.0        1\n",
       "827.0        1\n",
       "4688.0       1\n",
       "Name: FoodCourt, Length: 1507, dtype: int64"
      ]
     },
     "execution_count": 28,
     "metadata": {},
     "output_type": "execute_result"
    }
   ],
   "source": [
    "train['FoodCourt'].value_counts()"
   ]
  },
  {
   "cell_type": "code",
   "execution_count": 29,
   "id": "fa897a0f",
   "metadata": {
    "execution": {
     "iopub.execute_input": "2022-04-06T03:28:57.852312Z",
     "iopub.status.busy": "2022-04-06T03:28:57.851670Z",
     "iopub.status.idle": "2022-04-06T03:28:57.858290Z",
     "shell.execute_reply": "2022-04-06T03:28:57.858752Z",
     "shell.execute_reply.started": "2022-04-06T03:23:24.717570Z"
    },
    "papermill": {
     "duration": 0.104015,
     "end_time": "2022-04-06T03:28:57.858919",
     "exception": false,
     "start_time": "2022-04-06T03:28:57.754904",
     "status": "completed"
    },
    "tags": []
   },
   "outputs": [
    {
     "data": {
      "text/plain": [
       "0.0       5324\n",
       "1.0        146\n",
       "2.0        105\n",
       "5.0         53\n",
       "3.0         53\n",
       "          ... \n",
       "273.0        1\n",
       "2581.0       1\n",
       "2948.0       1\n",
       "3778.0       1\n",
       "1643.0       1\n",
       "Name: Spa, Length: 1327, dtype: int64"
      ]
     },
     "execution_count": 29,
     "metadata": {},
     "output_type": "execute_result"
    }
   ],
   "source": [
    "train['Spa'].value_counts()"
   ]
  },
  {
   "cell_type": "markdown",
   "id": "51f58401",
   "metadata": {
    "papermill": {
     "duration": 0.091623,
     "end_time": "2022-04-06T03:28:58.042541",
     "exception": false,
     "start_time": "2022-04-06T03:28:57.950918",
     "status": "completed"
    },
    "tags": []
   },
   "source": [
    "- 위 데이터는 연속형 데이터라고 보기에는 비연속형 수치 데이터인 것을 확인"
   ]
  },
  {
   "cell_type": "markdown",
   "id": "6cd34d2b",
   "metadata": {
    "papermill": {
     "duration": 0.091709,
     "end_time": "2022-04-06T03:28:58.226656",
     "exception": false,
     "start_time": "2022-04-06T03:28:58.134947",
     "status": "completed"
    },
    "tags": []
   },
   "source": [
    "# Step3. 데이터 전처리\n",
    "- Feature Engineering\n",
    "- 머신러닝 모형을 돌리기 위해서 표준화, 원핫-인코딩 등\n",
    "- 파생변수 (도출변수) 만들기\n"
   ]
  },
  {
   "cell_type": "markdown",
   "id": "731ee721",
   "metadata": {
    "papermill": {
     "duration": 0.091308,
     "end_time": "2022-04-06T03:28:58.409989",
     "exception": false,
     "start_time": "2022-04-06T03:28:58.318681",
     "status": "completed"
    },
    "tags": []
   },
   "source": [
    "- 불필요한 변수들을 제거 한다"
   ]
  },
  {
   "cell_type": "code",
   "execution_count": 30,
   "id": "5f7e246f",
   "metadata": {
    "execution": {
     "iopub.execute_input": "2022-04-06T03:28:58.599037Z",
     "iopub.status.busy": "2022-04-06T03:28:58.598033Z",
     "iopub.status.idle": "2022-04-06T03:28:58.610261Z",
     "shell.execute_reply": "2022-04-06T03:28:58.610841Z",
     "shell.execute_reply.started": "2022-04-06T03:23:24.728611Z"
    },
    "papermill": {
     "duration": 0.108654,
     "end_time": "2022-04-06T03:28:58.611012",
     "exception": false,
     "start_time": "2022-04-06T03:28:58.502358",
     "status": "completed"
    },
    "tags": []
   },
   "outputs": [
    {
     "data": {
      "text/plain": [
       "Gollux Reedall        2\n",
       "Elaney Webstephrey    2\n",
       "Grake Porki           2\n",
       "Sus Coolez            2\n",
       "Apix Wala             2\n",
       "                     ..\n",
       "Jamela Griffy         1\n",
       "Hardy Griffy          1\n",
       "Salley Mckinn         1\n",
       "Mall Frasp            1\n",
       "Propsh Hontichre      1\n",
       "Name: Name, Length: 8473, dtype: int64"
      ]
     },
     "execution_count": 30,
     "metadata": {},
     "output_type": "execute_result"
    }
   ],
   "source": [
    "train['Name'].value_counts()"
   ]
  },
  {
   "cell_type": "code",
   "execution_count": 31,
   "id": "822204ce",
   "metadata": {
    "execution": {
     "iopub.execute_input": "2022-04-06T03:28:58.801775Z",
     "iopub.status.busy": "2022-04-06T03:28:58.800827Z",
     "iopub.status.idle": "2022-04-06T03:28:58.812511Z",
     "shell.execute_reply": "2022-04-06T03:28:58.813106Z",
     "shell.execute_reply.started": "2022-04-06T03:23:24.754871Z"
    },
    "papermill": {
     "duration": 0.107946,
     "end_time": "2022-04-06T03:28:58.813290",
     "exception": false,
     "start_time": "2022-04-06T03:28:58.705344",
     "status": "completed"
    },
    "tags": []
   },
   "outputs": [
    {
     "data": {
      "text/plain": [
       "G/734/S     8\n",
       "G/109/P     7\n",
       "B/201/P     7\n",
       "G/1368/P    7\n",
       "G/981/S     7\n",
       "           ..\n",
       "G/556/P     1\n",
       "E/231/S     1\n",
       "G/545/S     1\n",
       "G/543/S     1\n",
       "F/947/P     1\n",
       "Name: Cabin, Length: 6560, dtype: int64"
      ]
     },
     "execution_count": 31,
     "metadata": {},
     "output_type": "execute_result"
    }
   ],
   "source": [
    "train['Cabin'].value_counts()"
   ]
  },
  {
   "cell_type": "code",
   "execution_count": 32,
   "id": "ec598d9c",
   "metadata": {
    "execution": {
     "iopub.execute_input": "2022-04-06T03:28:59.007970Z",
     "iopub.status.busy": "2022-04-06T03:28:59.006992Z",
     "iopub.status.idle": "2022-04-06T03:28:59.016579Z",
     "shell.execute_reply": "2022-04-06T03:28:59.017084Z",
     "shell.execute_reply.started": "2022-04-06T03:23:24.770236Z"
    },
    "papermill": {
     "duration": 0.109621,
     "end_time": "2022-04-06T03:28:59.017283",
     "exception": false,
     "start_time": "2022-04-06T03:28:58.907662",
     "status": "completed"
    },
    "tags": []
   },
   "outputs": [
    {
     "name": "stdout",
     "output_type": "stream",
     "text": [
      "Before: (8693, 14) (4277, 13)\n",
      "After: (8693, 11) (4277, 10)\n"
     ]
    }
   ],
   "source": [
    "remove_cols = ['PassengerId', 'Name', 'Cabin']\n",
    "PassengerId = test['PassengerId']\n",
    "\n",
    "print(\"Before:\", train.shape, test.shape)\n",
    "train = train.drop(remove_cols, axis=1)\n",
    "test = test.drop(remove_cols, axis=1)\n",
    "\n",
    "print(\"After:\", train.shape, test.shape)"
   ]
  },
  {
   "cell_type": "markdown",
   "id": "27195d47",
   "metadata": {
    "papermill": {
     "duration": 0.096607,
     "end_time": "2022-04-06T03:28:59.208677",
     "exception": false,
     "start_time": "2022-04-06T03:28:59.112070",
     "status": "completed"
    },
    "tags": []
   },
   "source": [
    "- 아까 찾은 결측치 처리하기\n",
    "- 결측치를 처리하기 위해 가장 쉬운 방법은 sklearn.impute 내에서의 SimpleImputer 클래스를 활용하는 것이다.\n",
    "- train의 결측치 패턴을 파악한 후, train및 test결과에도 적용해야한다.\n",
    "    + 반드시 이렇게 해야한다. Data Leakage 방지"
   ]
  },
  {
   "cell_type": "code",
   "execution_count": 33,
   "id": "65456192",
   "metadata": {
    "execution": {
     "iopub.execute_input": "2022-04-06T03:28:59.414229Z",
     "iopub.status.busy": "2022-04-06T03:28:59.413544Z",
     "iopub.status.idle": "2022-04-06T03:28:59.431950Z",
     "shell.execute_reply": "2022-04-06T03:28:59.432448Z",
     "shell.execute_reply.started": "2022-04-06T03:23:24.789609Z"
    },
    "papermill": {
     "duration": 0.129367,
     "end_time": "2022-04-06T03:28:59.432624",
     "exception": false,
     "start_time": "2022-04-06T03:28:59.303257",
     "status": "completed"
    },
    "tags": []
   },
   "outputs": [
    {
     "name": "stdout",
     "output_type": "stream",
     "text": [
      "\u001b[31m\n",
      "CryoSleep       217\n",
      "ShoppingMall    208\n",
      "VIP             203\n",
      "HomePlanet      201\n",
      "VRDeck          188\n",
      "FoodCourt       183\n",
      "Spa             183\n",
      "Destination     182\n",
      "RoomService     181\n",
      "Age             179\n",
      "Transported       0\n",
      "dtype: int64\n",
      "\u001b[32m\n",
      "FoodCourt       106\n",
      "Spa             101\n",
      "ShoppingMall     98\n",
      "CryoSleep        93\n",
      "VIP              93\n",
      "Destination      92\n",
      "Age              91\n",
      "HomePlanet       87\n",
      "RoomService      82\n",
      "VRDeck           80\n",
      "dtype: int64\n"
     ]
    }
   ],
   "source": [
    "print(f'\\033[31m') # 문자색 지정\n",
    "print((train.isnull().sum().sort_values(ascending = False))) # 내림차순 정렬, 결측치 합\n",
    "print(f'\\033[32m')\n",
    "print((test.isnull().sum().sort_values(ascending = False)))"
   ]
  },
  {
   "cell_type": "code",
   "execution_count": 34,
   "id": "3f19f336",
   "metadata": {
    "execution": {
     "iopub.execute_input": "2022-04-06T03:28:59.640523Z",
     "iopub.status.busy": "2022-04-06T03:28:59.639569Z",
     "iopub.status.idle": "2022-04-06T03:28:59.980715Z",
     "shell.execute_reply": "2022-04-06T03:28:59.981551Z",
     "shell.execute_reply.started": "2022-04-06T03:23:24.810003Z"
    },
    "papermill": {
     "duration": 0.447197,
     "end_time": "2022-04-06T03:28:59.981787",
     "exception": false,
     "start_time": "2022-04-06T03:28:59.534590",
     "status": "completed"
    },
    "tags": []
   },
   "outputs": [
    {
     "name": "stdout",
     "output_type": "stream",
     "text": [
      "\u001b[4m train :\n",
      " HomePlanet      201\n",
      "CryoSleep       217\n",
      "Destination     182\n",
      "Age               0\n",
      "VIP             203\n",
      "RoomService       0\n",
      "FoodCourt         0\n",
      "ShoppingMall      0\n",
      "Spa               0\n",
      "VRDeck            0\n",
      "Transported       0\n",
      "dtype: int64\n",
      "\n",
      "\u001b[4m test :\n",
      " HomePlanet      87\n",
      "CryoSleep       93\n",
      "Destination     92\n",
      "Age              0\n",
      "VIP             93\n",
      "RoomService      0\n",
      "FoodCourt        0\n",
      "ShoppingMall     0\n",
      "Spa              0\n",
      "VRDeck           0\n",
      "dtype: int64\n"
     ]
    }
   ],
   "source": [
    "from sklearn.impute import SimpleImputer\n",
    "\n",
    "imputer_cols = [\"Age\", \"FoodCourt\", \"ShoppingMall\", \"Spa\", \"VRDeck\" ,\"RoomService\"]\n",
    "STRATEGY = 'median'\n",
    "\n",
    "imputer = SimpleImputer(strategy=STRATEGY)\n",
    "imputer.fit(train[imputer_cols])\n",
    "train[imputer_cols] = imputer.transform(train[imputer_cols])\n",
    "test[imputer_cols] = imputer.transform(test[imputer_cols])\n",
    "\n",
    "print(f'\\033[4m train :\\n', train.isnull().sum())\n",
    "print('')\n",
    "print(f'\\033[4m test :\\n', test.isnull().sum())"
   ]
  },
  {
   "cell_type": "code",
   "execution_count": 35,
   "id": "077bd88f",
   "metadata": {
    "execution": {
     "iopub.execute_input": "2022-04-06T03:29:00.183471Z",
     "iopub.status.busy": "2022-04-06T03:29:00.182440Z",
     "iopub.status.idle": "2022-04-06T03:29:00.211634Z",
     "shell.execute_reply": "2022-04-06T03:29:00.210816Z",
     "shell.execute_reply.started": "2022-04-06T03:23:25.349327Z"
    },
    "papermill": {
     "duration": 0.133322,
     "end_time": "2022-04-06T03:29:00.211822",
     "exception": false,
     "start_time": "2022-04-06T03:29:00.078500",
     "status": "completed"
    },
    "tags": []
   },
   "outputs": [
    {
     "name": "stdout",
     "output_type": "stream",
     "text": [
      "\u001b[4m train :\n",
      " HomePlanet      0\n",
      "CryoSleep       0\n",
      "Destination     0\n",
      "Age             0\n",
      "VIP             0\n",
      "RoomService     0\n",
      "FoodCourt       0\n",
      "ShoppingMall    0\n",
      "Spa             0\n",
      "VRDeck          0\n",
      "Transported     0\n",
      "dtype: int64\n",
      "\n",
      "\u001b[4m test :\n",
      " HomePlanet      0\n",
      "CryoSleep       0\n",
      "Destination     0\n",
      "Age             0\n",
      "VIP             0\n",
      "RoomService     0\n",
      "FoodCourt       0\n",
      "ShoppingMall    0\n",
      "Spa             0\n",
      "VRDeck          0\n",
      "dtype: int64\n"
     ]
    }
   ],
   "source": [
    "imputer_cols = [\"HomePlanet\", \"CryoSleep\", \"Destination\", \"VIP\"]\n",
    "STRATEGY = 'most_frequent'\n",
    "\n",
    "\n",
    "imputer = SimpleImputer(strategy=STRATEGY)\n",
    "imputer.fit(train[imputer_cols])\n",
    "train[imputer_cols] = imputer.transform(train[imputer_cols])\n",
    "test[imputer_cols] = imputer.transform(test[imputer_cols])\n",
    "\n",
    "print(f'\\033[4m train :\\n', train.isnull().sum())\n",
    "print('')\n",
    "print(f'\\033[4m test :\\n', test.isnull().sum())"
   ]
  },
  {
   "cell_type": "markdown",
   "id": "dbc9075e",
   "metadata": {
    "papermill": {
     "duration": 0.09504,
     "end_time": "2022-04-06T03:29:00.407433",
     "exception": false,
     "start_time": "2022-04-06T03:29:00.312393",
     "status": "completed"
    },
    "tags": []
   },
   "source": [
    "- 결측치를 처리하였다"
   ]
  },
  {
   "cell_type": "markdown",
   "id": "3620101f",
   "metadata": {
    "papermill": {
     "duration": 0.0945,
     "end_time": "2022-04-06T03:29:00.597150",
     "exception": false,
     "start_time": "2022-04-06T03:29:00.502650",
     "status": "completed"
    },
    "tags": []
   },
   "source": [
    "# Categorical Feature Encoding\n",
    "- 머신러닝 알고리즘은 수식으로 구성이 되어 있기 때문에 문자열의 경우 인코딩으로 변환을 주어야 한다.\n",
    "\n",
    "- 크게 두가지 방법이 존재한다.\n",
    "\n",
    "  + Ordinal Encoding\n",
    "    + 점수 : 0.78770\n",
    "  + Onehot Encoding\n",
    "    + 점수 : 0.78840\n",
    "  + pd.get_dummies\n",
    "    + 점수 : 0.78840\n",
    "-크게 두가지 결론을 얻을 수 있었음\n",
    " + 첫째, 본 데이터에서는 OneHotEncoding 방식이 Ordinal Encoding 보다 좋았음.\n",
    " + 둘째, Onehot Encoding 방식과 pd.get_dummies 방식 차이는 없었음"
   ]
  },
  {
   "cell_type": "code",
   "execution_count": 36,
   "id": "0d2b14e1",
   "metadata": {
    "execution": {
     "iopub.execute_input": "2022-04-06T03:29:00.794155Z",
     "iopub.status.busy": "2022-04-06T03:29:00.793146Z",
     "iopub.status.idle": "2022-04-06T03:29:00.799622Z",
     "shell.execute_reply": "2022-04-06T03:29:00.799120Z",
     "shell.execute_reply.started": "2022-04-06T03:23:25.391887Z"
    },
    "papermill": {
     "duration": 0.10547,
     "end_time": "2022-04-06T03:29:00.799762",
     "exception": false,
     "start_time": "2022-04-06T03:29:00.694292",
     "status": "completed"
    },
    "tags": []
   },
   "outputs": [
    {
     "data": {
      "text/plain": [
       "'\\nfrom sklearn.preprocessing import OrdinalEncoder\\n\\n# Target 데이터는 1과 0으로 바꿈\\ntrain[\\'Transported\\'] = train_dat[\\'Transported\\'].map({True: 1, False: 0})\\ncategorical_cols = [\"HomePlanet\", \"CryoSleep\", \"Destination\", \"VIP\"]\\n\\nordinal_encoder = OrdinalEncoder()\\ntrain[categorical_cols] = ordinal_encoder.fit_transform(train[categorical_cols])\\ntest[categorical_cols] = ordinal_encoder.fit_transform(test[categorical_cols])\\n\\ntrain.info()\\n'"
      ]
     },
     "execution_count": 36,
     "metadata": {},
     "output_type": "execute_result"
    }
   ],
   "source": [
    "'''\n",
    "from sklearn.preprocessing import OrdinalEncoder\n",
    "\n",
    "# Target 데이터는 1과 0으로 바꿈\n",
    "train['Transported'] = train_dat['Transported'].map({True: 1, False: 0})\n",
    "categorical_cols = [\"HomePlanet\", \"CryoSleep\", \"Destination\", \"VIP\"]\n",
    "\n",
    "ordinal_encoder = OrdinalEncoder()\n",
    "train[categorical_cols] = ordinal_encoder.fit_transform(train[categorical_cols])\n",
    "test[categorical_cols] = ordinal_encoder.fit_transform(test[categorical_cols])\n",
    "\n",
    "train.info()\n",
    "'''"
   ]
  },
  {
   "cell_type": "markdown",
   "id": "8eb70347",
   "metadata": {
    "papermill": {
     "duration": 0.096103,
     "end_time": "2022-04-06T03:29:00.992933",
     "exception": false,
     "start_time": "2022-04-06T03:29:00.896830",
     "status": "completed"
    },
    "tags": []
   },
   "source": [
    "- 이번에는 Onehot Encoding을 적용해본다. 이 때, pd.get_dummies()방식을 사용한다"
   ]
  },
  {
   "cell_type": "code",
   "execution_count": 37,
   "id": "9e656c7a",
   "metadata": {
    "execution": {
     "iopub.execute_input": "2022-04-06T03:29:01.190735Z",
     "iopub.status.busy": "2022-04-06T03:29:01.189733Z",
     "iopub.status.idle": "2022-04-06T03:29:01.195268Z",
     "shell.execute_reply": "2022-04-06T03:29:01.195842Z",
     "shell.execute_reply.started": "2022-04-06T03:23:25.400824Z"
    },
    "papermill": {
     "duration": 0.105661,
     "end_time": "2022-04-06T03:29:01.196014",
     "exception": false,
     "start_time": "2022-04-06T03:29:01.090353",
     "status": "completed"
    },
    "tags": []
   },
   "outputs": [
    {
     "data": {
      "text/plain": [
       "'\\n# Target 데이터는 1과 0으로 바꿈\\ntrain[\\'Transported\\'] = train[\\'Transported\\'].map({True: 1, False: 0})\\ncategorical_cols = [\"HomePlanet\", \"CryoSleep\", \"Destination\", \"VIP\"]\\n\\ntrain = pd.get_dummies(train)\\ntest = pd.get_dummies(test)\\ntrain.info()\\n'"
      ]
     },
     "execution_count": 37,
     "metadata": {},
     "output_type": "execute_result"
    }
   ],
   "source": [
    "'''\n",
    "# Target 데이터는 1과 0으로 바꿈\n",
    "train['Transported'] = train['Transported'].map({True: 1, False: 0})\n",
    "categorical_cols = [\"HomePlanet\", \"CryoSleep\", \"Destination\", \"VIP\"]\n",
    "\n",
    "train = pd.get_dummies(train)\n",
    "test = pd.get_dummies(test)\n",
    "train.info()\n",
    "'''"
   ]
  },
  {
   "cell_type": "markdown",
   "id": "c31e923d",
   "metadata": {
    "papermill": {
     "duration": 0.096844,
     "end_time": "2022-04-06T03:29:01.390984",
     "exception": false,
     "start_time": "2022-04-06T03:29:01.294140",
     "status": "completed"
    },
    "tags": []
   },
   "source": [
    "- 이번에는 OneHoeEncoder 메서드를 사용해본다."
   ]
  },
  {
   "cell_type": "code",
   "execution_count": 38,
   "id": "bb4332c3",
   "metadata": {
    "execution": {
     "iopub.execute_input": "2022-04-06T03:29:01.587449Z",
     "iopub.status.busy": "2022-04-06T03:29:01.586346Z",
     "iopub.status.idle": "2022-04-06T03:29:01.642134Z",
     "shell.execute_reply": "2022-04-06T03:29:01.641531Z",
     "shell.execute_reply.started": "2022-04-06T03:23:25.421000Z"
    },
    "papermill": {
     "duration": 0.154997,
     "end_time": "2022-04-06T03:29:01.642296",
     "exception": false,
     "start_time": "2022-04-06T03:29:01.487299",
     "status": "completed"
    },
    "tags": []
   },
   "outputs": [],
   "source": [
    "from sklearn.preprocessing import OneHotEncoder\n",
    "from sklearn.compose import make_column_transformer\n",
    "\n",
    "# Target 데이터는 1과 0으로 바꿈\n",
    "train['Transported'] = train['Transported'].map({True: 1, False: 0})\n",
    "categorical_cols = [\"HomePlanet\", \"CryoSleep\", \"Destination\", \"VIP\"]\n",
    "\n",
    "transformer = make_column_transformer(\n",
    "    (OneHotEncoder(), categorical_cols),\n",
    "    remainder='passthrough')\n",
    "\n",
    "train_transformed = transformer.fit_transform(train[categorical_cols])\n",
    "train_transformed_df = pd.DataFrame(train_transformed, columns=transformer.get_feature_names_out())\n",
    "train = pd.concat([train, train_transformed_df], axis = 1)\n",
    "train = train.drop(categorical_cols, axis = 1)\n",
    "\n",
    "test_transformed = transformer.fit_transform(test[categorical_cols])\n",
    "test_transformed_df = pd.DataFrame(test_transformed, columns=transformer.get_feature_names_out())\n",
    "test = pd.concat([test, test_transformed_df], axis = 1)\n",
    "test = test.drop(categorical_cols, axis = 1)"
   ]
  },
  {
   "cell_type": "code",
   "execution_count": 39,
   "id": "4b6937db",
   "metadata": {
    "execution": {
     "iopub.execute_input": "2022-04-06T03:29:01.842914Z",
     "iopub.status.busy": "2022-04-06T03:29:01.842224Z",
     "iopub.status.idle": "2022-04-06T03:29:01.851864Z",
     "shell.execute_reply": "2022-04-06T03:29:01.852477Z",
     "shell.execute_reply.started": "2022-04-06T03:23:25.493934Z"
    },
    "papermill": {
     "duration": 0.112991,
     "end_time": "2022-04-06T03:29:01.852647",
     "exception": false,
     "start_time": "2022-04-06T03:29:01.739656",
     "status": "completed"
    },
    "tags": []
   },
   "outputs": [
    {
     "name": "stdout",
     "output_type": "stream",
     "text": [
      "<class 'pandas.core.frame.DataFrame'>\n",
      "RangeIndex: 8693 entries, 0 to 8692\n",
      "Data columns (total 17 columns):\n",
      " #   Column                                    Non-Null Count  Dtype  \n",
      "---  ------                                    --------------  -----  \n",
      " 0   Age                                       8693 non-null   float64\n",
      " 1   RoomService                               8693 non-null   float64\n",
      " 2   FoodCourt                                 8693 non-null   float64\n",
      " 3   ShoppingMall                              8693 non-null   float64\n",
      " 4   Spa                                       8693 non-null   float64\n",
      " 5   VRDeck                                    8693 non-null   float64\n",
      " 6   Transported                               8693 non-null   int64  \n",
      " 7   onehotencoder__HomePlanet_Earth           8693 non-null   float64\n",
      " 8   onehotencoder__HomePlanet_Europa          8693 non-null   float64\n",
      " 9   onehotencoder__HomePlanet_Mars            8693 non-null   float64\n",
      " 10  onehotencoder__CryoSleep_False            8693 non-null   float64\n",
      " 11  onehotencoder__CryoSleep_True             8693 non-null   float64\n",
      " 12  onehotencoder__Destination_55 Cancri e    8693 non-null   float64\n",
      " 13  onehotencoder__Destination_PSO J318.5-22  8693 non-null   float64\n",
      " 14  onehotencoder__Destination_TRAPPIST-1e    8693 non-null   float64\n",
      " 15  onehotencoder__VIP_False                  8693 non-null   float64\n",
      " 16  onehotencoder__VIP_True                   8693 non-null   float64\n",
      "dtypes: float64(16), int64(1)\n",
      "memory usage: 1.1 MB\n"
     ]
    }
   ],
   "source": [
    "train.info()"
   ]
  },
  {
   "cell_type": "code",
   "execution_count": 40,
   "id": "898c13f1",
   "metadata": {
    "execution": {
     "iopub.execute_input": "2022-04-06T03:29:02.052259Z",
     "iopub.status.busy": "2022-04-06T03:29:02.051607Z",
     "iopub.status.idle": "2022-04-06T03:29:02.062295Z",
     "shell.execute_reply": "2022-04-06T03:29:02.063107Z",
     "shell.execute_reply.started": "2022-04-06T03:23:25.512821Z"
    },
    "papermill": {
     "duration": 0.113317,
     "end_time": "2022-04-06T03:29:02.063348",
     "exception": false,
     "start_time": "2022-04-06T03:29:01.950031",
     "status": "completed"
    },
    "tags": []
   },
   "outputs": [
    {
     "name": "stdout",
     "output_type": "stream",
     "text": [
      "<class 'pandas.core.frame.DataFrame'>\n",
      "RangeIndex: 4277 entries, 0 to 4276\n",
      "Data columns (total 16 columns):\n",
      " #   Column                                    Non-Null Count  Dtype  \n",
      "---  ------                                    --------------  -----  \n",
      " 0   Age                                       4277 non-null   float64\n",
      " 1   RoomService                               4277 non-null   float64\n",
      " 2   FoodCourt                                 4277 non-null   float64\n",
      " 3   ShoppingMall                              4277 non-null   float64\n",
      " 4   Spa                                       4277 non-null   float64\n",
      " 5   VRDeck                                    4277 non-null   float64\n",
      " 6   onehotencoder__HomePlanet_Earth           4277 non-null   float64\n",
      " 7   onehotencoder__HomePlanet_Europa          4277 non-null   float64\n",
      " 8   onehotencoder__HomePlanet_Mars            4277 non-null   float64\n",
      " 9   onehotencoder__CryoSleep_False            4277 non-null   float64\n",
      " 10  onehotencoder__CryoSleep_True             4277 non-null   float64\n",
      " 11  onehotencoder__Destination_55 Cancri e    4277 non-null   float64\n",
      " 12  onehotencoder__Destination_PSO J318.5-22  4277 non-null   float64\n",
      " 13  onehotencoder__Destination_TRAPPIST-1e    4277 non-null   float64\n",
      " 14  onehotencoder__VIP_False                  4277 non-null   float64\n",
      " 15  onehotencoder__VIP_True                   4277 non-null   float64\n",
      "dtypes: float64(16)\n",
      "memory usage: 534.8 KB\n"
     ]
    }
   ],
   "source": [
    "test.info()"
   ]
  },
  {
   "cell_type": "markdown",
   "id": "d1ed4520",
   "metadata": {
    "papermill": {
     "duration": 0.100103,
     "end_time": "2022-04-06T03:29:02.262547",
     "exception": false,
     "start_time": "2022-04-06T03:29:02.162444",
     "status": "completed"
    },
    "tags": []
   },
   "source": [
    "# Step4. 머신러닝 모형 개발\n",
    "- 모형쓸거아냐 모형에 대한 설명이 들어가 있어야 함\n",
    "- 모형 1-2개 정도만 써라\n",
    "- 교차검증, 하이퍼파라미터튜닝, 등등 훈련데이터 등등"
   ]
  },
  {
   "cell_type": "markdown",
   "id": "edae82c7",
   "metadata": {
    "papermill": {
     "duration": 0.096443,
     "end_time": "2022-04-06T03:29:02.455677",
     "exception": false,
     "start_time": "2022-04-06T03:29:02.359234",
     "status": "completed"
    },
    "tags": []
   },
   "source": [
    "- 독립변수와 종속변수를 구분해야 한다."
   ]
  },
  {
   "cell_type": "code",
   "execution_count": 41,
   "id": "261210c5",
   "metadata": {
    "execution": {
     "iopub.execute_input": "2022-04-06T03:29:02.660356Z",
     "iopub.status.busy": "2022-04-06T03:29:02.659719Z",
     "iopub.status.idle": "2022-04-06T03:29:02.661599Z",
     "shell.execute_reply": "2022-04-06T03:29:02.662082Z",
     "shell.execute_reply.started": "2022-04-06T03:23:25.528141Z"
    },
    "papermill": {
     "duration": 0.106646,
     "end_time": "2022-04-06T03:29:02.662263",
     "exception": false,
     "start_time": "2022-04-06T03:29:02.555617",
     "status": "completed"
    },
    "tags": []
   },
   "outputs": [],
   "source": [
    "X_cols = test.columns\n",
    "X = train[X_cols].to_numpy()\n",
    "y = train['Transported'].to_numpy()"
   ]
  },
  {
   "cell_type": "markdown",
   "id": "4f61b5d5",
   "metadata": {
    "papermill": {
     "duration": 0.098601,
     "end_time": "2022-04-06T03:29:02.860360",
     "exception": false,
     "start_time": "2022-04-06T03:29:02.761759",
     "status": "completed"
    },
    "tags": []
   },
   "source": [
    "- 훈련데이터, 검증데이터 분리\n",
    "- 교차검증 3회 실시"
   ]
  },
  {
   "cell_type": "code",
   "execution_count": 42,
   "id": "f05b0e33",
   "metadata": {
    "execution": {
     "iopub.execute_input": "2022-04-06T03:29:03.058884Z",
     "iopub.status.busy": "2022-04-06T03:29:03.058135Z",
     "iopub.status.idle": "2022-04-06T03:29:03.066026Z",
     "shell.execute_reply": "2022-04-06T03:29:03.066620Z",
     "shell.execute_reply.started": "2022-04-06T03:23:25.545440Z"
    },
    "papermill": {
     "duration": 0.108697,
     "end_time": "2022-04-06T03:29:03.066791",
     "exception": false,
     "start_time": "2022-04-06T03:29:02.958094",
     "status": "completed"
    },
    "tags": []
   },
   "outputs": [
    {
     "data": {
      "text/plain": [
       "((6085, 16), (2608, 16), (6085,), (2608,))"
      ]
     },
     "execution_count": 42,
     "metadata": {},
     "output_type": "execute_result"
    }
   ],
   "source": [
    "from sklearn.model_selection import train_test_split\n",
    "X_train, X_val, y_train, y_val = train_test_split(X, y, test_size = 0.3, random_state = 42 )\n",
    "X_train.shape, X_val.shape, y_train.shape, y_val.shape"
   ]
  },
  {
   "cell_type": "markdown",
   "id": "0ff6ff56",
   "metadata": {
    "papermill": {
     "duration": 0.096172,
     "end_time": "2022-04-06T03:29:03.260755",
     "exception": false,
     "start_time": "2022-04-06T03:29:03.164583",
     "status": "completed"
    },
    "tags": []
   },
   "source": [
    "- 이번에는 LightGBM 클래스를 부른 후 모형을 학습한다."
   ]
  },
  {
   "cell_type": "code",
   "execution_count": 43,
   "id": "97585c5e",
   "metadata": {
    "execution": {
     "iopub.execute_input": "2022-04-06T03:29:03.460690Z",
     "iopub.status.busy": "2022-04-06T03:29:03.459946Z",
     "iopub.status.idle": "2022-04-06T03:29:03.463991Z",
     "shell.execute_reply": "2022-04-06T03:29:03.464616Z",
     "shell.execute_reply.started": "2022-04-06T03:23:25.565935Z"
    },
    "papermill": {
     "duration": 0.105997,
     "end_time": "2022-04-06T03:29:03.464782",
     "exception": false,
     "start_time": "2022-04-06T03:29:03.358785",
     "status": "completed"
    },
    "tags": []
   },
   "outputs": [
    {
     "data": {
      "text/plain": [
       "'\\nfrom lightgbm import LGBMClassifier\\n\\nlgb = LGBMClassifier(random_state=42)\\nlgb\\n'"
      ]
     },
     "execution_count": 43,
     "metadata": {},
     "output_type": "execute_result"
    }
   ],
   "source": [
    "'''\n",
    "from lightgbm import LGBMClassifier\n",
    "\n",
    "lgb = LGBMClassifier(random_state=42)\n",
    "lgb\n",
    "'''"
   ]
  },
  {
   "cell_type": "markdown",
   "id": "8ac7d18e",
   "metadata": {
    "papermill": {
     "duration": 0.096872,
     "end_time": "2022-04-06T03:29:03.659220",
     "exception": false,
     "start_time": "2022-04-06T03:29:03.562348",
     "status": "completed"
    },
    "tags": []
   },
   "source": [
    "# Model Selection\n",
    "- Ref. https://www.kaggle.com/code/samuelcortinhas/spaceship-titanic-a-complete-guide\n",
    "- 그리드 서치를 적용함.\n",
    "- 4차시도 : 0.79097 (미 적용 시 : 0.78840)\n",
    "  - 큰 차이는 일어나지 않음\n",
    "  - 그러나 코드는 많이 작성...;;;"
   ]
  },
  {
   "cell_type": "markdown",
   "id": "2bb76d57",
   "metadata": {
    "papermill": {
     "duration": 0.096987,
     "end_time": "2022-04-06T03:29:03.854821",
     "exception": false,
     "start_time": "2022-04-06T03:29:03.757834",
     "status": "completed"
    },
    "tags": []
   },
   "source": [
    "## 모형 옵션 선택\n",
    "- 아래와 같은 모형을 정의한다."
   ]
  },
  {
   "cell_type": "code",
   "execution_count": 44,
   "id": "7590dd2f",
   "metadata": {
    "execution": {
     "iopub.execute_input": "2022-04-06T03:29:04.052498Z",
     "iopub.status.busy": "2022-04-06T03:29:04.051836Z",
     "iopub.status.idle": "2022-04-06T03:29:05.229444Z",
     "shell.execute_reply": "2022-04-06T03:29:05.228788Z",
     "shell.execute_reply.started": "2022-04-06T03:23:25.577698Z"
    },
    "papermill": {
     "duration": 1.277752,
     "end_time": "2022-04-06T03:29:05.229591",
     "exception": false,
     "start_time": "2022-04-06T03:29:03.951839",
     "status": "completed"
    },
    "tags": []
   },
   "outputs": [
    {
     "data": {
      "text/html": [
       "<style type='text/css'>\n",
       ".datatable table.frame { margin-bottom: 0; }\n",
       ".datatable table.frame thead { border-bottom: none; }\n",
       ".datatable table.frame tr.coltypes td {  color: #FFFFFF;  line-height: 6px;  padding: 0 0.5em;}\n",
       ".datatable .bool    { background: #DDDD99; }\n",
       ".datatable .object  { background: #565656; }\n",
       ".datatable .int     { background: #5D9E5D; }\n",
       ".datatable .float   { background: #4040CC; }\n",
       ".datatable .str     { background: #CC4040; }\n",
       ".datatable .time    { background: #40CC40; }\n",
       ".datatable .row_index {  background: var(--jp-border-color3);  border-right: 1px solid var(--jp-border-color0);  color: var(--jp-ui-font-color3);  font-size: 9px;}\n",
       ".datatable .frame tbody td { text-align: left; }\n",
       ".datatable .frame tr.coltypes .row_index {  background: var(--jp-border-color0);}\n",
       ".datatable th:nth-child(2) { padding-left: 12px; }\n",
       ".datatable .hellipsis {  color: var(--jp-cell-editor-border-color);}\n",
       ".datatable .vellipsis {  background: var(--jp-layout-color0);  color: var(--jp-cell-editor-border-color);}\n",
       ".datatable .na {  color: var(--jp-cell-editor-border-color);  font-size: 80%;}\n",
       ".datatable .sp {  opacity: 0.25;}\n",
       ".datatable .footer { font-size: 9px; }\n",
       ".datatable .frame_dimensions {  background: var(--jp-border-color3);  border-top: 1px solid var(--jp-border-color0);  color: var(--jp-ui-font-color3);  display: inline-block;  opacity: 0.6;  padding: 1px 10px 1px 5px;}\n",
       "</style>\n"
      ],
      "text/plain": [
       "<IPython.core.display.HTML object>"
      ]
     },
     "metadata": {},
     "output_type": "display_data"
    }
   ],
   "source": [
    "# Models\n",
    "from sklearn.linear_model import LogisticRegression\n",
    "from sklearn.neighbors import KNeighborsClassifier\n",
    "from sklearn.svm import SVC\n",
    "from sklearn.tree import DecisionTreeClassifier\n",
    "from sklearn.ensemble import RandomForestClassifier\n",
    "from xgboost import XGBClassifier\n",
    "from lightgbm import LGBMClassifier\n",
    "from catboost import CatBoostClassifier\n",
    "from sklearn.naive_bayes import GaussianNB\n",
    "\n",
    "# Classifiers\n",
    "classifiers = {\n",
    "    \"LogisticRegression\" : LogisticRegression(random_state=0),\n",
    "    \"KNN\" : KNeighborsClassifier(),\n",
    "    \"RandomForest\" : RandomForestClassifier(random_state=0),\n",
    "    \"LGBM\" : LGBMClassifier(random_state=0)\n",
    "}"
   ]
  },
  {
   "cell_type": "code",
   "execution_count": 45,
   "id": "538b24a9",
   "metadata": {
    "execution": {
     "iopub.execute_input": "2022-04-06T03:29:05.434861Z",
     "iopub.status.busy": "2022-04-06T03:29:05.434042Z",
     "iopub.status.idle": "2022-04-06T03:29:05.436668Z",
     "shell.execute_reply": "2022-04-06T03:29:05.436190Z",
     "shell.execute_reply.started": "2022-04-06T03:23:27.055455Z"
    },
    "papermill": {
     "duration": 0.108264,
     "end_time": "2022-04-06T03:29:05.436805",
     "exception": false,
     "start_time": "2022-04-06T03:29:05.328541",
     "status": "completed"
    },
    "tags": []
   },
   "outputs": [],
   "source": [
    "# Grids for grid search\n",
    "LR_grid = {'penalty': ['l1','l2'],\n",
    "           'C': [0.25, 0.5, 0.75, 1, 1.25, 1.5],\n",
    "           'max_iter': [50, 100, 150]}\n",
    "\n",
    "KNN_grid = {'n_neighbors': [3, 5, 7, 9],\n",
    "            'p': [1, 2]}\n",
    "\n",
    "RF_grid = {'n_estimators': [50, 100, 150, 200, 250, 300],\n",
    "        'max_depth': [4, 6, 8, 10, 12]}\n",
    "\n",
    "boosted_grid = {'n_estimators': [50, 100, 150, 200],\n",
    "        'max_depth': [4, 8, 12],\n",
    "        'learning_rate': [0.05, 0.1, 0.15]}\n",
    "\n",
    "# Dictionary of all grids\n",
    "grid = {\n",
    "    \"LogisticRegression\" : LR_grid,\n",
    "    \"KNN\" : KNN_grid,\n",
    "    \"RandomForest\" : RF_grid,\n",
    "    \"LGBM\" : boosted_grid\n",
    "}"
   ]
  },
  {
   "cell_type": "markdown",
   "id": "41853b03",
   "metadata": {
    "papermill": {
     "duration": 0.09781,
     "end_time": "2022-04-06T03:29:05.633025",
     "exception": false,
     "start_time": "2022-04-06T03:29:05.535215",
     "status": "completed"
    },
    "tags": []
   },
   "source": [
    "- 불러온 모형과 그리드 서치를 각각 개별적으로 정의하는 코드를 작성한다.\n",
    "- 해당 결과는 모두 데이터프레임에 담도록 한다."
   ]
  },
  {
   "cell_type": "code",
   "execution_count": 46,
   "id": "b45accac",
   "metadata": {
    "execution": {
     "iopub.execute_input": "2022-04-06T03:29:05.841529Z",
     "iopub.status.busy": "2022-04-06T03:29:05.840808Z",
     "iopub.status.idle": "2022-04-06T03:30:11.456849Z",
     "shell.execute_reply": "2022-04-06T03:30:11.457952Z",
     "shell.execute_reply.started": "2022-04-06T03:23:27.069087Z"
    },
    "papermill": {
     "duration": 65.726855,
     "end_time": "2022-04-06T03:30:11.458328",
     "exception": false,
     "start_time": "2022-04-06T03:29:05.731473",
     "status": "completed"
    },
    "tags": []
   },
   "outputs": [
    {
     "name": "stderr",
     "output_type": "stream",
     "text": [
      "/opt/conda/lib/python3.7/site-packages/sklearn/linear_model/_logistic.py:818: ConvergenceWarning: lbfgs failed to converge (status=1):\n",
      "STOP: TOTAL NO. of ITERATIONS REACHED LIMIT.\n",
      "\n",
      "Increase the number of iterations (max_iter) or scale the data as shown in:\n",
      "    https://scikit-learn.org/stable/modules/preprocessing.html\n",
      "Please also refer to the documentation for alternative solver options:\n",
      "    https://scikit-learn.org/stable/modules/linear_model.html#logistic-regression\n",
      "  extra_warning_msg=_LOGISTIC_SOLVER_CONVERGENCE_MSG,\n",
      "/opt/conda/lib/python3.7/site-packages/sklearn/linear_model/_logistic.py:818: ConvergenceWarning: lbfgs failed to converge (status=1):\n",
      "STOP: TOTAL NO. of ITERATIONS REACHED LIMIT.\n",
      "\n",
      "Increase the number of iterations (max_iter) or scale the data as shown in:\n",
      "    https://scikit-learn.org/stable/modules/preprocessing.html\n",
      "Please also refer to the documentation for alternative solver options:\n",
      "    https://scikit-learn.org/stable/modules/linear_model.html#logistic-regression\n",
      "  extra_warning_msg=_LOGISTIC_SOLVER_CONVERGENCE_MSG,\n",
      "/opt/conda/lib/python3.7/site-packages/sklearn/linear_model/_logistic.py:818: ConvergenceWarning: lbfgs failed to converge (status=1):\n",
      "STOP: TOTAL NO. of ITERATIONS REACHED LIMIT.\n",
      "\n",
      "Increase the number of iterations (max_iter) or scale the data as shown in:\n",
      "    https://scikit-learn.org/stable/modules/preprocessing.html\n",
      "Please also refer to the documentation for alternative solver options:\n",
      "    https://scikit-learn.org/stable/modules/linear_model.html#logistic-regression\n",
      "  extra_warning_msg=_LOGISTIC_SOLVER_CONVERGENCE_MSG,\n",
      "/opt/conda/lib/python3.7/site-packages/sklearn/linear_model/_logistic.py:818: ConvergenceWarning: lbfgs failed to converge (status=1):\n",
      "STOP: TOTAL NO. of ITERATIONS REACHED LIMIT.\n",
      "\n",
      "Increase the number of iterations (max_iter) or scale the data as shown in:\n",
      "    https://scikit-learn.org/stable/modules/preprocessing.html\n",
      "Please also refer to the documentation for alternative solver options:\n",
      "    https://scikit-learn.org/stable/modules/linear_model.html#logistic-regression\n",
      "  extra_warning_msg=_LOGISTIC_SOLVER_CONVERGENCE_MSG,\n",
      "/opt/conda/lib/python3.7/site-packages/sklearn/linear_model/_logistic.py:818: ConvergenceWarning: lbfgs failed to converge (status=1):\n",
      "STOP: TOTAL NO. of ITERATIONS REACHED LIMIT.\n",
      "\n",
      "Increase the number of iterations (max_iter) or scale the data as shown in:\n",
      "    https://scikit-learn.org/stable/modules/preprocessing.html\n",
      "Please also refer to the documentation for alternative solver options:\n",
      "    https://scikit-learn.org/stable/modules/linear_model.html#logistic-regression\n",
      "  extra_warning_msg=_LOGISTIC_SOLVER_CONVERGENCE_MSG,\n",
      "/opt/conda/lib/python3.7/site-packages/sklearn/linear_model/_logistic.py:818: ConvergenceWarning: lbfgs failed to converge (status=1):\n",
      "STOP: TOTAL NO. of ITERATIONS REACHED LIMIT.\n",
      "\n",
      "Increase the number of iterations (max_iter) or scale the data as shown in:\n",
      "    https://scikit-learn.org/stable/modules/preprocessing.html\n",
      "Please also refer to the documentation for alternative solver options:\n",
      "    https://scikit-learn.org/stable/modules/linear_model.html#logistic-regression\n",
      "  extra_warning_msg=_LOGISTIC_SOLVER_CONVERGENCE_MSG,\n",
      "/opt/conda/lib/python3.7/site-packages/sklearn/linear_model/_logistic.py:818: ConvergenceWarning: lbfgs failed to converge (status=1):\n",
      "STOP: TOTAL NO. of ITERATIONS REACHED LIMIT.\n",
      "\n",
      "Increase the number of iterations (max_iter) or scale the data as shown in:\n",
      "    https://scikit-learn.org/stable/modules/preprocessing.html\n",
      "Please also refer to the documentation for alternative solver options:\n",
      "    https://scikit-learn.org/stable/modules/linear_model.html#logistic-regression\n",
      "  extra_warning_msg=_LOGISTIC_SOLVER_CONVERGENCE_MSG,\n",
      "/opt/conda/lib/python3.7/site-packages/sklearn/linear_model/_logistic.py:818: ConvergenceWarning: lbfgs failed to converge (status=1):\n",
      "STOP: TOTAL NO. of ITERATIONS REACHED LIMIT.\n",
      "\n",
      "Increase the number of iterations (max_iter) or scale the data as shown in:\n",
      "    https://scikit-learn.org/stable/modules/preprocessing.html\n",
      "Please also refer to the documentation for alternative solver options:\n",
      "    https://scikit-learn.org/stable/modules/linear_model.html#logistic-regression\n",
      "  extra_warning_msg=_LOGISTIC_SOLVER_CONVERGENCE_MSG,\n",
      "/opt/conda/lib/python3.7/site-packages/sklearn/linear_model/_logistic.py:818: ConvergenceWarning: lbfgs failed to converge (status=1):\n",
      "STOP: TOTAL NO. of ITERATIONS REACHED LIMIT.\n",
      "\n",
      "Increase the number of iterations (max_iter) or scale the data as shown in:\n",
      "    https://scikit-learn.org/stable/modules/preprocessing.html\n",
      "Please also refer to the documentation for alternative solver options:\n",
      "    https://scikit-learn.org/stable/modules/linear_model.html#logistic-regression\n",
      "  extra_warning_msg=_LOGISTIC_SOLVER_CONVERGENCE_MSG,\n",
      "/opt/conda/lib/python3.7/site-packages/sklearn/linear_model/_logistic.py:818: ConvergenceWarning: lbfgs failed to converge (status=1):\n",
      "STOP: TOTAL NO. of ITERATIONS REACHED LIMIT.\n",
      "\n",
      "Increase the number of iterations (max_iter) or scale the data as shown in:\n",
      "    https://scikit-learn.org/stable/modules/preprocessing.html\n",
      "Please also refer to the documentation for alternative solver options:\n",
      "    https://scikit-learn.org/stable/modules/linear_model.html#logistic-regression\n",
      "  extra_warning_msg=_LOGISTIC_SOLVER_CONVERGENCE_MSG,\n",
      "/opt/conda/lib/python3.7/site-packages/sklearn/linear_model/_logistic.py:818: ConvergenceWarning: lbfgs failed to converge (status=1):\n",
      "STOP: TOTAL NO. of ITERATIONS REACHED LIMIT.\n",
      "\n",
      "Increase the number of iterations (max_iter) or scale the data as shown in:\n",
      "    https://scikit-learn.org/stable/modules/preprocessing.html\n",
      "Please also refer to the documentation for alternative solver options:\n",
      "    https://scikit-learn.org/stable/modules/linear_model.html#logistic-regression\n",
      "  extra_warning_msg=_LOGISTIC_SOLVER_CONVERGENCE_MSG,\n",
      "/opt/conda/lib/python3.7/site-packages/sklearn/linear_model/_logistic.py:818: ConvergenceWarning: lbfgs failed to converge (status=1):\n",
      "STOP: TOTAL NO. of ITERATIONS REACHED LIMIT.\n",
      "\n",
      "Increase the number of iterations (max_iter) or scale the data as shown in:\n",
      "    https://scikit-learn.org/stable/modules/preprocessing.html\n",
      "Please also refer to the documentation for alternative solver options:\n",
      "    https://scikit-learn.org/stable/modules/linear_model.html#logistic-regression\n",
      "  extra_warning_msg=_LOGISTIC_SOLVER_CONVERGENCE_MSG,\n",
      "/opt/conda/lib/python3.7/site-packages/sklearn/linear_model/_logistic.py:818: ConvergenceWarning: lbfgs failed to converge (status=1):\n",
      "STOP: TOTAL NO. of ITERATIONS REACHED LIMIT.\n",
      "\n",
      "Increase the number of iterations (max_iter) or scale the data as shown in:\n",
      "    https://scikit-learn.org/stable/modules/preprocessing.html\n",
      "Please also refer to the documentation for alternative solver options:\n",
      "    https://scikit-learn.org/stable/modules/linear_model.html#logistic-regression\n",
      "  extra_warning_msg=_LOGISTIC_SOLVER_CONVERGENCE_MSG,\n",
      "/opt/conda/lib/python3.7/site-packages/sklearn/linear_model/_logistic.py:818: ConvergenceWarning: lbfgs failed to converge (status=1):\n",
      "STOP: TOTAL NO. of ITERATIONS REACHED LIMIT.\n",
      "\n",
      "Increase the number of iterations (max_iter) or scale the data as shown in:\n",
      "    https://scikit-learn.org/stable/modules/preprocessing.html\n",
      "Please also refer to the documentation for alternative solver options:\n",
      "    https://scikit-learn.org/stable/modules/linear_model.html#logistic-regression\n",
      "  extra_warning_msg=_LOGISTIC_SOLVER_CONVERGENCE_MSG,\n",
      "/opt/conda/lib/python3.7/site-packages/sklearn/linear_model/_logistic.py:818: ConvergenceWarning: lbfgs failed to converge (status=1):\n",
      "STOP: TOTAL NO. of ITERATIONS REACHED LIMIT.\n",
      "\n",
      "Increase the number of iterations (max_iter) or scale the data as shown in:\n",
      "    https://scikit-learn.org/stable/modules/preprocessing.html\n",
      "Please also refer to the documentation for alternative solver options:\n",
      "    https://scikit-learn.org/stable/modules/linear_model.html#logistic-regression\n",
      "  extra_warning_msg=_LOGISTIC_SOLVER_CONVERGENCE_MSG,\n",
      "/opt/conda/lib/python3.7/site-packages/sklearn/linear_model/_logistic.py:818: ConvergenceWarning: lbfgs failed to converge (status=1):\n",
      "STOP: TOTAL NO. of ITERATIONS REACHED LIMIT.\n",
      "\n",
      "Increase the number of iterations (max_iter) or scale the data as shown in:\n",
      "    https://scikit-learn.org/stable/modules/preprocessing.html\n",
      "Please also refer to the documentation for alternative solver options:\n",
      "    https://scikit-learn.org/stable/modules/linear_model.html#logistic-regression\n",
      "  extra_warning_msg=_LOGISTIC_SOLVER_CONVERGENCE_MSG,\n",
      "/opt/conda/lib/python3.7/site-packages/sklearn/linear_model/_logistic.py:818: ConvergenceWarning: lbfgs failed to converge (status=1):\n",
      "STOP: TOTAL NO. of ITERATIONS REACHED LIMIT.\n",
      "\n",
      "Increase the number of iterations (max_iter) or scale the data as shown in:\n",
      "    https://scikit-learn.org/stable/modules/preprocessing.html\n",
      "Please also refer to the documentation for alternative solver options:\n",
      "    https://scikit-learn.org/stable/modules/linear_model.html#logistic-regression\n",
      "  extra_warning_msg=_LOGISTIC_SOLVER_CONVERGENCE_MSG,\n",
      "/opt/conda/lib/python3.7/site-packages/sklearn/linear_model/_logistic.py:818: ConvergenceWarning: lbfgs failed to converge (status=1):\n",
      "STOP: TOTAL NO. of ITERATIONS REACHED LIMIT.\n",
      "\n",
      "Increase the number of iterations (max_iter) or scale the data as shown in:\n",
      "    https://scikit-learn.org/stable/modules/preprocessing.html\n",
      "Please also refer to the documentation for alternative solver options:\n",
      "    https://scikit-learn.org/stable/modules/linear_model.html#logistic-regression\n",
      "  extra_warning_msg=_LOGISTIC_SOLVER_CONVERGENCE_MSG,\n",
      "/opt/conda/lib/python3.7/site-packages/sklearn/linear_model/_logistic.py:818: ConvergenceWarning: lbfgs failed to converge (status=1):\n",
      "STOP: TOTAL NO. of ITERATIONS REACHED LIMIT.\n",
      "\n",
      "Increase the number of iterations (max_iter) or scale the data as shown in:\n",
      "    https://scikit-learn.org/stable/modules/preprocessing.html\n",
      "Please also refer to the documentation for alternative solver options:\n",
      "    https://scikit-learn.org/stable/modules/linear_model.html#logistic-regression\n",
      "  extra_warning_msg=_LOGISTIC_SOLVER_CONVERGENCE_MSG,\n",
      "/opt/conda/lib/python3.7/site-packages/sklearn/linear_model/_logistic.py:818: ConvergenceWarning: lbfgs failed to converge (status=1):\n",
      "STOP: TOTAL NO. of ITERATIONS REACHED LIMIT.\n",
      "\n",
      "Increase the number of iterations (max_iter) or scale the data as shown in:\n",
      "    https://scikit-learn.org/stable/modules/preprocessing.html\n",
      "Please also refer to the documentation for alternative solver options:\n",
      "    https://scikit-learn.org/stable/modules/linear_model.html#logistic-regression\n",
      "  extra_warning_msg=_LOGISTIC_SOLVER_CONVERGENCE_MSG,\n",
      "/opt/conda/lib/python3.7/site-packages/sklearn/linear_model/_logistic.py:818: ConvergenceWarning: lbfgs failed to converge (status=1):\n",
      "STOP: TOTAL NO. of ITERATIONS REACHED LIMIT.\n",
      "\n",
      "Increase the number of iterations (max_iter) or scale the data as shown in:\n",
      "    https://scikit-learn.org/stable/modules/preprocessing.html\n",
      "Please also refer to the documentation for alternative solver options:\n",
      "    https://scikit-learn.org/stable/modules/linear_model.html#logistic-regression\n",
      "  extra_warning_msg=_LOGISTIC_SOLVER_CONVERGENCE_MSG,\n",
      "/opt/conda/lib/python3.7/site-packages/sklearn/linear_model/_logistic.py:818: ConvergenceWarning: lbfgs failed to converge (status=1):\n",
      "STOP: TOTAL NO. of ITERATIONS REACHED LIMIT.\n",
      "\n",
      "Increase the number of iterations (max_iter) or scale the data as shown in:\n",
      "    https://scikit-learn.org/stable/modules/preprocessing.html\n",
      "Please also refer to the documentation for alternative solver options:\n",
      "    https://scikit-learn.org/stable/modules/linear_model.html#logistic-regression\n",
      "  extra_warning_msg=_LOGISTIC_SOLVER_CONVERGENCE_MSG,\n",
      "/opt/conda/lib/python3.7/site-packages/sklearn/linear_model/_logistic.py:818: ConvergenceWarning: lbfgs failed to converge (status=1):\n",
      "STOP: TOTAL NO. of ITERATIONS REACHED LIMIT.\n",
      "\n",
      "Increase the number of iterations (max_iter) or scale the data as shown in:\n",
      "    https://scikit-learn.org/stable/modules/preprocessing.html\n",
      "Please also refer to the documentation for alternative solver options:\n",
      "    https://scikit-learn.org/stable/modules/linear_model.html#logistic-regression\n",
      "  extra_warning_msg=_LOGISTIC_SOLVER_CONVERGENCE_MSG,\n",
      "/opt/conda/lib/python3.7/site-packages/sklearn/linear_model/_logistic.py:818: ConvergenceWarning: lbfgs failed to converge (status=1):\n",
      "STOP: TOTAL NO. of ITERATIONS REACHED LIMIT.\n",
      "\n",
      "Increase the number of iterations (max_iter) or scale the data as shown in:\n",
      "    https://scikit-learn.org/stable/modules/preprocessing.html\n",
      "Please also refer to the documentation for alternative solver options:\n",
      "    https://scikit-learn.org/stable/modules/linear_model.html#logistic-regression\n",
      "  extra_warning_msg=_LOGISTIC_SOLVER_CONVERGENCE_MSG,\n",
      "/opt/conda/lib/python3.7/site-packages/sklearn/linear_model/_logistic.py:818: ConvergenceWarning: lbfgs failed to converge (status=1):\n",
      "STOP: TOTAL NO. of ITERATIONS REACHED LIMIT.\n",
      "\n",
      "Increase the number of iterations (max_iter) or scale the data as shown in:\n",
      "    https://scikit-learn.org/stable/modules/preprocessing.html\n",
      "Please also refer to the documentation for alternative solver options:\n",
      "    https://scikit-learn.org/stable/modules/linear_model.html#logistic-regression\n",
      "  extra_warning_msg=_LOGISTIC_SOLVER_CONVERGENCE_MSG,\n",
      "/opt/conda/lib/python3.7/site-packages/sklearn/linear_model/_logistic.py:818: ConvergenceWarning: lbfgs failed to converge (status=1):\n",
      "STOP: TOTAL NO. of ITERATIONS REACHED LIMIT.\n",
      "\n",
      "Increase the number of iterations (max_iter) or scale the data as shown in:\n",
      "    https://scikit-learn.org/stable/modules/preprocessing.html\n",
      "Please also refer to the documentation for alternative solver options:\n",
      "    https://scikit-learn.org/stable/modules/linear_model.html#logistic-regression\n",
      "  extra_warning_msg=_LOGISTIC_SOLVER_CONVERGENCE_MSG,\n",
      "/opt/conda/lib/python3.7/site-packages/sklearn/linear_model/_logistic.py:818: ConvergenceWarning: lbfgs failed to converge (status=1):\n",
      "STOP: TOTAL NO. of ITERATIONS REACHED LIMIT.\n",
      "\n",
      "Increase the number of iterations (max_iter) or scale the data as shown in:\n",
      "    https://scikit-learn.org/stable/modules/preprocessing.html\n",
      "Please also refer to the documentation for alternative solver options:\n",
      "    https://scikit-learn.org/stable/modules/linear_model.html#logistic-regression\n",
      "  extra_warning_msg=_LOGISTIC_SOLVER_CONVERGENCE_MSG,\n",
      "/opt/conda/lib/python3.7/site-packages/sklearn/linear_model/_logistic.py:818: ConvergenceWarning: lbfgs failed to converge (status=1):\n",
      "STOP: TOTAL NO. of ITERATIONS REACHED LIMIT.\n",
      "\n",
      "Increase the number of iterations (max_iter) or scale the data as shown in:\n",
      "    https://scikit-learn.org/stable/modules/preprocessing.html\n",
      "Please also refer to the documentation for alternative solver options:\n",
      "    https://scikit-learn.org/stable/modules/linear_model.html#logistic-regression\n",
      "  extra_warning_msg=_LOGISTIC_SOLVER_CONVERGENCE_MSG,\n",
      "/opt/conda/lib/python3.7/site-packages/sklearn/linear_model/_logistic.py:818: ConvergenceWarning: lbfgs failed to converge (status=1):\n",
      "STOP: TOTAL NO. of ITERATIONS REACHED LIMIT.\n",
      "\n",
      "Increase the number of iterations (max_iter) or scale the data as shown in:\n",
      "    https://scikit-learn.org/stable/modules/preprocessing.html\n",
      "Please also refer to the documentation for alternative solver options:\n",
      "    https://scikit-learn.org/stable/modules/linear_model.html#logistic-regression\n",
      "  extra_warning_msg=_LOGISTIC_SOLVER_CONVERGENCE_MSG,\n",
      "/opt/conda/lib/python3.7/site-packages/sklearn/linear_model/_logistic.py:818: ConvergenceWarning: lbfgs failed to converge (status=1):\n",
      "STOP: TOTAL NO. of ITERATIONS REACHED LIMIT.\n",
      "\n",
      "Increase the number of iterations (max_iter) or scale the data as shown in:\n",
      "    https://scikit-learn.org/stable/modules/preprocessing.html\n",
      "Please also refer to the documentation for alternative solver options:\n",
      "    https://scikit-learn.org/stable/modules/linear_model.html#logistic-regression\n",
      "  extra_warning_msg=_LOGISTIC_SOLVER_CONVERGENCE_MSG,\n",
      "/opt/conda/lib/python3.7/site-packages/sklearn/linear_model/_logistic.py:818: ConvergenceWarning: lbfgs failed to converge (status=1):\n",
      "STOP: TOTAL NO. of ITERATIONS REACHED LIMIT.\n",
      "\n",
      "Increase the number of iterations (max_iter) or scale the data as shown in:\n",
      "    https://scikit-learn.org/stable/modules/preprocessing.html\n",
      "Please also refer to the documentation for alternative solver options:\n",
      "    https://scikit-learn.org/stable/modules/linear_model.html#logistic-regression\n",
      "  extra_warning_msg=_LOGISTIC_SOLVER_CONVERGENCE_MSG,\n",
      "/opt/conda/lib/python3.7/site-packages/sklearn/linear_model/_logistic.py:818: ConvergenceWarning: lbfgs failed to converge (status=1):\n",
      "STOP: TOTAL NO. of ITERATIONS REACHED LIMIT.\n",
      "\n",
      "Increase the number of iterations (max_iter) or scale the data as shown in:\n",
      "    https://scikit-learn.org/stable/modules/preprocessing.html\n",
      "Please also refer to the documentation for alternative solver options:\n",
      "    https://scikit-learn.org/stable/modules/linear_model.html#logistic-regression\n",
      "  extra_warning_msg=_LOGISTIC_SOLVER_CONVERGENCE_MSG,\n",
      "/opt/conda/lib/python3.7/site-packages/sklearn/linear_model/_logistic.py:818: ConvergenceWarning: lbfgs failed to converge (status=1):\n",
      "STOP: TOTAL NO. of ITERATIONS REACHED LIMIT.\n",
      "\n",
      "Increase the number of iterations (max_iter) or scale the data as shown in:\n",
      "    https://scikit-learn.org/stable/modules/preprocessing.html\n",
      "Please also refer to the documentation for alternative solver options:\n",
      "    https://scikit-learn.org/stable/modules/linear_model.html#logistic-regression\n",
      "  extra_warning_msg=_LOGISTIC_SOLVER_CONVERGENCE_MSG,\n",
      "/opt/conda/lib/python3.7/site-packages/sklearn/linear_model/_logistic.py:818: ConvergenceWarning: lbfgs failed to converge (status=1):\n",
      "STOP: TOTAL NO. of ITERATIONS REACHED LIMIT.\n",
      "\n",
      "Increase the number of iterations (max_iter) or scale the data as shown in:\n",
      "    https://scikit-learn.org/stable/modules/preprocessing.html\n",
      "Please also refer to the documentation for alternative solver options:\n",
      "    https://scikit-learn.org/stable/modules/linear_model.html#logistic-regression\n",
      "  extra_warning_msg=_LOGISTIC_SOLVER_CONVERGENCE_MSG,\n",
      "/opt/conda/lib/python3.7/site-packages/sklearn/linear_model/_logistic.py:818: ConvergenceWarning: lbfgs failed to converge (status=1):\n",
      "STOP: TOTAL NO. of ITERATIONS REACHED LIMIT.\n",
      "\n",
      "Increase the number of iterations (max_iter) or scale the data as shown in:\n",
      "    https://scikit-learn.org/stable/modules/preprocessing.html\n",
      "Please also refer to the documentation for alternative solver options:\n",
      "    https://scikit-learn.org/stable/modules/linear_model.html#logistic-regression\n",
      "  extra_warning_msg=_LOGISTIC_SOLVER_CONVERGENCE_MSG,\n",
      "/opt/conda/lib/python3.7/site-packages/sklearn/linear_model/_logistic.py:818: ConvergenceWarning: lbfgs failed to converge (status=1):\n",
      "STOP: TOTAL NO. of ITERATIONS REACHED LIMIT.\n",
      "\n",
      "Increase the number of iterations (max_iter) or scale the data as shown in:\n",
      "    https://scikit-learn.org/stable/modules/preprocessing.html\n",
      "Please also refer to the documentation for alternative solver options:\n",
      "    https://scikit-learn.org/stable/modules/linear_model.html#logistic-regression\n",
      "  extra_warning_msg=_LOGISTIC_SOLVER_CONVERGENCE_MSG,\n",
      "/opt/conda/lib/python3.7/site-packages/sklearn/linear_model/_logistic.py:818: ConvergenceWarning: lbfgs failed to converge (status=1):\n",
      "STOP: TOTAL NO. of ITERATIONS REACHED LIMIT.\n",
      "\n",
      "Increase the number of iterations (max_iter) or scale the data as shown in:\n",
      "    https://scikit-learn.org/stable/modules/preprocessing.html\n",
      "Please also refer to the documentation for alternative solver options:\n",
      "    https://scikit-learn.org/stable/modules/linear_model.html#logistic-regression\n",
      "  extra_warning_msg=_LOGISTIC_SOLVER_CONVERGENCE_MSG,\n",
      "/opt/conda/lib/python3.7/site-packages/sklearn/linear_model/_logistic.py:818: ConvergenceWarning: lbfgs failed to converge (status=1):\n",
      "STOP: TOTAL NO. of ITERATIONS REACHED LIMIT.\n",
      "\n",
      "Increase the number of iterations (max_iter) or scale the data as shown in:\n",
      "    https://scikit-learn.org/stable/modules/preprocessing.html\n",
      "Please also refer to the documentation for alternative solver options:\n",
      "    https://scikit-learn.org/stable/modules/linear_model.html#logistic-regression\n",
      "  extra_warning_msg=_LOGISTIC_SOLVER_CONVERGENCE_MSG,\n",
      "/opt/conda/lib/python3.7/site-packages/sklearn/linear_model/_logistic.py:818: ConvergenceWarning: lbfgs failed to converge (status=1):\n",
      "STOP: TOTAL NO. of ITERATIONS REACHED LIMIT.\n",
      "\n",
      "Increase the number of iterations (max_iter) or scale the data as shown in:\n",
      "    https://scikit-learn.org/stable/modules/preprocessing.html\n",
      "Please also refer to the documentation for alternative solver options:\n",
      "    https://scikit-learn.org/stable/modules/linear_model.html#logistic-regression\n",
      "  extra_warning_msg=_LOGISTIC_SOLVER_CONVERGENCE_MSG,\n",
      "/opt/conda/lib/python3.7/site-packages/sklearn/linear_model/_logistic.py:818: ConvergenceWarning: lbfgs failed to converge (status=1):\n",
      "STOP: TOTAL NO. of ITERATIONS REACHED LIMIT.\n",
      "\n",
      "Increase the number of iterations (max_iter) or scale the data as shown in:\n",
      "    https://scikit-learn.org/stable/modules/preprocessing.html\n",
      "Please also refer to the documentation for alternative solver options:\n",
      "    https://scikit-learn.org/stable/modules/linear_model.html#logistic-regression\n",
      "  extra_warning_msg=_LOGISTIC_SOLVER_CONVERGENCE_MSG,\n",
      "/opt/conda/lib/python3.7/site-packages/sklearn/linear_model/_logistic.py:818: ConvergenceWarning: lbfgs failed to converge (status=1):\n",
      "STOP: TOTAL NO. of ITERATIONS REACHED LIMIT.\n",
      "\n",
      "Increase the number of iterations (max_iter) or scale the data as shown in:\n",
      "    https://scikit-learn.org/stable/modules/preprocessing.html\n",
      "Please also refer to the documentation for alternative solver options:\n",
      "    https://scikit-learn.org/stable/modules/linear_model.html#logistic-regression\n",
      "  extra_warning_msg=_LOGISTIC_SOLVER_CONVERGENCE_MSG,\n",
      "/opt/conda/lib/python3.7/site-packages/sklearn/linear_model/_logistic.py:818: ConvergenceWarning: lbfgs failed to converge (status=1):\n",
      "STOP: TOTAL NO. of ITERATIONS REACHED LIMIT.\n",
      "\n",
      "Increase the number of iterations (max_iter) or scale the data as shown in:\n",
      "    https://scikit-learn.org/stable/modules/preprocessing.html\n",
      "Please also refer to the documentation for alternative solver options:\n",
      "    https://scikit-learn.org/stable/modules/linear_model.html#logistic-regression\n",
      "  extra_warning_msg=_LOGISTIC_SOLVER_CONVERGENCE_MSG,\n",
      "/opt/conda/lib/python3.7/site-packages/sklearn/linear_model/_logistic.py:818: ConvergenceWarning: lbfgs failed to converge (status=1):\n",
      "STOP: TOTAL NO. of ITERATIONS REACHED LIMIT.\n",
      "\n",
      "Increase the number of iterations (max_iter) or scale the data as shown in:\n",
      "    https://scikit-learn.org/stable/modules/preprocessing.html\n",
      "Please also refer to the documentation for alternative solver options:\n",
      "    https://scikit-learn.org/stable/modules/linear_model.html#logistic-regression\n",
      "  extra_warning_msg=_LOGISTIC_SOLVER_CONVERGENCE_MSG,\n",
      "/opt/conda/lib/python3.7/site-packages/sklearn/linear_model/_logistic.py:818: ConvergenceWarning: lbfgs failed to converge (status=1):\n",
      "STOP: TOTAL NO. of ITERATIONS REACHED LIMIT.\n",
      "\n",
      "Increase the number of iterations (max_iter) or scale the data as shown in:\n",
      "    https://scikit-learn.org/stable/modules/preprocessing.html\n",
      "Please also refer to the documentation for alternative solver options:\n",
      "    https://scikit-learn.org/stable/modules/linear_model.html#logistic-regression\n",
      "  extra_warning_msg=_LOGISTIC_SOLVER_CONVERGENCE_MSG,\n",
      "/opt/conda/lib/python3.7/site-packages/sklearn/linear_model/_logistic.py:818: ConvergenceWarning: lbfgs failed to converge (status=1):\n",
      "STOP: TOTAL NO. of ITERATIONS REACHED LIMIT.\n",
      "\n",
      "Increase the number of iterations (max_iter) or scale the data as shown in:\n",
      "    https://scikit-learn.org/stable/modules/preprocessing.html\n",
      "Please also refer to the documentation for alternative solver options:\n",
      "    https://scikit-learn.org/stable/modules/linear_model.html#logistic-regression\n",
      "  extra_warning_msg=_LOGISTIC_SOLVER_CONVERGENCE_MSG,\n",
      "/opt/conda/lib/python3.7/site-packages/sklearn/linear_model/_logistic.py:818: ConvergenceWarning: lbfgs failed to converge (status=1):\n",
      "STOP: TOTAL NO. of ITERATIONS REACHED LIMIT.\n",
      "\n",
      "Increase the number of iterations (max_iter) or scale the data as shown in:\n",
      "    https://scikit-learn.org/stable/modules/preprocessing.html\n",
      "Please also refer to the documentation for alternative solver options:\n",
      "    https://scikit-learn.org/stable/modules/linear_model.html#logistic-regression\n",
      "  extra_warning_msg=_LOGISTIC_SOLVER_CONVERGENCE_MSG,\n",
      "/opt/conda/lib/python3.7/site-packages/sklearn/linear_model/_logistic.py:818: ConvergenceWarning: lbfgs failed to converge (status=1):\n",
      "STOP: TOTAL NO. of ITERATIONS REACHED LIMIT.\n",
      "\n",
      "Increase the number of iterations (max_iter) or scale the data as shown in:\n",
      "    https://scikit-learn.org/stable/modules/preprocessing.html\n",
      "Please also refer to the documentation for alternative solver options:\n",
      "    https://scikit-learn.org/stable/modules/linear_model.html#logistic-regression\n",
      "  extra_warning_msg=_LOGISTIC_SOLVER_CONVERGENCE_MSG,\n",
      "/opt/conda/lib/python3.7/site-packages/sklearn/linear_model/_logistic.py:818: ConvergenceWarning: lbfgs failed to converge (status=1):\n",
      "STOP: TOTAL NO. of ITERATIONS REACHED LIMIT.\n",
      "\n",
      "Increase the number of iterations (max_iter) or scale the data as shown in:\n",
      "    https://scikit-learn.org/stable/modules/preprocessing.html\n",
      "Please also refer to the documentation for alternative solver options:\n",
      "    https://scikit-learn.org/stable/modules/linear_model.html#logistic-regression\n",
      "  extra_warning_msg=_LOGISTIC_SOLVER_CONVERGENCE_MSG,\n",
      "/opt/conda/lib/python3.7/site-packages/sklearn/linear_model/_logistic.py:818: ConvergenceWarning: lbfgs failed to converge (status=1):\n",
      "STOP: TOTAL NO. of ITERATIONS REACHED LIMIT.\n",
      "\n",
      "Increase the number of iterations (max_iter) or scale the data as shown in:\n",
      "    https://scikit-learn.org/stable/modules/preprocessing.html\n",
      "Please also refer to the documentation for alternative solver options:\n",
      "    https://scikit-learn.org/stable/modules/linear_model.html#logistic-regression\n",
      "  extra_warning_msg=_LOGISTIC_SOLVER_CONVERGENCE_MSG,\n",
      "/opt/conda/lib/python3.7/site-packages/sklearn/linear_model/_logistic.py:818: ConvergenceWarning: lbfgs failed to converge (status=1):\n",
      "STOP: TOTAL NO. of ITERATIONS REACHED LIMIT.\n",
      "\n",
      "Increase the number of iterations (max_iter) or scale the data as shown in:\n",
      "    https://scikit-learn.org/stable/modules/preprocessing.html\n",
      "Please also refer to the documentation for alternative solver options:\n",
      "    https://scikit-learn.org/stable/modules/linear_model.html#logistic-regression\n",
      "  extra_warning_msg=_LOGISTIC_SOLVER_CONVERGENCE_MSG,\n",
      "/opt/conda/lib/python3.7/site-packages/sklearn/linear_model/_logistic.py:818: ConvergenceWarning: lbfgs failed to converge (status=1):\n",
      "STOP: TOTAL NO. of ITERATIONS REACHED LIMIT.\n",
      "\n",
      "Increase the number of iterations (max_iter) or scale the data as shown in:\n",
      "    https://scikit-learn.org/stable/modules/preprocessing.html\n",
      "Please also refer to the documentation for alternative solver options:\n",
      "    https://scikit-learn.org/stable/modules/linear_model.html#logistic-regression\n",
      "  extra_warning_msg=_LOGISTIC_SOLVER_CONVERGENCE_MSG,\n",
      "/opt/conda/lib/python3.7/site-packages/sklearn/linear_model/_logistic.py:818: ConvergenceWarning: lbfgs failed to converge (status=1):\n",
      "STOP: TOTAL NO. of ITERATIONS REACHED LIMIT.\n",
      "\n",
      "Increase the number of iterations (max_iter) or scale the data as shown in:\n",
      "    https://scikit-learn.org/stable/modules/preprocessing.html\n",
      "Please also refer to the documentation for alternative solver options:\n",
      "    https://scikit-learn.org/stable/modules/linear_model.html#logistic-regression\n",
      "  extra_warning_msg=_LOGISTIC_SOLVER_CONVERGENCE_MSG,\n",
      "/opt/conda/lib/python3.7/site-packages/sklearn/linear_model/_logistic.py:818: ConvergenceWarning: lbfgs failed to converge (status=1):\n",
      "STOP: TOTAL NO. of ITERATIONS REACHED LIMIT.\n",
      "\n",
      "Increase the number of iterations (max_iter) or scale the data as shown in:\n",
      "    https://scikit-learn.org/stable/modules/preprocessing.html\n",
      "Please also refer to the documentation for alternative solver options:\n",
      "    https://scikit-learn.org/stable/modules/linear_model.html#logistic-regression\n",
      "  extra_warning_msg=_LOGISTIC_SOLVER_CONVERGENCE_MSG,\n",
      "/opt/conda/lib/python3.7/site-packages/sklearn/linear_model/_logistic.py:818: ConvergenceWarning: lbfgs failed to converge (status=1):\n",
      "STOP: TOTAL NO. of ITERATIONS REACHED LIMIT.\n",
      "\n",
      "Increase the number of iterations (max_iter) or scale the data as shown in:\n",
      "    https://scikit-learn.org/stable/modules/preprocessing.html\n",
      "Please also refer to the documentation for alternative solver options:\n",
      "    https://scikit-learn.org/stable/modules/linear_model.html#logistic-regression\n",
      "  extra_warning_msg=_LOGISTIC_SOLVER_CONVERGENCE_MSG,\n",
      "/opt/conda/lib/python3.7/site-packages/sklearn/linear_model/_logistic.py:818: ConvergenceWarning: lbfgs failed to converge (status=1):\n",
      "STOP: TOTAL NO. of ITERATIONS REACHED LIMIT.\n",
      "\n",
      "Increase the number of iterations (max_iter) or scale the data as shown in:\n",
      "    https://scikit-learn.org/stable/modules/preprocessing.html\n",
      "Please also refer to the documentation for alternative solver options:\n",
      "    https://scikit-learn.org/stable/modules/linear_model.html#logistic-regression\n",
      "  extra_warning_msg=_LOGISTIC_SOLVER_CONVERGENCE_MSG,\n",
      "/opt/conda/lib/python3.7/site-packages/sklearn/linear_model/_logistic.py:818: ConvergenceWarning: lbfgs failed to converge (status=1):\n",
      "STOP: TOTAL NO. of ITERATIONS REACHED LIMIT.\n",
      "\n",
      "Increase the number of iterations (max_iter) or scale the data as shown in:\n",
      "    https://scikit-learn.org/stable/modules/preprocessing.html\n",
      "Please also refer to the documentation for alternative solver options:\n",
      "    https://scikit-learn.org/stable/modules/linear_model.html#logistic-regression\n",
      "  extra_warning_msg=_LOGISTIC_SOLVER_CONVERGENCE_MSG,\n",
      "/opt/conda/lib/python3.7/site-packages/sklearn/linear_model/_logistic.py:818: ConvergenceWarning: lbfgs failed to converge (status=1):\n",
      "STOP: TOTAL NO. of ITERATIONS REACHED LIMIT.\n",
      "\n",
      "Increase the number of iterations (max_iter) or scale the data as shown in:\n",
      "    https://scikit-learn.org/stable/modules/preprocessing.html\n",
      "Please also refer to the documentation for alternative solver options:\n",
      "    https://scikit-learn.org/stable/modules/linear_model.html#logistic-regression\n",
      "  extra_warning_msg=_LOGISTIC_SOLVER_CONVERGENCE_MSG,\n",
      "/opt/conda/lib/python3.7/site-packages/sklearn/linear_model/_logistic.py:818: ConvergenceWarning: lbfgs failed to converge (status=1):\n",
      "STOP: TOTAL NO. of ITERATIONS REACHED LIMIT.\n",
      "\n",
      "Increase the number of iterations (max_iter) or scale the data as shown in:\n",
      "    https://scikit-learn.org/stable/modules/preprocessing.html\n",
      "Please also refer to the documentation for alternative solver options:\n",
      "    https://scikit-learn.org/stable/modules/linear_model.html#logistic-regression\n",
      "  extra_warning_msg=_LOGISTIC_SOLVER_CONVERGENCE_MSG,\n",
      "/opt/conda/lib/python3.7/site-packages/sklearn/linear_model/_logistic.py:818: ConvergenceWarning: lbfgs failed to converge (status=1):\n",
      "STOP: TOTAL NO. of ITERATIONS REACHED LIMIT.\n",
      "\n",
      "Increase the number of iterations (max_iter) or scale the data as shown in:\n",
      "    https://scikit-learn.org/stable/modules/preprocessing.html\n",
      "Please also refer to the documentation for alternative solver options:\n",
      "    https://scikit-learn.org/stable/modules/linear_model.html#logistic-regression\n",
      "  extra_warning_msg=_LOGISTIC_SOLVER_CONVERGENCE_MSG,\n",
      "/opt/conda/lib/python3.7/site-packages/sklearn/linear_model/_logistic.py:818: ConvergenceWarning: lbfgs failed to converge (status=1):\n",
      "STOP: TOTAL NO. of ITERATIONS REACHED LIMIT.\n",
      "\n",
      "Increase the number of iterations (max_iter) or scale the data as shown in:\n",
      "    https://scikit-learn.org/stable/modules/preprocessing.html\n",
      "Please also refer to the documentation for alternative solver options:\n",
      "    https://scikit-learn.org/stable/modules/linear_model.html#logistic-regression\n",
      "  extra_warning_msg=_LOGISTIC_SOLVER_CONVERGENCE_MSG,\n",
      "/opt/conda/lib/python3.7/site-packages/sklearn/linear_model/_logistic.py:818: ConvergenceWarning: lbfgs failed to converge (status=1):\n",
      "STOP: TOTAL NO. of ITERATIONS REACHED LIMIT.\n",
      "\n",
      "Increase the number of iterations (max_iter) or scale the data as shown in:\n",
      "    https://scikit-learn.org/stable/modules/preprocessing.html\n",
      "Please also refer to the documentation for alternative solver options:\n",
      "    https://scikit-learn.org/stable/modules/linear_model.html#logistic-regression\n",
      "  extra_warning_msg=_LOGISTIC_SOLVER_CONVERGENCE_MSG,\n",
      "/opt/conda/lib/python3.7/site-packages/sklearn/linear_model/_logistic.py:818: ConvergenceWarning: lbfgs failed to converge (status=1):\n",
      "STOP: TOTAL NO. of ITERATIONS REACHED LIMIT.\n",
      "\n",
      "Increase the number of iterations (max_iter) or scale the data as shown in:\n",
      "    https://scikit-learn.org/stable/modules/preprocessing.html\n",
      "Please also refer to the documentation for alternative solver options:\n",
      "    https://scikit-learn.org/stable/modules/linear_model.html#logistic-regression\n",
      "  extra_warning_msg=_LOGISTIC_SOLVER_CONVERGENCE_MSG,\n",
      "/opt/conda/lib/python3.7/site-packages/sklearn/linear_model/_logistic.py:818: ConvergenceWarning: lbfgs failed to converge (status=1):\n",
      "STOP: TOTAL NO. of ITERATIONS REACHED LIMIT.\n",
      "\n",
      "Increase the number of iterations (max_iter) or scale the data as shown in:\n",
      "    https://scikit-learn.org/stable/modules/preprocessing.html\n",
      "Please also refer to the documentation for alternative solver options:\n",
      "    https://scikit-learn.org/stable/modules/linear_model.html#logistic-regression\n",
      "  extra_warning_msg=_LOGISTIC_SOLVER_CONVERGENCE_MSG,\n",
      "/opt/conda/lib/python3.7/site-packages/sklearn/linear_model/_logistic.py:818: ConvergenceWarning: lbfgs failed to converge (status=1):\n",
      "STOP: TOTAL NO. of ITERATIONS REACHED LIMIT.\n",
      "\n",
      "Increase the number of iterations (max_iter) or scale the data as shown in:\n",
      "    https://scikit-learn.org/stable/modules/preprocessing.html\n",
      "Please also refer to the documentation for alternative solver options:\n",
      "    https://scikit-learn.org/stable/modules/linear_model.html#logistic-regression\n",
      "  extra_warning_msg=_LOGISTIC_SOLVER_CONVERGENCE_MSG,\n",
      "/opt/conda/lib/python3.7/site-packages/sklearn/model_selection/_validation.py:372: FitFailedWarning: \n",
      "90 fits failed out of a total of 180.\n",
      "The score on these train-test partitions for these parameters will be set to nan.\n",
      "If these failures are not expected, you can try to debug them by setting error_score='raise'.\n",
      "\n",
      "Below are more details about the failures:\n",
      "--------------------------------------------------------------------------------\n",
      "90 fits failed with the following error:\n",
      "Traceback (most recent call last):\n",
      "  File \"/opt/conda/lib/python3.7/site-packages/sklearn/model_selection/_validation.py\", line 681, in _fit_and_score\n",
      "    estimator.fit(X_train, y_train, **fit_params)\n",
      "  File \"/opt/conda/lib/python3.7/site-packages/sklearn/linear_model/_logistic.py\", line 1461, in fit\n",
      "    solver = _check_solver(self.solver, self.penalty, self.dual)\n",
      "  File \"/opt/conda/lib/python3.7/site-packages/sklearn/linear_model/_logistic.py\", line 449, in _check_solver\n",
      "    % (solver, penalty)\n",
      "ValueError: Solver lbfgs supports only 'l2' or 'none' penalties, got l1 penalty.\n",
      "\n",
      "  warnings.warn(some_fits_failed_message, FitFailedWarning)\n",
      "/opt/conda/lib/python3.7/site-packages/sklearn/model_selection/_search.py:972: UserWarning: One or more of the test scores are non-finite: [       nan 0.78652424        nan 0.78964667        nan 0.78964667\n",
      "        nan 0.78685292        nan 0.78866064        nan 0.78948233\n",
      "        nan 0.78668858        nan 0.78866064        nan 0.78964667\n",
      "        nan 0.78685292        nan 0.78964667        nan 0.78964667\n",
      "        nan 0.78668858        nan 0.789318          nan 0.78866064\n",
      "        nan 0.78668858        nan 0.78882498        nan 0.78915366]\n",
      "  category=UserWarning,\n",
      "/opt/conda/lib/python3.7/site-packages/sklearn/linear_model/_logistic.py:818: ConvergenceWarning: lbfgs failed to converge (status=1):\n",
      "STOP: TOTAL NO. of ITERATIONS REACHED LIMIT.\n",
      "\n",
      "Increase the number of iterations (max_iter) or scale the data as shown in:\n",
      "    https://scikit-learn.org/stable/modules/preprocessing.html\n",
      "Please also refer to the documentation for alternative solver options:\n",
      "    https://scikit-learn.org/stable/modules/linear_model.html#logistic-regression\n",
      "  extra_warning_msg=_LOGISTIC_SOLVER_CONVERGENCE_MSG,\n"
     ]
    },
    {
     "name": "stdout",
     "output_type": "stream",
     "text": [
      "Model: LogisticRegression\n",
      "Training time (mins): 0.07\n",
      "\n",
      "Model: KNN\n",
      "Training time (mins): 0.06\n",
      "\n",
      "Model: RandomForest\n",
      "Training time (mins): 0.75\n",
      "\n",
      "Model: LGBM\n",
      "Training time (mins): 0.22\n",
      "\n"
     ]
    }
   ],
   "source": [
    "# Sklearn\n",
    "from sklearn.model_selection import train_test_split, GridSearchCV, RandomizedSearchCV, StratifiedKFold\n",
    "import time\n",
    "\n",
    "i=0\n",
    "clf_best_params=classifiers.copy()\n",
    "valid_scores=pd.DataFrame({'Classifer':classifiers.keys(), 'Validation accuracy': np.zeros(len(classifiers)), 'Training time': np.zeros(len(classifiers))})\n",
    "for key, classifier in classifiers.items():\n",
    "    start = time.time()\n",
    "    clf = GridSearchCV(estimator=classifier, param_grid=grid[key], n_jobs=-1, cv=None)\n",
    "\n",
    "    # Train and score\n",
    "    clf.fit(X_train, y_train)\n",
    "    valid_scores.iloc[i,1]=clf.score(X_val, y_val)\n",
    "\n",
    "    # Save trained model\n",
    "    clf_best_params[key]=clf.best_params_\n",
    "    \n",
    "    # Print iteration and training time\n",
    "    stop = time.time()\n",
    "    valid_scores.iloc[i,2]=np.round((stop - start)/60, 2)\n",
    "    \n",
    "    print('Model:', key)\n",
    "    print('Training time (mins):', valid_scores.iloc[i,2])\n",
    "    print('')\n",
    "    i+=1"
   ]
  },
  {
   "cell_type": "markdown",
   "id": "eddc163d",
   "metadata": {
    "papermill": {
     "duration": 0.102425,
     "end_time": "2022-04-06T03:30:11.665877",
     "exception": false,
     "start_time": "2022-04-06T03:30:11.563452",
     "status": "completed"
    },
    "tags": []
   },
   "source": [
    "- 4개 모형에 대한 모형 개발 속도 및 정확도 평가지표를 확인한다."
   ]
  },
  {
   "cell_type": "code",
   "execution_count": 47,
   "id": "0734c6d4",
   "metadata": {
    "execution": {
     "iopub.execute_input": "2022-04-06T03:30:11.883587Z",
     "iopub.status.busy": "2022-04-06T03:30:11.882672Z",
     "iopub.status.idle": "2022-04-06T03:30:11.886548Z",
     "shell.execute_reply": "2022-04-06T03:30:11.886014Z",
     "shell.execute_reply.started": "2022-04-06T03:24:35.121598Z"
    },
    "papermill": {
     "duration": 0.117793,
     "end_time": "2022-04-06T03:30:11.886700",
     "exception": false,
     "start_time": "2022-04-06T03:30:11.768907",
     "status": "completed"
    },
    "tags": []
   },
   "outputs": [
    {
     "data": {
      "text/html": [
       "<div>\n",
       "<style scoped>\n",
       "    .dataframe tbody tr th:only-of-type {\n",
       "        vertical-align: middle;\n",
       "    }\n",
       "\n",
       "    .dataframe tbody tr th {\n",
       "        vertical-align: top;\n",
       "    }\n",
       "\n",
       "    .dataframe thead th {\n",
       "        text-align: right;\n",
       "    }\n",
       "</style>\n",
       "<table border=\"1\" class=\"dataframe\">\n",
       "  <thead>\n",
       "    <tr style=\"text-align: right;\">\n",
       "      <th></th>\n",
       "      <th>Classifer</th>\n",
       "      <th>Validation accuracy</th>\n",
       "      <th>Training time</th>\n",
       "    </tr>\n",
       "  </thead>\n",
       "  <tbody>\n",
       "    <tr>\n",
       "      <th>0</th>\n",
       "      <td>LogisticRegression</td>\n",
       "      <td>0.778758</td>\n",
       "      <td>0.07</td>\n",
       "    </tr>\n",
       "    <tr>\n",
       "      <th>1</th>\n",
       "      <td>KNN</td>\n",
       "      <td>0.777991</td>\n",
       "      <td>0.06</td>\n",
       "    </tr>\n",
       "    <tr>\n",
       "      <th>2</th>\n",
       "      <td>RandomForest</td>\n",
       "      <td>0.790644</td>\n",
       "      <td>0.75</td>\n",
       "    </tr>\n",
       "    <tr>\n",
       "      <th>3</th>\n",
       "      <td>LGBM</td>\n",
       "      <td>0.792561</td>\n",
       "      <td>0.22</td>\n",
       "    </tr>\n",
       "  </tbody>\n",
       "</table>\n",
       "</div>"
      ],
      "text/plain": [
       "            Classifer  Validation accuracy  Training time\n",
       "0  LogisticRegression             0.778758           0.07\n",
       "1                 KNN             0.777991           0.06\n",
       "2        RandomForest             0.790644           0.75\n",
       "3                LGBM             0.792561           0.22"
      ]
     },
     "execution_count": 47,
     "metadata": {},
     "output_type": "execute_result"
    }
   ],
   "source": [
    "valid_scores "
   ]
  },
  {
   "cell_type": "markdown",
   "id": "57a0923c",
   "metadata": {
    "papermill": {
     "duration": 0.121441,
     "end_time": "2022-04-06T03:30:12.114136",
     "exception": false,
     "start_time": "2022-04-06T03:30:11.992695",
     "status": "completed"
    },
    "tags": []
   },
   "source": [
    "- 그리드 서치를 통해 얻언내 지표 중 가장 좋은 파라미터를 찾는다."
   ]
  },
  {
   "cell_type": "code",
   "execution_count": 48,
   "id": "dedb5e7b",
   "metadata": {
    "execution": {
     "iopub.execute_input": "2022-04-06T03:30:12.352136Z",
     "iopub.status.busy": "2022-04-06T03:30:12.351151Z",
     "iopub.status.idle": "2022-04-06T03:30:12.357343Z",
     "shell.execute_reply": "2022-04-06T03:30:12.357829Z",
     "shell.execute_reply.started": "2022-04-06T03:24:35.136857Z"
    },
    "papermill": {
     "duration": 0.11493,
     "end_time": "2022-04-06T03:30:12.357995",
     "exception": false,
     "start_time": "2022-04-06T03:30:12.243065",
     "status": "completed"
    },
    "tags": []
   },
   "outputs": [
    {
     "data": {
      "text/plain": [
       "{'LogisticRegression': {'C': 1, 'max_iter': 150, 'penalty': 'l2'},\n",
       " 'KNN': {'n_neighbors': 9, 'p': 2},\n",
       " 'RandomForest': {'max_depth': 10, 'n_estimators': 50},\n",
       " 'LGBM': {'learning_rate': 0.1, 'max_depth': 8, 'n_estimators': 50}}"
      ]
     },
     "execution_count": 48,
     "metadata": {},
     "output_type": "execute_result"
    }
   ],
   "source": [
    "clf_best_params"
   ]
  },
  {
   "cell_type": "markdown",
   "id": "46a46065",
   "metadata": {
    "papermill": {
     "duration": 0.116699,
     "end_time": "2022-04-06T03:30:12.580901",
     "exception": false,
     "start_time": "2022-04-06T03:30:12.464202",
     "status": "completed"
    },
    "tags": []
   },
   "source": [
    "- 가장 좋은 모형을 적용한다."
   ]
  },
  {
   "cell_type": "code",
   "execution_count": 49,
   "id": "a5f66697",
   "metadata": {
    "execution": {
     "iopub.execute_input": "2022-04-06T03:30:12.833152Z",
     "iopub.status.busy": "2022-04-06T03:30:12.832239Z",
     "iopub.status.idle": "2022-04-06T03:30:12.834861Z",
     "shell.execute_reply": "2022-04-06T03:30:12.834371Z",
     "shell.execute_reply.started": "2022-04-06T03:24:35.156932Z"
    },
    "papermill": {
     "duration": 0.123919,
     "end_time": "2022-04-06T03:30:12.835018",
     "exception": false,
     "start_time": "2022-04-06T03:30:12.711099",
     "status": "completed"
    },
    "tags": []
   },
   "outputs": [],
   "source": [
    "# Classifiers\n",
    "best_classifiers = {\n",
    "    \"RandomForest\" : RandomForestClassifier(**clf_best_params[\"RandomForest\"], random_state=0),\n",
    "    \"LGBM\" : LGBMClassifier(**clf_best_params[\"LGBM\"], random_state=0)\n",
    "}"
   ]
  },
  {
   "cell_type": "markdown",
   "id": "8cb2b333",
   "metadata": {
    "papermill": {
     "duration": 0.102399,
     "end_time": "2022-04-06T03:30:13.043520",
     "exception": false,
     "start_time": "2022-04-06T03:30:12.941121",
     "status": "completed"
    },
    "tags": []
   },
   "source": [
    "- 이번에는 10겹의 교차검증을 실시한다."
   ]
  },
  {
   "cell_type": "code",
   "execution_count": 50,
   "id": "60dcc71a",
   "metadata": {
    "execution": {
     "iopub.execute_input": "2022-04-06T03:30:13.257558Z",
     "iopub.status.busy": "2022-04-06T03:30:13.256796Z",
     "iopub.status.idle": "2022-04-06T03:30:17.969011Z",
     "shell.execute_reply": "2022-04-06T03:30:17.970273Z",
     "shell.execute_reply.started": "2022-04-06T03:24:35.170351Z"
    },
    "papermill": {
     "duration": 4.821726,
     "end_time": "2022-04-06T03:30:17.970531",
     "exception": false,
     "start_time": "2022-04-06T03:30:13.148805",
     "status": "completed"
    },
    "tags": []
   },
   "outputs": [
    {
     "name": "stderr",
     "output_type": "stream",
     "text": [
      "/opt/conda/lib/python3.7/site-packages/sklearn/base.py:439: UserWarning: X has feature names, but RandomForestClassifier was fitted without feature names\n",
      "  f\"X has feature names, but {self.__class__.__name__} was fitted without\"\n",
      "/opt/conda/lib/python3.7/site-packages/sklearn/base.py:439: UserWarning: X has feature names, but RandomForestClassifier was fitted without feature names\n",
      "  f\"X has feature names, but {self.__class__.__name__} was fitted without\"\n",
      "/opt/conda/lib/python3.7/site-packages/sklearn/base.py:439: UserWarning: X has feature names, but RandomForestClassifier was fitted without feature names\n",
      "  f\"X has feature names, but {self.__class__.__name__} was fitted without\"\n",
      "/opt/conda/lib/python3.7/site-packages/sklearn/base.py:439: UserWarning: X has feature names, but RandomForestClassifier was fitted without feature names\n",
      "  f\"X has feature names, but {self.__class__.__name__} was fitted without\"\n",
      "/opt/conda/lib/python3.7/site-packages/sklearn/base.py:439: UserWarning: X has feature names, but RandomForestClassifier was fitted without feature names\n",
      "  f\"X has feature names, but {self.__class__.__name__} was fitted without\"\n",
      "/opt/conda/lib/python3.7/site-packages/sklearn/base.py:439: UserWarning: X has feature names, but RandomForestClassifier was fitted without feature names\n",
      "  f\"X has feature names, but {self.__class__.__name__} was fitted without\"\n",
      "/opt/conda/lib/python3.7/site-packages/sklearn/base.py:439: UserWarning: X has feature names, but RandomForestClassifier was fitted without feature names\n",
      "  f\"X has feature names, but {self.__class__.__name__} was fitted without\"\n",
      "/opt/conda/lib/python3.7/site-packages/sklearn/base.py:439: UserWarning: X has feature names, but RandomForestClassifier was fitted without feature names\n",
      "  f\"X has feature names, but {self.__class__.__name__} was fitted without\"\n",
      "/opt/conda/lib/python3.7/site-packages/sklearn/base.py:439: UserWarning: X has feature names, but RandomForestClassifier was fitted without feature names\n",
      "  f\"X has feature names, but {self.__class__.__name__} was fitted without\"\n",
      "/opt/conda/lib/python3.7/site-packages/sklearn/base.py:439: UserWarning: X has feature names, but RandomForestClassifier was fitted without feature names\n",
      "  f\"X has feature names, but {self.__class__.__name__} was fitted without\"\n"
     ]
    },
    {
     "name": "stdout",
     "output_type": "stream",
     "text": [
      "Model: RandomForest\n",
      "Average validation accuracy: 79.64\n",
      "Training time (mins): 0.06\n",
      "\n",
      "Model: LGBM\n",
      "Average validation accuracy: 79.48\n",
      "Training time (mins): 0.01\n",
      "\n"
     ]
    }
   ],
   "source": [
    "# Number of folds in cross validation\n",
    "FOLDS=10\n",
    "\n",
    "preds=np.zeros(len(test))\n",
    "for key, classifier in best_classifiers.items():\n",
    "    start = time.time()\n",
    "    \n",
    "    # 5-fold cross validation\n",
    "    cv = StratifiedKFold(n_splits=FOLDS, shuffle=True, random_state=0)\n",
    "    \n",
    "    score=0\n",
    "    for fold, (train_idx, val_idx) in enumerate(cv.split(X, y)):\n",
    "        # Get training and validation sets\n",
    "        X_train, X_valid = X[train_idx], X[val_idx]\n",
    "        y_train, y_valid = y[train_idx], y[val_idx]\n",
    "\n",
    "        # Train model\n",
    "        clf = classifier\n",
    "        clf.fit(X_train, y_train)\n",
    "\n",
    "        # Make predictions and measure accuracy\n",
    "        preds += clf.predict_proba(test)[:,1]\n",
    "        score += clf.score(X_valid, y_valid)\n",
    "\n",
    "    # Average accuracy    \n",
    "    score=score/FOLDS\n",
    "    \n",
    "    # Stop timer\n",
    "    stop = time.time()\n",
    "\n",
    "    # Print accuracy and time\n",
    "    print('Model:', key)\n",
    "    print('Average validation accuracy:', np.round(100*score,2))\n",
    "    print('Training time (mins):', np.round((stop - start)/60,2))\n",
    "    print('')\n",
    "    \n",
    "# Ensemble predictions\n",
    "preds=preds/(FOLDS*len(best_classifiers))"
   ]
  },
  {
   "cell_type": "markdown",
   "id": "8373d075",
   "metadata": {
    "papermill": {
     "duration": 0.10635,
     "end_time": "2022-04-06T03:30:18.186709",
     "exception": false,
     "start_time": "2022-04-06T03:30:18.080359",
     "status": "completed"
    },
    "tags": []
   },
   "source": [
    "# Step5. 모형 평가\n",
    "- 훈련데이터를 쪼갠다. 훈련데이터 + 검증데이터 가지고 평가\n",
    "- 테스트 데이터 건드는거 아님\n",
    "- 정확도 비교\n",
    "- 혼동행렬 (Confusion Martix) 설명\n"
   ]
  },
  {
   "cell_type": "markdown",
   "id": "3fa6988e",
   "metadata": {
    "papermill": {
     "duration": 0.105815,
     "end_time": "2022-04-06T03:30:18.399034",
     "exception": false,
     "start_time": "2022-04-06T03:30:18.293219",
     "status": "completed"
    },
    "tags": []
   },
   "source": [
    "- 먼저 cross_validate()를 활용한다."
   ]
  },
  {
   "cell_type": "code",
   "execution_count": 51,
   "id": "7cda7896",
   "metadata": {
    "execution": {
     "iopub.execute_input": "2022-04-06T03:30:18.614465Z",
     "iopub.status.busy": "2022-04-06T03:30:18.613768Z",
     "iopub.status.idle": "2022-04-06T03:30:18.618683Z",
     "shell.execute_reply": "2022-04-06T03:30:18.619284Z",
     "shell.execute_reply.started": "2022-04-06T03:24:39.940938Z"
    },
    "papermill": {
     "duration": 0.114134,
     "end_time": "2022-04-06T03:30:18.619455",
     "exception": false,
     "start_time": "2022-04-06T03:30:18.505321",
     "status": "completed"
    },
    "tags": []
   },
   "outputs": [
    {
     "data": {
      "text/plain": [
       "'\\nfrom sklearn.model_selection import StratifiedKFold\\nfrom sklearn.model_selection import cross_validate\\n\\nsplitter = StratifiedKFold(n_splits = 5, shuffle = True, random_state=42)\\nscores = cross_validate(lgb, X_train, y_train, return_train_score = True, cv=splitter)\\n\\nprint(\"train Acc.\", np.mean(scores[\\'train_score\\']))\\nprint(\"test Acc.\", np.mean(scores[\\'test_score\\']))\\n'"
      ]
     },
     "execution_count": 51,
     "metadata": {},
     "output_type": "execute_result"
    }
   ],
   "source": [
    "\"\"\"\n",
    "from sklearn.model_selection import StratifiedKFold\n",
    "from sklearn.model_selection import cross_validate\n",
    "\n",
    "splitter = StratifiedKFold(n_splits = 5, shuffle = True, random_state=42)\n",
    "scores = cross_validate(lgb, X_train, y_train, return_train_score = True, cv=splitter)\n",
    "\n",
    "print(\"train Acc.\", np.mean(scores['train_score']))\n",
    "print(\"test Acc.\", np.mean(scores['test_score']))\n",
    "\"\"\""
   ]
  },
  {
   "cell_type": "markdown",
   "id": "923b5864",
   "metadata": {
    "papermill": {
     "duration": 0.110629,
     "end_time": "2022-04-06T03:30:18.837510",
     "exception": false,
     "start_time": "2022-04-06T03:30:18.726881",
     "status": "completed"
    },
    "tags": []
   },
   "source": [
    "- 이번에는 검증 데이터를 활용하여 정확도를 예상해본다."
   ]
  },
  {
   "cell_type": "code",
   "execution_count": 52,
   "id": "85170c12",
   "metadata": {
    "execution": {
     "iopub.execute_input": "2022-04-06T03:30:19.058656Z",
     "iopub.status.busy": "2022-04-06T03:30:19.057891Z",
     "iopub.status.idle": "2022-04-06T03:30:19.062111Z",
     "shell.execute_reply": "2022-04-06T03:30:19.062735Z",
     "shell.execute_reply.started": "2022-04-06T03:24:39.949408Z"
    },
    "papermill": {
     "duration": 0.11654,
     "end_time": "2022-04-06T03:30:19.062915",
     "exception": false,
     "start_time": "2022-04-06T03:30:18.946375",
     "status": "completed"
    },
    "tags": []
   },
   "outputs": [
    {
     "data": {
      "text/plain": [
       "'\\nfrom sklearn.metrics import accuracy_score\\n\\nlgb.fit(X_train, y_train)\\ny_pred = lgb.predict(X_val)\\nprint(\"Acc.\", accuracy_score(y_val, y_pred))\\n'"
      ]
     },
     "execution_count": 52,
     "metadata": {},
     "output_type": "execute_result"
    }
   ],
   "source": [
    "\"\"\"\n",
    "from sklearn.metrics import accuracy_score\n",
    "\n",
    "lgb.fit(X_train, y_train)\n",
    "y_pred = lgb.predict(X_val)\n",
    "print(\"Acc.\", accuracy_score(y_val, y_pred))\n",
    "\"\"\""
   ]
  },
  {
   "cell_type": "markdown",
   "id": "6087f2ae",
   "metadata": {
    "papermill": {
     "duration": 0.107348,
     "end_time": "2022-04-06T03:30:19.277950",
     "exception": false,
     "start_time": "2022-04-06T03:30:19.170602",
     "status": "completed"
    },
    "tags": []
   },
   "source": [
    "# Step6. 제출\n"
   ]
  },
  {
   "cell_type": "code",
   "execution_count": 53,
   "id": "f954c32d",
   "metadata": {
    "execution": {
     "iopub.execute_input": "2022-04-06T03:30:19.496042Z",
     "iopub.status.busy": "2022-04-06T03:30:19.495423Z",
     "iopub.status.idle": "2022-04-06T03:30:19.516289Z",
     "shell.execute_reply": "2022-04-06T03:30:19.516862Z",
     "shell.execute_reply.started": "2022-04-06T03:24:39.965273Z"
    },
    "papermill": {
     "duration": 0.131736,
     "end_time": "2022-04-06T03:30:19.517038",
     "exception": false,
     "start_time": "2022-04-06T03:30:19.385302",
     "status": "completed"
    },
    "tags": []
   },
   "outputs": [
    {
     "data": {
      "text/html": [
       "<div>\n",
       "<style scoped>\n",
       "    .dataframe tbody tr th:only-of-type {\n",
       "        vertical-align: middle;\n",
       "    }\n",
       "\n",
       "    .dataframe tbody tr th {\n",
       "        vertical-align: top;\n",
       "    }\n",
       "\n",
       "    .dataframe thead th {\n",
       "        text-align: right;\n",
       "    }\n",
       "</style>\n",
       "<table border=\"1\" class=\"dataframe\">\n",
       "  <thead>\n",
       "    <tr style=\"text-align: right;\">\n",
       "      <th></th>\n",
       "      <th>PassengerId</th>\n",
       "      <th>Transported</th>\n",
       "    </tr>\n",
       "  </thead>\n",
       "  <tbody>\n",
       "    <tr>\n",
       "      <th>0</th>\n",
       "      <td>0013_01</td>\n",
       "      <td>True</td>\n",
       "    </tr>\n",
       "    <tr>\n",
       "      <th>1</th>\n",
       "      <td>0018_01</td>\n",
       "      <td>False</td>\n",
       "    </tr>\n",
       "    <tr>\n",
       "      <th>2</th>\n",
       "      <td>0019_01</td>\n",
       "      <td>True</td>\n",
       "    </tr>\n",
       "    <tr>\n",
       "      <th>3</th>\n",
       "      <td>0021_01</td>\n",
       "      <td>True</td>\n",
       "    </tr>\n",
       "    <tr>\n",
       "      <th>4</th>\n",
       "      <td>0023_01</td>\n",
       "      <td>True</td>\n",
       "    </tr>\n",
       "  </tbody>\n",
       "</table>\n",
       "</div>"
      ],
      "text/plain": [
       "  PassengerId  Transported\n",
       "0     0013_01         True\n",
       "1     0018_01        False\n",
       "2     0019_01         True\n",
       "3     0021_01         True\n",
       "4     0023_01         True"
      ]
     },
     "execution_count": 53,
     "metadata": {},
     "output_type": "execute_result"
    }
   ],
   "source": [
    "\"\"\"\n",
    "test_preds = lgb.predict(test_data.to_numpy())\n",
    "submission['Transported'] = test_preds.astype(\"bool\")\n",
    "submission.to_csv(\"submission.csv\",index=False)\n",
    "submission.head()\n",
    "\"\"\"\n",
    "\n",
    "# Round predictions to nearest integer\n",
    "preds=np.round(preds).astype(bool)\n",
    "submission['Transported'] = preds\n",
    "submission.to_csv(\"submission.csv\",index=False)\n",
    "submission.head()"
   ]
  },
  {
   "cell_type": "markdown",
   "id": "9304b9bb",
   "metadata": {
    "papermill": {
     "duration": 0.107682,
     "end_time": "2022-04-06T03:30:19.732820",
     "exception": false,
     "start_time": "2022-04-06T03:30:19.625138",
     "status": "completed"
    },
    "tags": []
   },
   "source": [
    "# 참고\n",
    "- 다른 사람의 코드 설명을 보고 쭉 따라쳤어 만약에\n",
    "- 코드 참조 했다고 명시해야함 노트북 표절 방지\n",
    "- 코드 링크 걸기\n",
    "- 저자이름, 글제목, 링크주소 ..."
   ]
  },
  {
   "cell_type": "markdown",
   "id": "5bbb0bbd",
   "metadata": {
    "papermill": {
     "duration": 0.107274,
     "end_time": "2022-04-06T03:30:19.948570",
     "exception": false,
     "start_time": "2022-04-06T03:30:19.841296",
     "status": "completed"
    },
    "tags": []
   },
   "source": [
    "# 마감일\n",
    "- 04.12 17:40 까지\n",
    "- 제출 형태\n",
    "    + 개인 DM으로 등수 그거 캡쳐 리더보드\n",
    "    + 고용노동부 보고 양식 (다음주에 확인해서 알려주신대)"
   ]
  },
  {
   "cell_type": "markdown",
   "id": "75b48aa6",
   "metadata": {
    "papermill": {
     "duration": 0.134613,
     "end_time": "2022-04-06T03:30:20.202193",
     "exception": false,
     "start_time": "2022-04-06T03:30:20.067580",
     "status": "completed"
    },
    "tags": []
   },
   "source": [
    "# 점수표\n",
    "- 4월 4일, 정확도 0.79097 / 110등/1111팀 "
   ]
  },
  {
   "cell_type": "code",
   "execution_count": null,
   "id": "06dcf261",
   "metadata": {
    "papermill": {
     "duration": 0.134405,
     "end_time": "2022-04-06T03:30:20.471062",
     "exception": false,
     "start_time": "2022-04-06T03:30:20.336657",
     "status": "completed"
    },
    "tags": []
   },
   "outputs": [],
   "source": []
  }
 ],
 "metadata": {
  "kernelspec": {
   "display_name": "Python 3",
   "language": "python",
   "name": "python3"
  },
  "language_info": {
   "codemirror_mode": {
    "name": "ipython",
    "version": 3
   },
   "file_extension": ".py",
   "mimetype": "text/x-python",
   "name": "python",
   "nbconvert_exporter": "python",
   "pygments_lexer": "ipython3",
   "version": "3.7.12"
  },
  "papermill": {
   "default_parameters": {},
   "duration": 104.50388,
   "end_time": "2022-04-06T03:30:21.506762",
   "environment_variables": {},
   "exception": null,
   "input_path": "__notebook__.ipynb",
   "output_path": "__notebook__.ipynb",
   "parameters": {},
   "start_time": "2022-04-06T03:28:37.002882",
   "version": "2.3.3"
  }
 },
 "nbformat": 4,
 "nbformat_minor": 5
}
