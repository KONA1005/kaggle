{
 "cells": [
  {
   "cell_type": "code",
   "execution_count": 1,
   "id": "5a9bd2b0",
   "metadata": {
    "_cell_guid": "b1076dfc-b9ad-4769-8c92-a6c4dae69d19",
    "_uuid": "8f2839f25d086af736a60e9eeb907d3b93b6e0e5",
    "execution": {
     "iopub.execute_input": "2022-04-03T08:32:23.171492Z",
     "iopub.status.busy": "2022-04-03T08:32:23.170184Z",
     "iopub.status.idle": "2022-04-03T08:32:23.187572Z",
     "shell.execute_reply": "2022-04-03T08:32:23.188407Z",
     "shell.execute_reply.started": "2022-04-03T08:21:29.486561Z"
    },
    "papermill": {
     "duration": 0.050448,
     "end_time": "2022-04-03T08:32:23.188828",
     "exception": false,
     "start_time": "2022-04-03T08:32:23.138380",
     "status": "completed"
    },
    "tags": []
   },
   "outputs": [
    {
     "name": "stdout",
     "output_type": "stream",
     "text": [
      "/kaggle/input/spaceship-titanic/sample_submission.csv\n",
      "/kaggle/input/spaceship-titanic/train.csv\n",
      "/kaggle/input/spaceship-titanic/test.csv\n"
     ]
    }
   ],
   "source": [
    "# This Python 3 environment comes with many helpful analytics libraries installed\n",
    "# It is defined by the kaggle/python Docker image: https://github.com/kaggle/docker-python\n",
    "# For example, here's several helpful packages to load\n",
    "\n",
    "import numpy as np # linear algebra\n",
    "import pandas as pd # data processing, CSV file I/O (e.g. pd.read_csv)\n",
    "\n",
    "# Input data files are available in the read-only \"../input/\" directory\n",
    "# For example, running this (by clicking run or pressing Shift+Enter) will list all files under the input directory\n",
    "\n",
    "import os\n",
    "for dirname, _, filenames in os.walk('/kaggle/input'):\n",
    "    for filename in filenames:\n",
    "        print(os.path.join(dirname, filename))\n",
    "\n",
    "# You can write up to 20GB to the current directory (/kaggle/working/) that gets preserved as output when you create a version using \"Save & Run All\" \n",
    "# You can also write temporary files to /kaggle/temp/, but they won't be saved outside of the current session"
   ]
  },
  {
   "cell_type": "markdown",
   "id": "e99179a5",
   "metadata": {
    "papermill": {
     "duration": 0.039599,
     "end_time": "2022-04-03T08:32:23.269658",
     "exception": false,
     "start_time": "2022-04-03T08:32:23.230059",
     "status": "completed"
    },
    "tags": []
   },
   "source": [
    "아니그니까, 잘 가다가 이상한데로 간(다른 차원?) 사람들을 찾으라는건데\n",
    "저온수면중이면 갇혀있었고 = 다른데로 못감\n",
    "VIP는 VIP대우를 받아서 잘 옮겨졌고(?)\n",
    "그 나머지를 찾는건데... \n",
    "- 저온수면 + vip 모두 잘 옮겨졌으니 빼도 되나?\n",
    "- 쓸데없는 cabin 이런거 값 필요없어 ?\n",
    "- 결측치가 반 이상이면 솔직히 필요없어 보여 ?\n",
    "- homeplanet, destination 연관성 ?\n"
   ]
  },
  {
   "cell_type": "markdown",
   "id": "dc8a8fa1",
   "metadata": {
    "papermill": {
     "duration": 0.031582,
     "end_time": "2022-04-03T08:32:23.336986",
     "exception": false,
     "start_time": "2022-04-03T08:32:23.305404",
     "status": "completed"
    },
    "tags": []
   },
   "source": [
    "# Step1.라이브러리 및 데이터 불러오기\n",
    "- 라이브러리 버전 확인!"
   ]
  },
  {
   "cell_type": "code",
   "execution_count": 2,
   "id": "654ac037",
   "metadata": {
    "execution": {
     "iopub.execute_input": "2022-04-03T08:32:23.420199Z",
     "iopub.status.busy": "2022-04-03T08:32:23.419361Z",
     "iopub.status.idle": "2022-04-03T08:32:23.426149Z",
     "shell.execute_reply": "2022-04-03T08:32:23.426801Z",
     "shell.execute_reply.started": "2022-04-03T08:21:29.502749Z"
    },
    "papermill": {
     "duration": 0.054969,
     "end_time": "2022-04-03T08:32:23.427056",
     "exception": false,
     "start_time": "2022-04-03T08:32:23.372087",
     "status": "completed"
    },
    "tags": []
   },
   "outputs": [
    {
     "name": "stdout",
     "output_type": "stream",
     "text": [
      "1.3.5\n",
      "1.20.3\n"
     ]
    }
   ],
   "source": [
    "import pandas as pd\n",
    "import numpy as np\n",
    "\n",
    "import warnings\n",
    "warnings.filterwarnings('ignore')# 경고메세지 필요없음\n",
    "\n",
    "print(pd.__version__)\n",
    "print(np.__version__)"
   ]
  },
  {
   "cell_type": "code",
   "execution_count": 3,
   "id": "6f867c20",
   "metadata": {
    "execution": {
     "iopub.execute_input": "2022-04-03T08:32:23.494406Z",
     "iopub.status.busy": "2022-04-03T08:32:23.493651Z",
     "iopub.status.idle": "2022-04-03T08:32:23.531148Z",
     "shell.execute_reply": "2022-04-03T08:32:23.531688Z",
     "shell.execute_reply.started": "2022-04-03T08:21:29.563107Z"
    },
    "papermill": {
     "duration": 0.069779,
     "end_time": "2022-04-03T08:32:23.531868",
     "exception": false,
     "start_time": "2022-04-03T08:32:23.462089",
     "status": "completed"
    },
    "tags": []
   },
   "outputs": [
    {
     "data": {
      "text/html": [
       "<div>\n",
       "<style scoped>\n",
       "    .dataframe tbody tr th:only-of-type {\n",
       "        vertical-align: middle;\n",
       "    }\n",
       "\n",
       "    .dataframe tbody tr th {\n",
       "        vertical-align: top;\n",
       "    }\n",
       "\n",
       "    .dataframe thead th {\n",
       "        text-align: right;\n",
       "    }\n",
       "</style>\n",
       "<table border=\"1\" class=\"dataframe\">\n",
       "  <thead>\n",
       "    <tr style=\"text-align: right;\">\n",
       "      <th></th>\n",
       "      <th>PassengerId</th>\n",
       "      <th>Transported</th>\n",
       "    </tr>\n",
       "  </thead>\n",
       "  <tbody>\n",
       "    <tr>\n",
       "      <th>0</th>\n",
       "      <td>0013_01</td>\n",
       "      <td>False</td>\n",
       "    </tr>\n",
       "    <tr>\n",
       "      <th>1</th>\n",
       "      <td>0018_01</td>\n",
       "      <td>False</td>\n",
       "    </tr>\n",
       "    <tr>\n",
       "      <th>2</th>\n",
       "      <td>0019_01</td>\n",
       "      <td>False</td>\n",
       "    </tr>\n",
       "    <tr>\n",
       "      <th>3</th>\n",
       "      <td>0021_01</td>\n",
       "      <td>False</td>\n",
       "    </tr>\n",
       "    <tr>\n",
       "      <th>4</th>\n",
       "      <td>0023_01</td>\n",
       "      <td>False</td>\n",
       "    </tr>\n",
       "  </tbody>\n",
       "</table>\n",
       "</div>"
      ],
      "text/plain": [
       "  PassengerId  Transported\n",
       "0     0013_01        False\n",
       "1     0018_01        False\n",
       "2     0019_01        False\n",
       "3     0021_01        False\n",
       "4     0023_01        False"
      ]
     },
     "execution_count": 3,
     "metadata": {},
     "output_type": "execute_result"
    }
   ],
   "source": [
    "import pandas as pd\n",
    "submission = pd.read_csv(\"/kaggle/input/spaceship-titanic/sample_submission.csv\")\n",
    "submission.head()"
   ]
  },
  {
   "cell_type": "code",
   "execution_count": 4,
   "id": "df40ce3d",
   "metadata": {
    "execution": {
     "iopub.execute_input": "2022-04-03T08:32:23.590397Z",
     "iopub.status.busy": "2022-04-03T08:32:23.589692Z",
     "iopub.status.idle": "2022-04-03T08:32:23.662196Z",
     "shell.execute_reply": "2022-04-03T08:32:23.663089Z",
     "shell.execute_reply.started": "2022-04-03T08:21:29.599702Z"
    },
    "papermill": {
     "duration": 0.104502,
     "end_time": "2022-04-03T08:32:23.663297",
     "exception": false,
     "start_time": "2022-04-03T08:32:23.558795",
     "status": "completed"
    },
    "tags": []
   },
   "outputs": [
    {
     "data": {
      "text/html": [
       "<div>\n",
       "<style scoped>\n",
       "    .dataframe tbody tr th:only-of-type {\n",
       "        vertical-align: middle;\n",
       "    }\n",
       "\n",
       "    .dataframe tbody tr th {\n",
       "        vertical-align: top;\n",
       "    }\n",
       "\n",
       "    .dataframe thead th {\n",
       "        text-align: right;\n",
       "    }\n",
       "</style>\n",
       "<table border=\"1\" class=\"dataframe\">\n",
       "  <thead>\n",
       "    <tr style=\"text-align: right;\">\n",
       "      <th></th>\n",
       "      <th>PassengerId</th>\n",
       "      <th>HomePlanet</th>\n",
       "      <th>CryoSleep</th>\n",
       "      <th>Cabin</th>\n",
       "      <th>Destination</th>\n",
       "      <th>Age</th>\n",
       "      <th>VIP</th>\n",
       "      <th>RoomService</th>\n",
       "      <th>FoodCourt</th>\n",
       "      <th>ShoppingMall</th>\n",
       "      <th>Spa</th>\n",
       "      <th>VRDeck</th>\n",
       "      <th>Name</th>\n",
       "      <th>Transported</th>\n",
       "    </tr>\n",
       "  </thead>\n",
       "  <tbody>\n",
       "    <tr>\n",
       "      <th>0</th>\n",
       "      <td>0001_01</td>\n",
       "      <td>Europa</td>\n",
       "      <td>False</td>\n",
       "      <td>B/0/P</td>\n",
       "      <td>TRAPPIST-1e</td>\n",
       "      <td>39.0</td>\n",
       "      <td>False</td>\n",
       "      <td>0.0</td>\n",
       "      <td>0.0</td>\n",
       "      <td>0.0</td>\n",
       "      <td>0.0</td>\n",
       "      <td>0.0</td>\n",
       "      <td>Maham Ofracculy</td>\n",
       "      <td>False</td>\n",
       "    </tr>\n",
       "    <tr>\n",
       "      <th>1</th>\n",
       "      <td>0002_01</td>\n",
       "      <td>Earth</td>\n",
       "      <td>False</td>\n",
       "      <td>F/0/S</td>\n",
       "      <td>TRAPPIST-1e</td>\n",
       "      <td>24.0</td>\n",
       "      <td>False</td>\n",
       "      <td>109.0</td>\n",
       "      <td>9.0</td>\n",
       "      <td>25.0</td>\n",
       "      <td>549.0</td>\n",
       "      <td>44.0</td>\n",
       "      <td>Juanna Vines</td>\n",
       "      <td>True</td>\n",
       "    </tr>\n",
       "    <tr>\n",
       "      <th>2</th>\n",
       "      <td>0003_01</td>\n",
       "      <td>Europa</td>\n",
       "      <td>False</td>\n",
       "      <td>A/0/S</td>\n",
       "      <td>TRAPPIST-1e</td>\n",
       "      <td>58.0</td>\n",
       "      <td>True</td>\n",
       "      <td>43.0</td>\n",
       "      <td>3576.0</td>\n",
       "      <td>0.0</td>\n",
       "      <td>6715.0</td>\n",
       "      <td>49.0</td>\n",
       "      <td>Altark Susent</td>\n",
       "      <td>False</td>\n",
       "    </tr>\n",
       "    <tr>\n",
       "      <th>3</th>\n",
       "      <td>0003_02</td>\n",
       "      <td>Europa</td>\n",
       "      <td>False</td>\n",
       "      <td>A/0/S</td>\n",
       "      <td>TRAPPIST-1e</td>\n",
       "      <td>33.0</td>\n",
       "      <td>False</td>\n",
       "      <td>0.0</td>\n",
       "      <td>1283.0</td>\n",
       "      <td>371.0</td>\n",
       "      <td>3329.0</td>\n",
       "      <td>193.0</td>\n",
       "      <td>Solam Susent</td>\n",
       "      <td>False</td>\n",
       "    </tr>\n",
       "    <tr>\n",
       "      <th>4</th>\n",
       "      <td>0004_01</td>\n",
       "      <td>Earth</td>\n",
       "      <td>False</td>\n",
       "      <td>F/1/S</td>\n",
       "      <td>TRAPPIST-1e</td>\n",
       "      <td>16.0</td>\n",
       "      <td>False</td>\n",
       "      <td>303.0</td>\n",
       "      <td>70.0</td>\n",
       "      <td>151.0</td>\n",
       "      <td>565.0</td>\n",
       "      <td>2.0</td>\n",
       "      <td>Willy Santantines</td>\n",
       "      <td>True</td>\n",
       "    </tr>\n",
       "  </tbody>\n",
       "</table>\n",
       "</div>"
      ],
      "text/plain": [
       "  PassengerId HomePlanet CryoSleep  Cabin  Destination   Age    VIP  \\\n",
       "0     0001_01     Europa     False  B/0/P  TRAPPIST-1e  39.0  False   \n",
       "1     0002_01      Earth     False  F/0/S  TRAPPIST-1e  24.0  False   \n",
       "2     0003_01     Europa     False  A/0/S  TRAPPIST-1e  58.0   True   \n",
       "3     0003_02     Europa     False  A/0/S  TRAPPIST-1e  33.0  False   \n",
       "4     0004_01      Earth     False  F/1/S  TRAPPIST-1e  16.0  False   \n",
       "\n",
       "   RoomService  FoodCourt  ShoppingMall     Spa  VRDeck               Name  \\\n",
       "0          0.0        0.0           0.0     0.0     0.0    Maham Ofracculy   \n",
       "1        109.0        9.0          25.0   549.0    44.0       Juanna Vines   \n",
       "2         43.0     3576.0           0.0  6715.0    49.0      Altark Susent   \n",
       "3          0.0     1283.0         371.0  3329.0   193.0       Solam Susent   \n",
       "4        303.0       70.0         151.0   565.0     2.0  Willy Santantines   \n",
       "\n",
       "   Transported  \n",
       "0        False  \n",
       "1         True  \n",
       "2        False  \n",
       "3        False  \n",
       "4         True  "
      ]
     },
     "execution_count": 4,
     "metadata": {},
     "output_type": "execute_result"
    }
   ],
   "source": [
    "train= pd.read_csv(\"/kaggle/input/spaceship-titanic/train.csv\")\n",
    "train.head()\n",
    "# 모델 학습 에 필요한 데이터 \n",
    "# Target = Transported"
   ]
  },
  {
   "cell_type": "code",
   "execution_count": 5,
   "id": "830a4458",
   "metadata": {
    "execution": {
     "iopub.execute_input": "2022-04-03T08:32:23.722915Z",
     "iopub.status.busy": "2022-04-03T08:32:23.721936Z",
     "iopub.status.idle": "2022-04-03T08:32:23.765969Z",
     "shell.execute_reply": "2022-04-03T08:32:23.766503Z",
     "shell.execute_reply.started": "2022-04-03T08:21:29.665258Z"
    },
    "papermill": {
     "duration": 0.075858,
     "end_time": "2022-04-03T08:32:23.766683",
     "exception": false,
     "start_time": "2022-04-03T08:32:23.690825",
     "status": "completed"
    },
    "tags": []
   },
   "outputs": [
    {
     "data": {
      "text/html": [
       "<div>\n",
       "<style scoped>\n",
       "    .dataframe tbody tr th:only-of-type {\n",
       "        vertical-align: middle;\n",
       "    }\n",
       "\n",
       "    .dataframe tbody tr th {\n",
       "        vertical-align: top;\n",
       "    }\n",
       "\n",
       "    .dataframe thead th {\n",
       "        text-align: right;\n",
       "    }\n",
       "</style>\n",
       "<table border=\"1\" class=\"dataframe\">\n",
       "  <thead>\n",
       "    <tr style=\"text-align: right;\">\n",
       "      <th></th>\n",
       "      <th>PassengerId</th>\n",
       "      <th>HomePlanet</th>\n",
       "      <th>CryoSleep</th>\n",
       "      <th>Cabin</th>\n",
       "      <th>Destination</th>\n",
       "      <th>Age</th>\n",
       "      <th>VIP</th>\n",
       "      <th>RoomService</th>\n",
       "      <th>FoodCourt</th>\n",
       "      <th>ShoppingMall</th>\n",
       "      <th>Spa</th>\n",
       "      <th>VRDeck</th>\n",
       "      <th>Name</th>\n",
       "    </tr>\n",
       "  </thead>\n",
       "  <tbody>\n",
       "    <tr>\n",
       "      <th>0</th>\n",
       "      <td>0013_01</td>\n",
       "      <td>Earth</td>\n",
       "      <td>True</td>\n",
       "      <td>G/3/S</td>\n",
       "      <td>TRAPPIST-1e</td>\n",
       "      <td>27.0</td>\n",
       "      <td>False</td>\n",
       "      <td>0.0</td>\n",
       "      <td>0.0</td>\n",
       "      <td>0.0</td>\n",
       "      <td>0.0</td>\n",
       "      <td>0.0</td>\n",
       "      <td>Nelly Carsoning</td>\n",
       "    </tr>\n",
       "    <tr>\n",
       "      <th>1</th>\n",
       "      <td>0018_01</td>\n",
       "      <td>Earth</td>\n",
       "      <td>False</td>\n",
       "      <td>F/4/S</td>\n",
       "      <td>TRAPPIST-1e</td>\n",
       "      <td>19.0</td>\n",
       "      <td>False</td>\n",
       "      <td>0.0</td>\n",
       "      <td>9.0</td>\n",
       "      <td>0.0</td>\n",
       "      <td>2823.0</td>\n",
       "      <td>0.0</td>\n",
       "      <td>Lerome Peckers</td>\n",
       "    </tr>\n",
       "    <tr>\n",
       "      <th>2</th>\n",
       "      <td>0019_01</td>\n",
       "      <td>Europa</td>\n",
       "      <td>True</td>\n",
       "      <td>C/0/S</td>\n",
       "      <td>55 Cancri e</td>\n",
       "      <td>31.0</td>\n",
       "      <td>False</td>\n",
       "      <td>0.0</td>\n",
       "      <td>0.0</td>\n",
       "      <td>0.0</td>\n",
       "      <td>0.0</td>\n",
       "      <td>0.0</td>\n",
       "      <td>Sabih Unhearfus</td>\n",
       "    </tr>\n",
       "    <tr>\n",
       "      <th>3</th>\n",
       "      <td>0021_01</td>\n",
       "      <td>Europa</td>\n",
       "      <td>False</td>\n",
       "      <td>C/1/S</td>\n",
       "      <td>TRAPPIST-1e</td>\n",
       "      <td>38.0</td>\n",
       "      <td>False</td>\n",
       "      <td>0.0</td>\n",
       "      <td>6652.0</td>\n",
       "      <td>0.0</td>\n",
       "      <td>181.0</td>\n",
       "      <td>585.0</td>\n",
       "      <td>Meratz Caltilter</td>\n",
       "    </tr>\n",
       "    <tr>\n",
       "      <th>4</th>\n",
       "      <td>0023_01</td>\n",
       "      <td>Earth</td>\n",
       "      <td>False</td>\n",
       "      <td>F/5/S</td>\n",
       "      <td>TRAPPIST-1e</td>\n",
       "      <td>20.0</td>\n",
       "      <td>False</td>\n",
       "      <td>10.0</td>\n",
       "      <td>0.0</td>\n",
       "      <td>635.0</td>\n",
       "      <td>0.0</td>\n",
       "      <td>0.0</td>\n",
       "      <td>Brence Harperez</td>\n",
       "    </tr>\n",
       "  </tbody>\n",
       "</table>\n",
       "</div>"
      ],
      "text/plain": [
       "  PassengerId HomePlanet CryoSleep  Cabin  Destination   Age    VIP  \\\n",
       "0     0013_01      Earth      True  G/3/S  TRAPPIST-1e  27.0  False   \n",
       "1     0018_01      Earth     False  F/4/S  TRAPPIST-1e  19.0  False   \n",
       "2     0019_01     Europa      True  C/0/S  55 Cancri e  31.0  False   \n",
       "3     0021_01     Europa     False  C/1/S  TRAPPIST-1e  38.0  False   \n",
       "4     0023_01      Earth     False  F/5/S  TRAPPIST-1e  20.0  False   \n",
       "\n",
       "   RoomService  FoodCourt  ShoppingMall     Spa  VRDeck              Name  \n",
       "0          0.0        0.0           0.0     0.0     0.0   Nelly Carsoning  \n",
       "1          0.0        9.0           0.0  2823.0     0.0    Lerome Peckers  \n",
       "2          0.0        0.0           0.0     0.0     0.0   Sabih Unhearfus  \n",
       "3          0.0     6652.0           0.0   181.0   585.0  Meratz Caltilter  \n",
       "4         10.0        0.0         635.0     0.0     0.0   Brence Harperez  "
      ]
     },
     "execution_count": 5,
     "metadata": {},
     "output_type": "execute_result"
    }
   ],
   "source": [
    "test= pd.read_csv(\"/kaggle/input/spaceship-titanic/test.csv\")\n",
    "test.head()\n",
    "# 모델 적용 대상 데이터"
   ]
  },
  {
   "cell_type": "code",
   "execution_count": 6,
   "id": "097089c0",
   "metadata": {
    "execution": {
     "iopub.execute_input": "2022-04-03T08:32:23.826947Z",
     "iopub.status.busy": "2022-04-03T08:32:23.825849Z",
     "iopub.status.idle": "2022-04-03T08:32:23.859161Z",
     "shell.execute_reply": "2022-04-03T08:32:23.858513Z",
     "shell.execute_reply.started": "2022-04-03T08:21:29.713184Z"
    },
    "papermill": {
     "duration": 0.06464,
     "end_time": "2022-04-03T08:32:23.859357",
     "exception": false,
     "start_time": "2022-04-03T08:32:23.794717",
     "status": "completed"
    },
    "tags": []
   },
   "outputs": [
    {
     "name": "stdout",
     "output_type": "stream",
     "text": [
      "<class 'pandas.core.frame.DataFrame'>\n",
      "RangeIndex: 8693 entries, 0 to 8692\n",
      "Data columns (total 14 columns):\n",
      " #   Column        Non-Null Count  Dtype  \n",
      "---  ------        --------------  -----  \n",
      " 0   PassengerId   8693 non-null   object \n",
      " 1   HomePlanet    8492 non-null   object \n",
      " 2   CryoSleep     8476 non-null   object \n",
      " 3   Cabin         8494 non-null   object \n",
      " 4   Destination   8511 non-null   object \n",
      " 5   Age           8514 non-null   float64\n",
      " 6   VIP           8490 non-null   object \n",
      " 7   RoomService   8512 non-null   float64\n",
      " 8   FoodCourt     8510 non-null   float64\n",
      " 9   ShoppingMall  8485 non-null   float64\n",
      " 10  Spa           8510 non-null   float64\n",
      " 11  VRDeck        8505 non-null   float64\n",
      " 12  Name          8493 non-null   object \n",
      " 13  Transported   8693 non-null   bool   \n",
      "dtypes: bool(1), float64(6), object(7)\n",
      "memory usage: 891.5+ KB\n"
     ]
    }
   ],
   "source": [
    "train.info()"
   ]
  },
  {
   "cell_type": "code",
   "execution_count": 7,
   "id": "55f70617",
   "metadata": {
    "execution": {
     "iopub.execute_input": "2022-04-03T08:32:23.925913Z",
     "iopub.status.busy": "2022-04-03T08:32:23.922653Z",
     "iopub.status.idle": "2022-04-03T08:32:23.935829Z",
     "shell.execute_reply": "2022-04-03T08:32:23.936394Z",
     "shell.execute_reply.started": "2022-04-03T08:21:29.745912Z"
    },
    "papermill": {
     "duration": 0.047114,
     "end_time": "2022-04-03T08:32:23.936564",
     "exception": false,
     "start_time": "2022-04-03T08:32:23.889450",
     "status": "completed"
    },
    "tags": []
   },
   "outputs": [
    {
     "name": "stdout",
     "output_type": "stream",
     "text": [
      "<class 'pandas.core.frame.DataFrame'>\n",
      "RangeIndex: 4277 entries, 0 to 4276\n",
      "Data columns (total 13 columns):\n",
      " #   Column        Non-Null Count  Dtype  \n",
      "---  ------        --------------  -----  \n",
      " 0   PassengerId   4277 non-null   object \n",
      " 1   HomePlanet    4190 non-null   object \n",
      " 2   CryoSleep     4184 non-null   object \n",
      " 3   Cabin         4177 non-null   object \n",
      " 4   Destination   4185 non-null   object \n",
      " 5   Age           4186 non-null   float64\n",
      " 6   VIP           4184 non-null   object \n",
      " 7   RoomService   4195 non-null   float64\n",
      " 8   FoodCourt     4171 non-null   float64\n",
      " 9   ShoppingMall  4179 non-null   float64\n",
      " 10  Spa           4176 non-null   float64\n",
      " 11  VRDeck        4197 non-null   float64\n",
      " 12  Name          4183 non-null   object \n",
      "dtypes: float64(6), object(7)\n",
      "memory usage: 434.5+ KB\n"
     ]
    }
   ],
   "source": [
    "test.info()"
   ]
  },
  {
   "cell_type": "code",
   "execution_count": 8,
   "id": "b2632aec",
   "metadata": {
    "execution": {
     "iopub.execute_input": "2022-04-03T08:32:24.000044Z",
     "iopub.status.busy": "2022-04-03T08:32:23.999182Z",
     "iopub.status.idle": "2022-04-03T08:32:24.002729Z",
     "shell.execute_reply": "2022-04-03T08:32:24.003168Z",
     "shell.execute_reply.started": "2022-04-03T08:21:29.763343Z"
    },
    "papermill": {
     "duration": 0.038131,
     "end_time": "2022-04-03T08:32:24.003399",
     "exception": false,
     "start_time": "2022-04-03T08:32:23.965268",
     "status": "completed"
    },
    "tags": []
   },
   "outputs": [
    {
     "name": "stdout",
     "output_type": "stream",
     "text": [
      "\u001b[94m train set have 8693 rows and 14 columns.\n",
      "\u001b[94m test set have 4277 rows and 13 columns.\n",
      "\u001b[94m submission set have 4277 rows and 2 columns.\n"
     ]
    }
   ],
   "source": [
    "print(f'\\033[94m train set have {train.shape[0]} rows and {train.shape[1]} columns.') #문자색 지정\n",
    "print(f'\\033[94m test set have {test.shape[0]} rows and {test.shape[1]} columns.') \n",
    "print(f'\\033[94m submission set have {submission.shape[0]} rows and {submission.shape[1]} columns.') "
   ]
  },
  {
   "cell_type": "code",
   "execution_count": 9,
   "id": "49cb24da",
   "metadata": {
    "execution": {
     "iopub.execute_input": "2022-04-03T08:32:24.067506Z",
     "iopub.status.busy": "2022-04-03T08:32:24.066810Z",
     "iopub.status.idle": "2022-04-03T08:32:24.086203Z",
     "shell.execute_reply": "2022-04-03T08:32:24.086709Z",
     "shell.execute_reply.started": "2022-04-03T08:21:29.770712Z"
    },
    "papermill": {
     "duration": 0.054236,
     "end_time": "2022-04-03T08:32:24.086881",
     "exception": false,
     "start_time": "2022-04-03T08:32:24.032645",
     "status": "completed"
    },
    "tags": []
   },
   "outputs": [
    {
     "name": "stdout",
     "output_type": "stream",
     "text": [
      "\u001b[31m\n",
      "CryoSleep       217\n",
      "ShoppingMall    208\n",
      "VIP             203\n",
      "HomePlanet      201\n",
      "Name            200\n",
      "Cabin           199\n",
      "VRDeck          188\n",
      "FoodCourt       183\n",
      "Spa             183\n",
      "Destination     182\n",
      "RoomService     181\n",
      "Age             179\n",
      "PassengerId       0\n",
      "Transported       0\n",
      "dtype: int64\n",
      "\u001b[32m\n",
      "FoodCourt       106\n",
      "Spa             101\n",
      "Cabin           100\n",
      "ShoppingMall     98\n",
      "Name             94\n",
      "CryoSleep        93\n",
      "VIP              93\n",
      "Destination      92\n",
      "Age              91\n",
      "HomePlanet       87\n",
      "RoomService      82\n",
      "VRDeck           80\n",
      "PassengerId       0\n",
      "dtype: int64\n"
     ]
    }
   ],
   "source": [
    "print(f'\\033[31m') # 문자색 지정\n",
    "print((train.isna().sum().sort_values(ascending = False))) # 내림차순 정렬, 결측치 합\n",
    "print(f'\\033[32m')\n",
    "print((test.isna().sum().sort_values(ascending = False)))"
   ]
  },
  {
   "cell_type": "code",
   "execution_count": 10,
   "id": "62dabbd8",
   "metadata": {
    "execution": {
     "iopub.execute_input": "2022-04-03T08:32:24.154548Z",
     "iopub.status.busy": "2022-04-03T08:32:24.153653Z",
     "iopub.status.idle": "2022-04-03T08:32:24.179613Z",
     "shell.execute_reply": "2022-04-03T08:32:24.180161Z",
     "shell.execute_reply.started": "2022-04-03T08:21:29.797741Z"
    },
    "papermill": {
     "duration": 0.063959,
     "end_time": "2022-04-03T08:32:24.180354",
     "exception": false,
     "start_time": "2022-04-03T08:32:24.116395",
     "status": "completed"
    },
    "tags": []
   },
   "outputs": [
    {
     "data": {
      "text/html": [
       "<div>\n",
       "<style scoped>\n",
       "    .dataframe tbody tr th:only-of-type {\n",
       "        vertical-align: middle;\n",
       "    }\n",
       "\n",
       "    .dataframe tbody tr th {\n",
       "        vertical-align: top;\n",
       "    }\n",
       "\n",
       "    .dataframe thead th {\n",
       "        text-align: right;\n",
       "    }\n",
       "</style>\n",
       "<table border=\"1\" class=\"dataframe\">\n",
       "  <thead>\n",
       "    <tr style=\"text-align: right;\">\n",
       "      <th></th>\n",
       "      <th>Age</th>\n",
       "      <th>RoomService</th>\n",
       "      <th>FoodCourt</th>\n",
       "      <th>ShoppingMall</th>\n",
       "      <th>Spa</th>\n",
       "      <th>VRDeck</th>\n",
       "    </tr>\n",
       "  </thead>\n",
       "  <tbody>\n",
       "    <tr>\n",
       "      <th>count</th>\n",
       "      <td>8514.000000</td>\n",
       "      <td>8512.000000</td>\n",
       "      <td>8510.000000</td>\n",
       "      <td>8485.000000</td>\n",
       "      <td>8510.000000</td>\n",
       "      <td>8505.000000</td>\n",
       "    </tr>\n",
       "    <tr>\n",
       "      <th>mean</th>\n",
       "      <td>28.827930</td>\n",
       "      <td>224.687617</td>\n",
       "      <td>458.077203</td>\n",
       "      <td>173.729169</td>\n",
       "      <td>311.138778</td>\n",
       "      <td>304.854791</td>\n",
       "    </tr>\n",
       "    <tr>\n",
       "      <th>std</th>\n",
       "      <td>14.489021</td>\n",
       "      <td>666.717663</td>\n",
       "      <td>1611.489240</td>\n",
       "      <td>604.696458</td>\n",
       "      <td>1136.705535</td>\n",
       "      <td>1145.717189</td>\n",
       "    </tr>\n",
       "    <tr>\n",
       "      <th>min</th>\n",
       "      <td>0.000000</td>\n",
       "      <td>0.000000</td>\n",
       "      <td>0.000000</td>\n",
       "      <td>0.000000</td>\n",
       "      <td>0.000000</td>\n",
       "      <td>0.000000</td>\n",
       "    </tr>\n",
       "    <tr>\n",
       "      <th>25%</th>\n",
       "      <td>19.000000</td>\n",
       "      <td>0.000000</td>\n",
       "      <td>0.000000</td>\n",
       "      <td>0.000000</td>\n",
       "      <td>0.000000</td>\n",
       "      <td>0.000000</td>\n",
       "    </tr>\n",
       "    <tr>\n",
       "      <th>50%</th>\n",
       "      <td>27.000000</td>\n",
       "      <td>0.000000</td>\n",
       "      <td>0.000000</td>\n",
       "      <td>0.000000</td>\n",
       "      <td>0.000000</td>\n",
       "      <td>0.000000</td>\n",
       "    </tr>\n",
       "    <tr>\n",
       "      <th>75%</th>\n",
       "      <td>38.000000</td>\n",
       "      <td>47.000000</td>\n",
       "      <td>76.000000</td>\n",
       "      <td>27.000000</td>\n",
       "      <td>59.000000</td>\n",
       "      <td>46.000000</td>\n",
       "    </tr>\n",
       "    <tr>\n",
       "      <th>max</th>\n",
       "      <td>79.000000</td>\n",
       "      <td>14327.000000</td>\n",
       "      <td>29813.000000</td>\n",
       "      <td>23492.000000</td>\n",
       "      <td>22408.000000</td>\n",
       "      <td>24133.000000</td>\n",
       "    </tr>\n",
       "  </tbody>\n",
       "</table>\n",
       "</div>"
      ],
      "text/plain": [
       "               Age   RoomService     FoodCourt  ShoppingMall           Spa  \\\n",
       "count  8514.000000   8512.000000   8510.000000   8485.000000   8510.000000   \n",
       "mean     28.827930    224.687617    458.077203    173.729169    311.138778   \n",
       "std      14.489021    666.717663   1611.489240    604.696458   1136.705535   \n",
       "min       0.000000      0.000000      0.000000      0.000000      0.000000   \n",
       "25%      19.000000      0.000000      0.000000      0.000000      0.000000   \n",
       "50%      27.000000      0.000000      0.000000      0.000000      0.000000   \n",
       "75%      38.000000     47.000000     76.000000     27.000000     59.000000   \n",
       "max      79.000000  14327.000000  29813.000000  23492.000000  22408.000000   \n",
       "\n",
       "             VRDeck  \n",
       "count   8505.000000  \n",
       "mean     304.854791  \n",
       "std     1145.717189  \n",
       "min        0.000000  \n",
       "25%        0.000000  \n",
       "50%        0.000000  \n",
       "75%       46.000000  \n",
       "max    24133.000000  "
      ]
     },
     "execution_count": 10,
     "metadata": {},
     "output_type": "execute_result"
    }
   ],
   "source": [
    "train.describe()"
   ]
  },
  {
   "cell_type": "code",
   "execution_count": 11,
   "id": "512a0130",
   "metadata": {
    "execution": {
     "iopub.execute_input": "2022-04-03T08:32:24.244958Z",
     "iopub.status.busy": "2022-04-03T08:32:24.244036Z",
     "iopub.status.idle": "2022-04-03T08:32:24.270358Z",
     "shell.execute_reply": "2022-04-03T08:32:24.269835Z",
     "shell.execute_reply.started": "2022-04-03T08:21:29.835881Z"
    },
    "papermill": {
     "duration": 0.059658,
     "end_time": "2022-04-03T08:32:24.270502",
     "exception": false,
     "start_time": "2022-04-03T08:32:24.210844",
     "status": "completed"
    },
    "tags": []
   },
   "outputs": [
    {
     "data": {
      "text/html": [
       "<div>\n",
       "<style scoped>\n",
       "    .dataframe tbody tr th:only-of-type {\n",
       "        vertical-align: middle;\n",
       "    }\n",
       "\n",
       "    .dataframe tbody tr th {\n",
       "        vertical-align: top;\n",
       "    }\n",
       "\n",
       "    .dataframe thead th {\n",
       "        text-align: right;\n",
       "    }\n",
       "</style>\n",
       "<table border=\"1\" class=\"dataframe\">\n",
       "  <thead>\n",
       "    <tr style=\"text-align: right;\">\n",
       "      <th></th>\n",
       "      <th>Age</th>\n",
       "      <th>RoomService</th>\n",
       "      <th>FoodCourt</th>\n",
       "      <th>ShoppingMall</th>\n",
       "      <th>Spa</th>\n",
       "      <th>VRDeck</th>\n",
       "    </tr>\n",
       "  </thead>\n",
       "  <tbody>\n",
       "    <tr>\n",
       "      <th>count</th>\n",
       "      <td>4186.000000</td>\n",
       "      <td>4195.000000</td>\n",
       "      <td>4171.000000</td>\n",
       "      <td>4179.000000</td>\n",
       "      <td>4176.000000</td>\n",
       "      <td>4197.000000</td>\n",
       "    </tr>\n",
       "    <tr>\n",
       "      <th>mean</th>\n",
       "      <td>28.658146</td>\n",
       "      <td>219.266269</td>\n",
       "      <td>439.484296</td>\n",
       "      <td>177.295525</td>\n",
       "      <td>303.052443</td>\n",
       "      <td>310.710031</td>\n",
       "    </tr>\n",
       "    <tr>\n",
       "      <th>std</th>\n",
       "      <td>14.179072</td>\n",
       "      <td>607.011289</td>\n",
       "      <td>1527.663045</td>\n",
       "      <td>560.821123</td>\n",
       "      <td>1117.186015</td>\n",
       "      <td>1246.994742</td>\n",
       "    </tr>\n",
       "    <tr>\n",
       "      <th>min</th>\n",
       "      <td>0.000000</td>\n",
       "      <td>0.000000</td>\n",
       "      <td>0.000000</td>\n",
       "      <td>0.000000</td>\n",
       "      <td>0.000000</td>\n",
       "      <td>0.000000</td>\n",
       "    </tr>\n",
       "    <tr>\n",
       "      <th>25%</th>\n",
       "      <td>19.000000</td>\n",
       "      <td>0.000000</td>\n",
       "      <td>0.000000</td>\n",
       "      <td>0.000000</td>\n",
       "      <td>0.000000</td>\n",
       "      <td>0.000000</td>\n",
       "    </tr>\n",
       "    <tr>\n",
       "      <th>50%</th>\n",
       "      <td>26.000000</td>\n",
       "      <td>0.000000</td>\n",
       "      <td>0.000000</td>\n",
       "      <td>0.000000</td>\n",
       "      <td>0.000000</td>\n",
       "      <td>0.000000</td>\n",
       "    </tr>\n",
       "    <tr>\n",
       "      <th>75%</th>\n",
       "      <td>37.000000</td>\n",
       "      <td>53.000000</td>\n",
       "      <td>78.000000</td>\n",
       "      <td>33.000000</td>\n",
       "      <td>50.000000</td>\n",
       "      <td>36.000000</td>\n",
       "    </tr>\n",
       "    <tr>\n",
       "      <th>max</th>\n",
       "      <td>79.000000</td>\n",
       "      <td>11567.000000</td>\n",
       "      <td>25273.000000</td>\n",
       "      <td>8292.000000</td>\n",
       "      <td>19844.000000</td>\n",
       "      <td>22272.000000</td>\n",
       "    </tr>\n",
       "  </tbody>\n",
       "</table>\n",
       "</div>"
      ],
      "text/plain": [
       "               Age   RoomService     FoodCourt  ShoppingMall           Spa  \\\n",
       "count  4186.000000   4195.000000   4171.000000   4179.000000   4176.000000   \n",
       "mean     28.658146    219.266269    439.484296    177.295525    303.052443   \n",
       "std      14.179072    607.011289   1527.663045    560.821123   1117.186015   \n",
       "min       0.000000      0.000000      0.000000      0.000000      0.000000   \n",
       "25%      19.000000      0.000000      0.000000      0.000000      0.000000   \n",
       "50%      26.000000      0.000000      0.000000      0.000000      0.000000   \n",
       "75%      37.000000     53.000000     78.000000     33.000000     50.000000   \n",
       "max      79.000000  11567.000000  25273.000000   8292.000000  19844.000000   \n",
       "\n",
       "             VRDeck  \n",
       "count   4197.000000  \n",
       "mean     310.710031  \n",
       "std     1246.994742  \n",
       "min        0.000000  \n",
       "25%        0.000000  \n",
       "50%        0.000000  \n",
       "75%       36.000000  \n",
       "max    22272.000000  "
      ]
     },
     "execution_count": 11,
     "metadata": {},
     "output_type": "execute_result"
    }
   ],
   "source": [
    "test.describe()"
   ]
  },
  {
   "cell_type": "markdown",
   "id": "aa7009ae",
   "metadata": {
    "papermill": {
     "duration": 0.030288,
     "end_time": "2022-04-03T08:32:24.332000",
     "exception": false,
     "start_time": "2022-04-03T08:32:24.301712",
     "status": "completed"
    },
    "tags": []
   },
   "source": [
    "# Step2. 탐색적 자료 분석(EDA)\n",
    "- 데이터 시각화\n",
    "- 산점도, 막대그래프, 등등\n",
    "- 그래프 해석해서 설명을 달아야 함\n",
    "- 약간의 데이터 전처리"
   ]
  },
  {
   "cell_type": "markdown",
   "id": "963db9ef",
   "metadata": {
    "papermill": {
     "duration": 0.030149,
     "end_time": "2022-04-03T08:32:24.393004",
     "exception": false,
     "start_time": "2022-04-03T08:32:24.362855",
     "status": "completed"
    },
    "tags": []
   },
   "source": [
    "- 수치형"
   ]
  },
  {
   "cell_type": "code",
   "execution_count": 12,
   "id": "710c79fa",
   "metadata": {
    "execution": {
     "iopub.execute_input": "2022-04-03T08:32:24.459833Z",
     "iopub.status.busy": "2022-04-03T08:32:24.458870Z",
     "iopub.status.idle": "2022-04-03T08:32:24.466900Z",
     "shell.execute_reply": "2022-04-03T08:32:24.467411Z",
     "shell.execute_reply.started": "2022-04-03T08:22:40.654101Z"
    },
    "papermill": {
     "duration": 0.042446,
     "end_time": "2022-04-03T08:32:24.467584",
     "exception": false,
     "start_time": "2022-04-03T08:32:24.425138",
     "status": "completed"
    },
    "tags": []
   },
   "outputs": [
    {
     "data": {
      "text/plain": [
       "Index(['Age', 'RoomService', 'FoodCourt', 'ShoppingMall', 'Spa', 'VRDeck'], dtype='object')"
      ]
     },
     "execution_count": 12,
     "metadata": {},
     "output_type": "execute_result"
    }
   ],
   "source": [
    "numeric=['int8', 'int16', 'int32', 'int64', 'float16', 'float32', 'float64']\n",
    "df_num=train.select_dtypes(include=numeric)\n",
    "df_num.columns"
   ]
  },
  {
   "cell_type": "code",
   "execution_count": 13,
   "id": "137a466c",
   "metadata": {
    "execution": {
     "iopub.execute_input": "2022-04-03T08:32:24.539535Z",
     "iopub.status.busy": "2022-04-03T08:32:24.538848Z",
     "iopub.status.idle": "2022-04-03T08:32:24.541464Z",
     "shell.execute_reply": "2022-04-03T08:32:24.541940Z",
     "shell.execute_reply.started": "2022-04-03T08:22:42.809107Z"
    },
    "papermill": {
     "duration": 0.043141,
     "end_time": "2022-04-03T08:32:24.542099",
     "exception": false,
     "start_time": "2022-04-03T08:32:24.498958",
     "status": "completed"
    },
    "tags": []
   },
   "outputs": [
    {
     "data": {
      "text/plain": [
       "Index(['Age', 'RoomService', 'FoodCourt', 'ShoppingMall', 'Spa', 'VRDeck'], dtype='object')"
      ]
     },
     "execution_count": 13,
     "metadata": {},
     "output_type": "execute_result"
    }
   ],
   "source": [
    "numeric=['int8', 'int16', 'int32', 'int64', 'float16', 'float32', 'float64']\n",
    "df_num=test.select_dtypes(include=numeric)\n",
    "df_num.columns"
   ]
  },
  {
   "cell_type": "markdown",
   "id": "41179dda",
   "metadata": {
    "papermill": {
     "duration": 0.031425,
     "end_time": "2022-04-03T08:32:24.605368",
     "exception": false,
     "start_time": "2022-04-03T08:32:24.573943",
     "status": "completed"
    },
    "tags": []
   },
   "source": [
    "- 범주형"
   ]
  },
  {
   "cell_type": "code",
   "execution_count": 14,
   "id": "7ba311a3",
   "metadata": {
    "execution": {
     "iopub.execute_input": "2022-04-03T08:32:24.675421Z",
     "iopub.status.busy": "2022-04-03T08:32:24.674391Z",
     "iopub.status.idle": "2022-04-03T08:32:24.686513Z",
     "shell.execute_reply": "2022-04-03T08:32:24.685997Z",
     "shell.execute_reply.started": "2022-04-03T08:26:49.763285Z"
    },
    "papermill": {
     "duration": 0.049616,
     "end_time": "2022-04-03T08:32:24.686657",
     "exception": false,
     "start_time": "2022-04-03T08:32:24.637041",
     "status": "completed"
    },
    "tags": []
   },
   "outputs": [
    {
     "data": {
      "text/html": [
       "<div>\n",
       "<style scoped>\n",
       "    .dataframe tbody tr th:only-of-type {\n",
       "        vertical-align: middle;\n",
       "    }\n",
       "\n",
       "    .dataframe tbody tr th {\n",
       "        vertical-align: top;\n",
       "    }\n",
       "\n",
       "    .dataframe thead th {\n",
       "        text-align: right;\n",
       "    }\n",
       "</style>\n",
       "<table border=\"1\" class=\"dataframe\">\n",
       "  <thead>\n",
       "    <tr style=\"text-align: right;\">\n",
       "      <th></th>\n",
       "      <th>PassengerId</th>\n",
       "      <th>HomePlanet</th>\n",
       "      <th>CryoSleep</th>\n",
       "      <th>Cabin</th>\n",
       "      <th>Destination</th>\n",
       "      <th>VIP</th>\n",
       "      <th>Name</th>\n",
       "    </tr>\n",
       "  </thead>\n",
       "  <tbody>\n",
       "    <tr>\n",
       "      <th>0</th>\n",
       "      <td>0001_01</td>\n",
       "      <td>Europa</td>\n",
       "      <td>False</td>\n",
       "      <td>B/0/P</td>\n",
       "      <td>TRAPPIST-1e</td>\n",
       "      <td>False</td>\n",
       "      <td>Maham Ofracculy</td>\n",
       "    </tr>\n",
       "    <tr>\n",
       "      <th>1</th>\n",
       "      <td>0002_01</td>\n",
       "      <td>Earth</td>\n",
       "      <td>False</td>\n",
       "      <td>F/0/S</td>\n",
       "      <td>TRAPPIST-1e</td>\n",
       "      <td>False</td>\n",
       "      <td>Juanna Vines</td>\n",
       "    </tr>\n",
       "    <tr>\n",
       "      <th>2</th>\n",
       "      <td>0003_01</td>\n",
       "      <td>Europa</td>\n",
       "      <td>False</td>\n",
       "      <td>A/0/S</td>\n",
       "      <td>TRAPPIST-1e</td>\n",
       "      <td>True</td>\n",
       "      <td>Altark Susent</td>\n",
       "    </tr>\n",
       "  </tbody>\n",
       "</table>\n",
       "</div>"
      ],
      "text/plain": [
       "  PassengerId HomePlanet CryoSleep  Cabin  Destination    VIP             Name\n",
       "0     0001_01     Europa     False  B/0/P  TRAPPIST-1e  False  Maham Ofracculy\n",
       "1     0002_01      Earth     False  F/0/S  TRAPPIST-1e  False     Juanna Vines\n",
       "2     0003_01     Europa     False  A/0/S  TRAPPIST-1e   True    Altark Susent"
      ]
     },
     "execution_count": 14,
     "metadata": {},
     "output_type": "execute_result"
    }
   ],
   "source": [
    "df_cat = train.select_dtypes(include = 'object')\n",
    "df_cat.head(3)"
   ]
  },
  {
   "cell_type": "code",
   "execution_count": 15,
   "id": "0901b170",
   "metadata": {
    "execution": {
     "iopub.execute_input": "2022-04-03T08:32:24.755352Z",
     "iopub.status.busy": "2022-04-03T08:32:24.754398Z",
     "iopub.status.idle": "2022-04-03T08:32:24.768132Z",
     "shell.execute_reply": "2022-04-03T08:32:24.768740Z",
     "shell.execute_reply.started": "2022-04-03T08:26:46.999443Z"
    },
    "papermill": {
     "duration": 0.049545,
     "end_time": "2022-04-03T08:32:24.768913",
     "exception": false,
     "start_time": "2022-04-03T08:32:24.719368",
     "status": "completed"
    },
    "tags": []
   },
   "outputs": [
    {
     "data": {
      "text/html": [
       "<div>\n",
       "<style scoped>\n",
       "    .dataframe tbody tr th:only-of-type {\n",
       "        vertical-align: middle;\n",
       "    }\n",
       "\n",
       "    .dataframe tbody tr th {\n",
       "        vertical-align: top;\n",
       "    }\n",
       "\n",
       "    .dataframe thead th {\n",
       "        text-align: right;\n",
       "    }\n",
       "</style>\n",
       "<table border=\"1\" class=\"dataframe\">\n",
       "  <thead>\n",
       "    <tr style=\"text-align: right;\">\n",
       "      <th></th>\n",
       "      <th>PassengerId</th>\n",
       "      <th>HomePlanet</th>\n",
       "      <th>CryoSleep</th>\n",
       "      <th>Cabin</th>\n",
       "      <th>Destination</th>\n",
       "      <th>VIP</th>\n",
       "      <th>Name</th>\n",
       "    </tr>\n",
       "  </thead>\n",
       "  <tbody>\n",
       "    <tr>\n",
       "      <th>0</th>\n",
       "      <td>0013_01</td>\n",
       "      <td>Earth</td>\n",
       "      <td>True</td>\n",
       "      <td>G/3/S</td>\n",
       "      <td>TRAPPIST-1e</td>\n",
       "      <td>False</td>\n",
       "      <td>Nelly Carsoning</td>\n",
       "    </tr>\n",
       "    <tr>\n",
       "      <th>1</th>\n",
       "      <td>0018_01</td>\n",
       "      <td>Earth</td>\n",
       "      <td>False</td>\n",
       "      <td>F/4/S</td>\n",
       "      <td>TRAPPIST-1e</td>\n",
       "      <td>False</td>\n",
       "      <td>Lerome Peckers</td>\n",
       "    </tr>\n",
       "    <tr>\n",
       "      <th>2</th>\n",
       "      <td>0019_01</td>\n",
       "      <td>Europa</td>\n",
       "      <td>True</td>\n",
       "      <td>C/0/S</td>\n",
       "      <td>55 Cancri e</td>\n",
       "      <td>False</td>\n",
       "      <td>Sabih Unhearfus</td>\n",
       "    </tr>\n",
       "  </tbody>\n",
       "</table>\n",
       "</div>"
      ],
      "text/plain": [
       "  PassengerId HomePlanet CryoSleep  Cabin  Destination    VIP             Name\n",
       "0     0013_01      Earth      True  G/3/S  TRAPPIST-1e  False  Nelly Carsoning\n",
       "1     0018_01      Earth     False  F/4/S  TRAPPIST-1e  False   Lerome Peckers\n",
       "2     0019_01     Europa      True  C/0/S  55 Cancri e  False  Sabih Unhearfus"
      ]
     },
     "execution_count": 15,
     "metadata": {},
     "output_type": "execute_result"
    }
   ],
   "source": [
    "df_cat = test.select_dtypes(include = 'object')\n",
    "df_cat.head(3)"
   ]
  },
  {
   "cell_type": "markdown",
   "id": "56b369c6",
   "metadata": {
    "papermill": {
     "duration": 0.033097,
     "end_time": "2022-04-03T08:32:24.836372",
     "exception": false,
     "start_time": "2022-04-03T08:32:24.803275",
     "status": "completed"
    },
    "tags": []
   },
   "source": [
    "- 지울거, 범주형 필요없음..일단 그래보임"
   ]
  },
  {
   "cell_type": "markdown",
   "id": "6ea9802d",
   "metadata": {
    "papermill": {
     "duration": 0.032298,
     "end_time": "2022-04-03T08:32:24.901422",
     "exception": false,
     "start_time": "2022-04-03T08:32:24.869124",
     "status": "completed"
    },
    "tags": []
   },
   "source": [
    "- missing value 찾아야하고.."
   ]
  },
  {
   "cell_type": "code",
   "execution_count": null,
   "id": "e62ac1a5",
   "metadata": {
    "papermill": {
     "duration": 0.0323,
     "end_time": "2022-04-03T08:32:24.966729",
     "exception": false,
     "start_time": "2022-04-03T08:32:24.934429",
     "status": "completed"
    },
    "tags": []
   },
   "outputs": [],
   "source": []
  },
  {
   "cell_type": "markdown",
   "id": "628a3155",
   "metadata": {
    "papermill": {
     "duration": 0.032524,
     "end_time": "2022-04-03T08:32:25.032408",
     "exception": false,
     "start_time": "2022-04-03T08:32:24.999884",
     "status": "completed"
    },
    "tags": []
   },
   "source": [
    "# Step3. 데이터 전처리\n",
    "- Feature Engineering\n",
    "- 머신러닝 모형을 돌리기 위해서 표준화, 원핫-인코딩 등\n",
    "- 파생변수 (도출변수) 만들기\n",
    "    + 왜 이 변수를 만들었는지에 대한 나의 설명이 필요"
   ]
  },
  {
   "cell_type": "markdown",
   "id": "98971fc0",
   "metadata": {
    "papermill": {
     "duration": 0.032479,
     "end_time": "2022-04-03T08:32:25.098464",
     "exception": false,
     "start_time": "2022-04-03T08:32:25.065985",
     "status": "completed"
    },
    "tags": []
   },
   "source": [
    "# Step4. 머신러닝 모형 개발\n",
    "- 모형쓸거아냐 모형에 대한 설명이 들어가 있어야 함\n",
    "- 모형 1-2개 정도만 써라\n",
    "- 교차검증, 하이퍼파라미터튜닝, 등등 훈련데이터 등등"
   ]
  },
  {
   "cell_type": "markdown",
   "id": "f51064a4",
   "metadata": {
    "papermill": {
     "duration": 0.032333,
     "end_time": "2022-04-03T08:32:25.163713",
     "exception": false,
     "start_time": "2022-04-03T08:32:25.131380",
     "status": "completed"
    },
    "tags": []
   },
   "source": [
    "# Step5. 모형 평가\n",
    "- 훈련데이터를 쪼갠다. 훈련데이터 + 검증데이터 가지고 평가\n",
    "- 테스트 데이터 건드는거 아님\n",
    "- 정확도 비교\n",
    "- 혼동행렬 (Confusion Martix) 설명\n"
   ]
  },
  {
   "cell_type": "markdown",
   "id": "9dc53407",
   "metadata": {
    "papermill": {
     "duration": 0.032237,
     "end_time": "2022-04-03T08:32:25.229238",
     "exception": false,
     "start_time": "2022-04-03T08:32:25.197001",
     "status": "completed"
    },
    "tags": []
   },
   "source": [
    "# Step6. 제출\n",
    "- 제출 양식은 만들어주신대(샘플)"
   ]
  },
  {
   "cell_type": "markdown",
   "id": "ecdd1193",
   "metadata": {
    "papermill": {
     "duration": 0.035695,
     "end_time": "2022-04-03T08:32:25.300111",
     "exception": false,
     "start_time": "2022-04-03T08:32:25.264416",
     "status": "completed"
    },
    "tags": []
   },
   "source": [
    "# 참고\n",
    "- 다른 사람의 코드 설명을 보고 쭉 따라쳤어 만약에\n",
    "- 코드 참조 했다고 명시해야함 노트북 표절 방지\n",
    "- 코드 링크 걸기\n",
    "- 저자이름, 글제목, 링크주소 ..."
   ]
  },
  {
   "cell_type": "markdown",
   "id": "66bca7de",
   "metadata": {
    "papermill": {
     "duration": 0.032325,
     "end_time": "2022-04-03T08:32:25.367359",
     "exception": false,
     "start_time": "2022-04-03T08:32:25.335034",
     "status": "completed"
    },
    "tags": []
   },
   "source": [
    "# 마감일\n",
    "- 04.12 17:40 까지\n",
    "- 제출 형태\n",
    "    + 개인 DM으로 등수 그거 캡쳐 리더보드\n",
    "    + 고용노동부 보고 양식 (다음주에 확인해서 알려주신대)"
   ]
  },
  {
   "cell_type": "code",
   "execution_count": null,
   "id": "a7c2a4c7",
   "metadata": {
    "papermill": {
     "duration": 0.032331,
     "end_time": "2022-04-03T08:32:25.432110",
     "exception": false,
     "start_time": "2022-04-03T08:32:25.399779",
     "status": "completed"
    },
    "tags": []
   },
   "outputs": [],
   "source": []
  }
 ],
 "metadata": {
  "kernelspec": {
   "display_name": "Python 3",
   "language": "python",
   "name": "python3"
  },
  "language_info": {
   "codemirror_mode": {
    "name": "ipython",
    "version": 3
   },
   "file_extension": ".py",
   "mimetype": "text/x-python",
   "name": "python",
   "nbconvert_exporter": "python",
   "pygments_lexer": "ipython3",
   "version": "3.7.12"
  },
  "papermill": {
   "default_parameters": {},
   "duration": 12.911976,
   "end_time": "2022-04-03T08:32:26.076456",
   "environment_variables": {},
   "exception": null,
   "input_path": "__notebook__.ipynb",
   "output_path": "__notebook__.ipynb",
   "parameters": {},
   "start_time": "2022-04-03T08:32:13.164480",
   "version": "2.3.3"
  }
 },
 "nbformat": 4,
 "nbformat_minor": 5
}
